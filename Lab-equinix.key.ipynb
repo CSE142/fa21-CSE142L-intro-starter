{
 "cells": [
  {
   "cell_type": "markdown",
   "metadata": {},
   "source": [
    "#KEY include Namebox.ipynb"
   ]
  },
  {
   "cell_type": "markdown",
   "metadata": {},
   "source": [
    "<div class=\"title\">Lab 1: The Performance Equation</div>"
   ]
  },
  {
   "cell_type": "markdown",
   "metadata": {},
   "source": [
    "**Welcome to the first lab of CSE142L!**\n",
    "\n",
    "The main goals of this lab are:\n",
    "\n",
    "1.  To get you set up the lab environment\n",
    "    1.  Github\n",
    "    2.  Github Classroom\n",
    "    3.  Docker\n",
    "    4.  UCSD's DSMLP cluster\n",
    "    5.  Jupyter Notebook\n",
    "2.  Gain experience with the performance equation\n",
    "3.  Collect a list of **Interesting Questions** that you probably cannot answer now, but will be able to by the end of the course.\n",
    "\n",
    "This lab will be completed on your own. \n",
    "\n",
    "Check Gradescope for due date(s)."
   ]
  },
  {
   "cell_type": "markdown",
   "metadata": {},
   "source": [
    "# FAQ and Updates\n",
    "\n",
    "* There are no updates, yet."
   ]
  },
  {
   "cell_type": "markdown",
   "metadata": {},
   "source": [
    " #KEY include about.ipynb\n"
   ]
  },
  {
   "cell_type": "markdown",
   "metadata": {},
   "source": [
    "Give it a try:"
   ]
  },
  {
   "cell_type": "markdown",
   "metadata": {
    "solution2": "shown",
    "solution2_first": true
   },
   "source": [
    "<div class='question completeness'>\n",
    "    \n",
    "<div class=\"question-text\">What will you do with your Jupyter Notebook to turn it in? (Delete _all_ incorrect answers)</div>\n",
    "\n",
    "1.  Print it out on paper and slide it under the professor's door.\n",
    "2.  Follow the directions at the end of the lab to produce a pdf\n",
    "3.  Read it aloud to a TA during office hours\n",
    "4.  Submit via gradescope.\n",
    "\n",
    "</div>"
   ]
  },
  {
   "cell_type": "markdown",
   "metadata": {
    "solution2": "shown"
   },
   "source": [
    "<div class=\"solution\">\n",
    "\n",
    "This is a solution to a \"completeness\" or \"optional\" problem.  It'll give some details of how to solve the problem.  The solutions I give will be much more complete and detailed than what you need to provide for your answers to questions.\n",
    "    \n",
    "In this case, let's analyze each possible answer:\n",
    "    \n",
    "1.  ~Since the professor is a CS professor, he doesn't know how to deal with paper and the TAs do most of the grading, so this a poor choice.~\n",
    "2.  \"Following the directions\" is always a good idea.\n",
    "3.  ~There are  about 300 of you enrolled.  The poor TAs would die of exhaustion and boredom.~\n",
    "4.  Yes!\n",
    "\n",
    "So you should have deleted 1 and 3.\n",
    "    \n",
    "</div>"
   ]
  },
  {
   "cell_type": "markdown",
   "metadata": {},
   "source": [
    " #KEY include Login-key.ipynb"
   ]
  },
  {
   "cell_type": "markdown",
   "metadata": {},
   "source": [
    "# Grading\n",
    "\n",
    "This is a 2 week lab.\n",
    "\n",
    "Your grade for this lab will be based on your completion and submission of this notebook.\n",
    "\n",
    "| Part                       | value |\n",
    "|----------------------------|-------|\n",
    "| Reading quiz               | 3%    |\n",
    "| Jupyter Notebook           | 90%   |\n",
    "| Programming Assignment     | 5%    |\n",
    "| Post-lab survey            | 2%    |\n",
    "\n",
    "Check Gradescope for the due dates.\n",
    "\n",
    "Instructions for submitting the lab are at the end of the lab.\n",
    "\n",
    "No late work or extensions will be allowed."
   ]
  },
  {
   "cell_type": "markdown",
   "metadata": {},
   "source": [
    "# Academic Integrity Agreement"
   ]
  },
  {
   "cell_type": "markdown",
   "metadata": {},
   "source": [
    "To continue in the class, you need to agree to the following:\n",
    "\n",
    "At UCSD, academic integrity[1] means that you have the courage, even when\n",
    "it is difficult, to only submit academic work that is honest,\n",
    "responsible, respectful, fair, and trustworthy. When you excel with\n",
    "integrity in computer science, it means that you:\n",
    "\n",
    "\n",
    "**Honest** submit work that is a truthful demonstration of your\n",
    "            knowledge and abilities (rather than the knowledge and\n",
    "            abilities of another)\n",
    "\n",
    "**Responsible** manage your time so that you are not pressured to\n",
    "            complete an assignment at the last minute\n",
    "\n",
    "**Respectful** acknowledge the contributions of others to your work by\n",
    "            citing them when ve used their words or ideas (e.g., after\n",
    "            I've spoken to classmates or after I've used portions of\n",
    "            a code written by another if permitted)\n",
    "\n",
    "**Fair** complete your academic work according to stated standards and\n",
    "            expectations even when it takes longer or re struggling\n",
    "\n",
    "**Trustworthy** can be trusted to be honest, responsible, respectful,\n",
    "            and fair even when no one is watching you.\n",
    "\n",
    "\n",
    "When you act contrary to these values, you are cheating. Cheating\n",
    "undermines trust between students and professors, the value of the\n",
    "UCSD degree, and your learning/development of skills.\n",
    "\n",
    "While we can't list every behavior that would be cheating, we can give\n",
    "you some illustrative examples like the following:\n",
    "\n",
    "* Submitting any source code written by another person or copied from\n",
    "  another person, submitting homework answers which were produced by\n",
    "  another student.\n",
    "\n",
    "* Submitting code/homework you have previously submitted to another\n",
    "  course for credit without first obtaining permission from the \n",
    "  instructor. The same restriction holds for publicly available\n",
    "  code/homework solutions that you haven't written.  Taking notes\n",
    "  taken during any discussions with classmates about an assignment is\n",
    "  prohibited.\n",
    "\n",
    "* Using words or text written by someone else without citing text\n",
    "  appropriately. Every figure or sentence fragment must be\n",
    "  appropriately decorated with quotation marks or indention to\n",
    "  indicate very clearly that someone else wrote the text. In addition,\n",
    "  the passage must be labeled with a citation or citation number which\n",
    "  refers to a footnote or bibliographic entry. Citing a paper once is\n",
    "  not enough. Remember: citations should be used to illuminate a\n",
    "  viewpoint which you hold. They are not a substitute for expressing\n",
    "  your own ideas in your own words.\n",
    "\n",
    "* Submitting any portion(s) of an assignment you have previously\n",
    "  submitted for credit in another course.\n",
    "\n",
    "* Copying from a neighbor during an exam or using an unauthorized aid\n",
    "  to help you on your exam.\n",
    "\n",
    "* Altering a graded exam or assignment and resubmitting it for regrade\n",
    "\n",
    "* Allowing someone else to complete an assignment or exam for you, or\n",
    "  allowing them to pretend to be you in class (e.g., by signing an\n",
    "  attendance form or clicking for you).\n",
    "\n",
    "* Making available to others source code, documentation, or notes\n",
    "  useful for completing an assignment. You should neither produce,\n",
    "  procure, nor accept such material. This includes students in\n",
    "  current, past, and future offerings of the course, and applies to\n",
    "  electronic transmissions including email, web pages, ftp, and so on,\n",
    "  as well as hard copy such as source code listings.\n",
    "\n",
    "* Possessing (at any time) source code, data, or answers to homeworks or \n",
    "  lab questions created by another student.  Having had \n",
    "  any of these items in your possession (e.g., in your directory on the \n",
    "  campus servers or on your personal computer) at any time, constitutes \n",
    "  cheating.  You should never accept these materials from anyone for any \n",
    "  reason.\n",
    "  \n",
    "* Running other students' code from your account or allowing another student submit code using your credentials.\n",
    "\n",
    "If the behavior you are considering isn't listed here, don't assume that it is\n",
    "allowed.  Rather, you should always do independent work unless told otherwise. And\n",
    "before completing your academic work in a certain way, you should ask\n",
    "is it honest, respectful, responsible, fair, and trustworthy.  You can also ask yourself \"Would\n",
    "I be okay if my methods were exposed to the TA, professors, and fellow students?\" If the\n",
    "answer is no, you shouldn't do it.\n",
    "\n",
    "**If you have any questions about what is and isn't cheating, be sure\n",
    "  to discuss them with the instructor.**\n",
    "\n",
    "Any student who cheats, thereby undermining integrity, will be\n",
    "reported to the Academic Integrity Office.  Students who cheat face\n",
    "various disciplinary sanctions as well as academic penalty imposed by\n",
    "the instructor in the course.  _Academic penalties include, but are\n",
    "not limited to, receiving a grade of 0 for the assignment or test in\n",
    "question, and receiving an 'F' for the course._\n",
    "\n",
    "For more information on academic integrity, including how you can\n",
    "excel with integrity, as well as information on sanctioning guidelines\n",
    "for cheating, visit the Academic Integrity Office website at:\n",
    "http://academicintegrity.ucsd.edu"
   ]
  },
  {
   "cell_type": "markdown",
   "metadata": {},
   "source": [
    "<div class=\"question correctness points-1\">\n",
    "\n",
    "<div class=\"question-text\"> Please affirm your adherence to this agreement</div>\n",
    "\n",
    "Type 'I excel with integrity' here: [` type it (leave the brackets)`]\n",
    "\n",
    "By submitting this file, I, [`Your Name`], a student enrolled in\n",
    "CSE141L affirm the principle of academic integrity and commit to excel\n",
    "with integrity by completing all academic assignments in the manner\n",
    "expected as described above, informing the instructor of suspected\n",
    "instances of academic misconduct by my peers, and fully engaging in\n",
    "the class and its related assignments for the purpose of learning.\n",
    "\n",
    "To electronically sign this document, Enter your full name, date, and\n",
    "student ID below:\n",
    "\n",
    "[` full name            `] / [` date `] / [`Student ID #              `]\n",
    "\n",
    "**This document was written in part by Rick Ord, CSE Lecturer and Dr. Bertram Gallant, Director of the UCSD Academic Integrity Office.**\n",
    "\n",
    "#KEY They must sign it.  If someone doesn't you'll need to notify me.\n",
    "</div>"
   ]
  },
  {
   "cell_type": "markdown",
   "metadata": {},
   "source": [
    "# Skills to Learn\n",
    "\n",
    "1. Get access to docker\n",
    "2. git/GitHub basics\n",
    "3. Navigating a Jupyter Notebook\n",
    "4. Think code and predict its behavior."
   ]
  },
  {
   "cell_type": "markdown",
   "metadata": {},
   "source": [
    "# Building and Running Code"
   ]
  },
  {
   "cell_type": "markdown",
   "metadata": {},
   "source": [
    "In this class, we will spend a lot of time measuring the behavior of programs.  To do this accurately, we need to run the code by itself on a machine, so that other programs don't interfere with our measurements.  As you'll experience, DSMLP is a very \"noisy\" environment from a performance perspective.\n",
    "\n",
    "To get good measurements, we'll run our experiments \"in the cloud\" on some dedicated _bare metal_ servers where nothing else runs.  Since those servers are expensive, we have to share 12 of them across all the students in the course.  So, rather than have you log in directly, you can build your code on DSMLP, debug your code on DSMLP, and then submit \"jobs\" to run in the cloud.\n",
    "\n",
    "\n",
    "## Build The Code Locally\n",
    "\n",
    "We'll build executables using `make`.  For instance, you can compile `hello_world.cpp` into `hello_world.exe` by typing this at your Linux shell prompt:\n",
    "\n",
    "```\n",
    "make hello_world.exe\n",
    "```\n",
    "\n",
    "Or, you can do that from right here in the note book by putting a `!` in front.  Type \n",
    "```\n",
    "!make hello_world.exe\n",
    "```\n",
    "\n",
    "Like this:"
   ]
  },
  {
   "cell_type": "code",
   "execution_count": 2,
   "metadata": {
    "scrolled": true
   },
   "outputs": [
    {
     "name": "stdout",
     "output_type": "stream",
     "text": [
      "make: 'hello_world.exe' is up to date.\r\n"
     ]
    }
   ],
   "source": [
    "!make hello_world.exe"
   ]
  },
  {
   "cell_type": "markdown",
   "metadata": {},
   "source": [
    "## Run the Code Locally\n",
    "\n",
    "Then you can run it like so:"
   ]
  },
  {
   "cell_type": "code",
   "execution_count": 3,
   "metadata": {
    "scrolled": true
   },
   "outputs": [
    {
     "name": "stdout",
     "output_type": "stream",
     "text": [
      "Hello cse142L!\n",
      "Goodbye summer!\n"
     ]
    }
   ],
   "source": [
    "!./hello_world.exe\n",
    "!./hello_world.exe something"
   ]
  },
  {
   "cell_type": "markdown",
   "metadata": {},
   "source": [
    "<div class=\"question completeness\">\n",
    "\n",
    "<div class=\"question-text\">\n",
    "    \n",
    "In the code  cell below use the `!` to build and run `microbench.exe`.  (`microbench.exe` will say \"Execution Complete\" and exit).\n",
    "</div>\n",
    "\n",
    "</div>"
   ]
  },
  {
   "cell_type": "code",
   "execution_count": 4,
   "metadata": {},
   "outputs": [
    {
     "name": "stdout",
     "output_type": "stream",
     "text": [
      "rm -rf build/ .tmp\n",
      "rm -rf *.gv *-gv.pdf *.pin-trace #*.csv \n",
      "rm -rf *.exe *.o *.i *.s *.out *.d *.gcda *.gcno *.gprof *.gcov *.csv.raw core\t\n",
      "rm -rf \n",
      "mkdir -p build/\n",
      "cp microbench.cpp build/microbench.cpp \n",
      "gcc-8 -c -Wall -Werror -g      -fPIC -pthread  -I/cse142L/cse141pp-archlab/libarchlab -I/cse142L/cse141pp-archlab -I/usr/local/include -I/cse142L/CSE141pp-SimpleCNN/googletest/googletest/include -I/cse142L/CSE141pp-SimpleCNN  -Ibuild/  -I/cse142L/CSE141pp-Tool-Moneta/moneta/  -I. -MMD   build/microbench.cpp -o build/microbench.o\n",
      "g++-8 build/microbench.o    -pthread   -L/usr/local/lib -L/cse142L/cse141pp-archlab/libarchlab -larchlab -lpapi -lboost_program_options -lm -lquadmath -ldl    -o microbench.exe\n",
      "Loading Native engine.\n",
      "Execution complete\n"
     ]
    }
   ],
   "source": [
    "#KEY answer_cell\n",
    "#Put your commands here\n",
    "!make clean microbench.exe #KEY delete\n",
    "!./microbench.exe #KEY delete"
   ]
  },
  {
   "cell_type": "markdown",
   "metadata": {},
   "source": [
    "## Run the Code Remotely\n",
    "\n",
    "To run a job, you tell `cse142 job run` what command you would like to run.  It gathers up _all the files_ (well, not quite all of them, but most of them) in your lab directory, ships them to the bare-metal server, unpacks them, runs your command, gathers up the files that have changed, ships them back and unpacks them in your directory.  This makes it look like the command ran locally.\n",
    "\n",
    "Let's try it with something simple:"
   ]
  },
  {
   "cell_type": "code",
   "execution_count": 4,
   "metadata": {},
   "outputs": [
    {
     "name": "stdout",
     "output_type": "stream",
     "text": [
      "make: 'hello_world.exe' is up to date.\n",
      "You are submitting a job for lab \"Lab 1: The Performance Equation\" (intro).\u001b[0m\n",
      "Creating job 4dd56065-cdb6-4e5d-941e-ded68ca6426b 0.00 0.00\n",
      "Ready for submission. 4.19 4.19\n",
      "Job 4dd56065-cdb6-4e5d-941e-ded68ca6426b is in state 'PUBLISHED'. 0.65 4.84. \n",
      "Job 4dd56065-cdb6-4e5d-941e-ded68ca6426b is in state 'SCHEDULED'. 2.12 6.96 \n",
      "Job 4dd56065-cdb6-4e5d-941e-ded68ca6426b is in state 'RUNNING'. 1.07 8.04.. \n",
      "Job 4dd56065-cdb6-4e5d-941e-ded68ca6426b is in state 'DONE_RUNNING'. 3.19 11.23. \n",
      "Job 4dd56065-cdb6-4e5d-941e-ded68ca6426b succeeded. 2.13 13.36Writing results 1.00 14.36\n",
      "Hello cse142L!\n",
      "Updated these files: \n",
      "Job Complete 0.52 14.88\n"
     ]
    }
   ],
   "source": [
    "!make hello_world.exe\n",
    "!cse142 job  run './hello_world.exe'"
   ]
  },
  {
   "cell_type": "markdown",
   "metadata": {},
   "source": [
    "\n",
    "<div class=\"alert alert-block alert-danger\">\n",
    "    \n",
    "**That's not error...** While running jobs you might get this error (repeatedly):\n",
    "    \n",
    "```\n",
    "ERROR: ld.so: object '/opt/k8s-support/lib/libnss_wrapper.so' from LD_PRELOAD cannot be preloaded (cannot open shared object file): ignored.\n",
    "```\n",
    "You can safely ignore it.  We are trying to get ACMS to fix it.\n",
    "</div>\n",
    "\n",
    "\n",
    "Note that we didn't need to compile `hello_world.exe` on the remote machine because `cse142` copied the executable to the cloud.\n",
    "\n",
    "The output shows some job status information as it runs.  The job moves through several states as it executes.  The time it spends `RUNNING` is time it took your code to execute.  `PUBLISHED` and `SCHEDULED` (maybe not shown above) means it was waiting for a machine.\n",
    "\n",
    "And the output of the job is near the end:\n",
    "\n",
    "```\n",
    "Hello cse142L!\n",
    "```\n",
    "\n",
    "You can run anything you want on the other side.  For fun, let's build the executable over there and then run it:"
   ]
  },
  {
   "cell_type": "code",
   "execution_count": 5,
   "metadata": {},
   "outputs": [
    {
     "name": "stdout",
     "output_type": "stream",
     "text": [
      "You are submitting a job for lab \"Lab 1: The Performance Equation\" (intro).\u001b[0m\n",
      "Creating job d421e088-db2c-4d27-9590-7cc1d24a4fbd 0.00 0.00\n",
      "Ready for submission. 3.41 3.41\n",
      "Job d421e088-db2c-4d27-9590-7cc1d24a4fbd is in state 'PUBLISHED'. 0.40 3.81 \n",
      "Job d421e088-db2c-4d27-9590-7cc1d24a4fbd is in state 'RUNNING'. 1.06 4.86.. \n",
      "Job d421e088-db2c-4d27-9590-7cc1d24a4fbd is in state 'DONE_RUNNING'. 3.19 8.05. \n",
      "Job d421e088-db2c-4d27-9590-7cc1d24a4fbd succeeded. 2.11 10.17Writing results 1.00 11.17\n",
      "g++-8 build/hello_world.o    -pthread   -L/usr/local/lib -L/cse142L/cse141pp-archlab/libarchlab -larchlab -lpapi -lboost_program_options -lm -lquadmath -ldl    -o hello_world.exe\n",
      "Hello cse142L!\n",
      "Updated these files: ./hello_world.exe\n",
      "Job Complete 0.50 11.67\n"
     ]
    }
   ],
   "source": [
    "!rm -f hello_world.exe\n",
    "!cse142 job run 'make hello_world.exe; ./hello_world.exe' "
   ]
  },
  {
   "attachments": {
    "image.png": {
     "image/png": "[encoded data removed]"
    }
   },
   "cell_type": "markdown",
   "metadata": {},
   "source": [
    "Now you can see the compiler output and you'll notice that it copied back the files it modified while building `hello_world.exe`.\n",
    "\n",
    "```\n",
    "./build/hello_world.cpp\n",
    "./build/hello_world.d\n",
    "./build/hello_world.o\n",
    "./hello_world.exe\n",
    "```\n",
    "\n",
    "<div class=\"alert alert-block alert-danger\">\n",
    "    \n",
    "**With great power comes great responsibility.**  You can run pretty much whatever you want on the remote machine, but the code runs in a docker-based sandbox (using the same image you are running locally) and there's a time limit.  Nevertheless, there are probably ways for you to crash the remote machine or cause it to malfunction.  Doing so intentionally is against the rules.  If we find you've done so, we'll disable your account and you'll have to find some other way to complete the labs.\n",
    "    \n",
    "![image.png](attachment:image.png)\n",
    "\n",
    "</div>"
   ]
  },
  {
   "cell_type": "markdown",
   "metadata": {},
   "source": [
    "# Analyzing Program Behavior with the Performance Equation"
   ]
  },
  {
   "cell_type": "markdown",
   "metadata": {},
   "source": [
    "<div class=\"alert alert-block alert-success\">\n",
    "    \n",
    "**Keep track of questions you have.**  This lab is more about collecting questions than finding answers.  I've called out some interesting questions throughout the lab.  The last question of the lab asks for _other_ questions you had while examining the data you'll collect below, so keep track of them as you work through the lab.\n",
    "\n",
    "</div>"
   ]
  },
  {
   "cell_type": "markdown",
   "metadata": {},
   "source": [
    "## Meet the Code!\n",
    "\n",
    "In this lab we are going to analyze a few simple funtions in`microbench.cpp`.  The first is `baseline_int()`:"
   ]
  },
  {
   "cell_type": "code",
   "execution_count": 19,
   "metadata": {
    "init_cell": true
   },
   "outputs": [
    {
     "data": {
      "text/html": [
       "<style>.output_html .hll { background-color: #ffffcc }\n",
       ".output_html  { background: #f8f8f8; }\n",
       ".output_html .c { color: #408080; font-style: italic } /* Comment */\n",
       ".output_html .err { border: 1px solid #FF0000 } /* Error */\n",
       ".output_html .k { color: #008000; font-weight: bold } /* Keyword */\n",
       ".output_html .o { color: #666666 } /* Operator */\n",
       ".output_html .ch { color: #408080; font-style: italic } /* Comment.Hashbang */\n",
       ".output_html .cm { color: #408080; font-style: italic } /* Comment.Multiline */\n",
       ".output_html .cp { color: #BC7A00 } /* Comment.Preproc */\n",
       ".output_html .cpf { color: #408080; font-style: italic } /* Comment.PreprocFile */\n",
       ".output_html .c1 { color: #408080; font-style: italic } /* Comment.Single */\n",
       ".output_html .cs { color: #408080; font-style: italic } /* Comment.Special */\n",
       ".output_html .gd { color: #A00000 } /* Generic.Deleted */\n",
       ".output_html .ge { font-style: italic } /* Generic.Emph */\n",
       ".output_html .gr { color: #FF0000 } /* Generic.Error */\n",
       ".output_html .gh { color: #000080; font-weight: bold } /* Generic.Heading */\n",
       ".output_html .gi { color: #00A000 } /* Generic.Inserted */\n",
       ".output_html .go { color: #888888 } /* Generic.Output */\n",
       ".output_html .gp { color: #000080; font-weight: bold } /* Generic.Prompt */\n",
       ".output_html .gs { font-weight: bold } /* Generic.Strong */\n",
       ".output_html .gu { color: #800080; font-weight: bold } /* Generic.Subheading */\n",
       ".output_html .gt { color: #0044DD } /* Generic.Traceback */\n",
       ".output_html .kc { color: #008000; font-weight: bold } /* Keyword.Constant */\n",
       ".output_html .kd { color: #008000; font-weight: bold } /* Keyword.Declaration */\n",
       ".output_html .kn { color: #008000; font-weight: bold } /* Keyword.Namespace */\n",
       ".output_html .kp { color: #008000 } /* Keyword.Pseudo */\n",
       ".output_html .kr { color: #008000; font-weight: bold } /* Keyword.Reserved */\n",
       ".output_html .kt { color: #B00040 } /* Keyword.Type */\n",
       ".output_html .m { color: #666666 } /* Literal.Number */\n",
       ".output_html .s { color: #BA2121 } /* Literal.String */\n",
       ".output_html .na { color: #7D9029 } /* Name.Attribute */\n",
       ".output_html .nb { color: #008000 } /* Name.Builtin */\n",
       ".output_html .nc { color: #0000FF; font-weight: bold } /* Name.Class */\n",
       ".output_html .no { color: #880000 } /* Name.Constant */\n",
       ".output_html .nd { color: #AA22FF } /* Name.Decorator */\n",
       ".output_html .ni { color: #999999; font-weight: bold } /* Name.Entity */\n",
       ".output_html .ne { color: #D2413A; font-weight: bold } /* Name.Exception */\n",
       ".output_html .nf { color: #0000FF } /* Name.Function */\n",
       ".output_html .nl { color: #A0A000 } /* Name.Label */\n",
       ".output_html .nn { color: #0000FF; font-weight: bold } /* Name.Namespace */\n",
       ".output_html .nt { color: #008000; font-weight: bold } /* Name.Tag */\n",
       ".output_html .nv { color: #19177C } /* Name.Variable */\n",
       ".output_html .ow { color: #AA22FF; font-weight: bold } /* Operator.Word */\n",
       ".output_html .w { color: #bbbbbb } /* Text.Whitespace */\n",
       ".output_html .mb { color: #666666 } /* Literal.Number.Bin */\n",
       ".output_html .mf { color: #666666 } /* Literal.Number.Float */\n",
       ".output_html .mh { color: #666666 } /* Literal.Number.Hex */\n",
       ".output_html .mi { color: #666666 } /* Literal.Number.Integer */\n",
       ".output_html .mo { color: #666666 } /* Literal.Number.Oct */\n",
       ".output_html .sa { color: #BA2121 } /* Literal.String.Affix */\n",
       ".output_html .sb { color: #BA2121 } /* Literal.String.Backtick */\n",
       ".output_html .sc { color: #BA2121 } /* Literal.String.Char */\n",
       ".output_html .dl { color: #BA2121 } /* Literal.String.Delimiter */\n",
       ".output_html .sd { color: #BA2121; font-style: italic } /* Literal.String.Doc */\n",
       ".output_html .s2 { color: #BA2121 } /* Literal.String.Double */\n",
       ".output_html .se { color: #BB6622; font-weight: bold } /* Literal.String.Escape */\n",
       ".output_html .sh { color: #BA2121 } /* Literal.String.Heredoc */\n",
       ".output_html .si { color: #BB6688; font-weight: bold } /* Literal.String.Interpol */\n",
       ".output_html .sx { color: #008000 } /* Literal.String.Other */\n",
       ".output_html .sr { color: #BB6688 } /* Literal.String.Regex */\n",
       ".output_html .s1 { color: #BA2121 } /* Literal.String.Single */\n",
       ".output_html .ss { color: #19177C } /* Literal.String.Symbol */\n",
       ".output_html .bp { color: #008000 } /* Name.Builtin.Pseudo */\n",
       ".output_html .fm { color: #0000FF } /* Name.Function.Magic */\n",
       ".output_html .vc { color: #19177C } /* Name.Variable.Class */\n",
       ".output_html .vg { color: #19177C } /* Name.Variable.Global */\n",
       ".output_html .vi { color: #19177C } /* Name.Variable.Instance */\n",
       ".output_html .vm { color: #19177C } /* Name.Variable.Magic */\n",
       ".output_html .il { color: #666666 } /* Literal.Number.Integer.Long */</style><div class=\"highlight\"><pre><span></span><span class=\"c1\">// microbench.cpp:17-29 (13 lines)</span>\n",
       "<span class=\"k\">extern</span> <span class=\"s\">&quot;C&quot;</span> <span class=\"kt\">uint64_t</span> <span class=\"o\">*</span><span class=\"n\">__attribute__</span><span class=\"p\">((</span><span class=\"n\">noinline</span><span class=\"p\">))</span> <span class=\"n\">baseline_int</span><span class=\"p\">(</span><span class=\"kt\">uint64_t</span> <span class=\"o\">*</span> <span class=\"n\">array</span><span class=\"p\">,</span> <span class=\"kt\">unsigned</span> <span class=\"kt\">long</span> <span class=\"kt\">int</span> <span class=\"n\">size</span><span class=\"p\">)</span> <span class=\"p\">{</span>\n",
       "\t<span class=\"c1\">//uint64_t * array = new uint64_t[size];</span>\n",
       "\t<span class=\"k\">for</span><span class=\"p\">(</span><span class=\"n\">uint</span> <span class=\"n\">i</span> <span class=\"o\">=</span> <span class=\"mi\">0</span><span class=\"p\">;</span> <span class=\"n\">i</span> <span class=\"o\">&lt;</span> <span class=\"n\">size</span><span class=\"p\">;</span> <span class=\"n\">i</span><span class=\"o\">++</span><span class=\"p\">)</span> <span class=\"p\">{</span>\n",
       "\t\t<span class=\"n\">array</span><span class=\"p\">[</span><span class=\"n\">i</span><span class=\"p\">]</span> <span class=\"o\">=</span> <span class=\"mi\">0</span><span class=\"p\">;</span>\n",
       "\t<span class=\"p\">}</span>\n",
       "\n",
       "\t<span class=\"k\">for</span> <span class=\"p\">(</span><span class=\"n\">uint</span> <span class=\"n\">j</span> <span class=\"o\">=</span> <span class=\"mi\">0</span><span class=\"p\">;</span> <span class=\"n\">j</span> <span class=\"o\">&lt;</span> <span class=\"mi\">3</span><span class=\"p\">;</span> <span class=\"n\">j</span><span class=\"o\">++</span><span class=\"p\">)</span> <span class=\"p\">{</span>\n",
       "\t\t<span class=\"k\">for</span><span class=\"p\">(</span><span class=\"n\">uint</span> <span class=\"n\">i</span><span class=\"o\">=</span> <span class=\"mi\">1</span> <span class=\"p\">;</span> <span class=\"n\">i</span> <span class=\"o\">&lt;</span> <span class=\"n\">size</span><span class=\"p\">;</span> <span class=\"n\">i</span><span class=\"o\">++</span><span class=\"p\">)</span> <span class=\"p\">{</span>\n",
       "\t\t\t<span class=\"n\">array</span><span class=\"p\">[</span><span class=\"n\">i</span><span class=\"p\">]</span> <span class=\"o\">+=</span> <span class=\"n\">i</span><span class=\"o\">/</span><span class=\"p\">(</span><span class=\"mi\">1</span><span class=\"o\">+</span><span class=\"n\">j</span><span class=\"p\">)</span><span class=\"o\">+</span><span class=\"n\">array</span><span class=\"p\">[</span><span class=\"n\">i</span> <span class=\"o\">-</span> <span class=\"mi\">1</span><span class=\"p\">];</span>\n",
       "\t\t<span class=\"p\">}</span>\n",
       "\t<span class=\"p\">}</span>\n",
       "\t<span class=\"k\">return</span> <span class=\"n\">array</span><span class=\"p\">;</span>\n",
       "<span class=\"p\">}</span>\n",
       "</pre></div>\n"
      ],
      "text/latex": [
       "\\begin{Verbatim}[commandchars=\\\\\\{\\}]\n",
       "\\PY{c+c1}{// microbench.cpp:17\\PYZhy{}29 (13 lines)}\n",
       "\\PY{k}{extern} \\PY{l+s}{\\PYZdq{}}\\PY{l+s}{C}\\PY{l+s}{\\PYZdq{}} \\PY{k+kt}{uint64\\PYZus{}t} \\PY{o}{*}\\PY{n}{\\PYZus{}\\PYZus{}attribute\\PYZus{}\\PYZus{}}\\PY{p}{(}\\PY{p}{(}\\PY{n}{noinline}\\PY{p}{)}\\PY{p}{)} \\PY{n}{baseline\\PYZus{}int}\\PY{p}{(}\\PY{k+kt}{uint64\\PYZus{}t} \\PY{o}{*} \\PY{n}{array}\\PY{p}{,} \\PY{k+kt}{unsigned} \\PY{k+kt}{long} \\PY{k+kt}{int} \\PY{n}{size}\\PY{p}{)} \\PY{p}{\\PYZob{}}\n",
       "\t\\PY{c+c1}{//uint64\\PYZus{}t * array = new uint64\\PYZus{}t[size];}\n",
       "\t\\PY{k}{for}\\PY{p}{(}\\PY{n}{uint} \\PY{n}{i} \\PY{o}{=} \\PY{l+m+mi}{0}\\PY{p}{;} \\PY{n}{i} \\PY{o}{\\PYZlt{}} \\PY{n}{size}\\PY{p}{;} \\PY{n}{i}\\PY{o}{+}\\PY{o}{+}\\PY{p}{)} \\PY{p}{\\PYZob{}}\n",
       "\t\t\\PY{n}{array}\\PY{p}{[}\\PY{n}{i}\\PY{p}{]} \\PY{o}{=} \\PY{l+m+mi}{0}\\PY{p}{;}\n",
       "\t\\PY{p}{\\PYZcb{}}\n",
       "\n",
       "\t\\PY{k}{for} \\PY{p}{(}\\PY{n}{uint} \\PY{n}{j} \\PY{o}{=} \\PY{l+m+mi}{0}\\PY{p}{;} \\PY{n}{j} \\PY{o}{\\PYZlt{}} \\PY{l+m+mi}{3}\\PY{p}{;} \\PY{n}{j}\\PY{o}{+}\\PY{o}{+}\\PY{p}{)} \\PY{p}{\\PYZob{}}\n",
       "\t\t\\PY{k}{for}\\PY{p}{(}\\PY{n}{uint} \\PY{n}{i}\\PY{o}{=} \\PY{l+m+mi}{1} \\PY{p}{;} \\PY{n}{i} \\PY{o}{\\PYZlt{}} \\PY{n}{size}\\PY{p}{;} \\PY{n}{i}\\PY{o}{+}\\PY{o}{+}\\PY{p}{)} \\PY{p}{\\PYZob{}}\n",
       "\t\t\t\\PY{n}{array}\\PY{p}{[}\\PY{n}{i}\\PY{p}{]} \\PY{o}{+}\\PY{o}{=} \\PY{n}{i}\\PY{o}{/}\\PY{p}{(}\\PY{l+m+mi}{1}\\PY{o}{+}\\PY{n}{j}\\PY{p}{)}\\PY{o}{+}\\PY{n}{array}\\PY{p}{[}\\PY{n}{i} \\PY{o}{\\PYZhy{}} \\PY{l+m+mi}{1}\\PY{p}{]}\\PY{p}{;}\n",
       "\t\t\\PY{p}{\\PYZcb{}}\n",
       "\t\\PY{p}{\\PYZcb{}}\n",
       "\t\\PY{k}{return} \\PY{n}{array}\\PY{p}{;}\n",
       "\\PY{p}{\\PYZcb{}}\n",
       "\\end{Verbatim}\n"
      ],
      "text/plain": [
       "// microbench.cpp:17-29 (13 lines)\n",
       "extern \"C\" uint64_t *__attribute__((noinline)) baseline_int(uint64_t * array, unsigned long int size) {\n",
       "\t//uint64_t * array = new uint64_t[size];\n",
       "\tfor(uint i = 0; i < size; i++) {\n",
       "\t\tarray[i] = 0;\n",
       "\t}\n",
       "\n",
       "\tfor (uint j = 0; j < 3; j++) {\n",
       "\t\tfor(uint i= 1 ; i < size; i++) {\n",
       "\t\t\tarray[i] += i/(1+j)+array[i - 1];\n",
       "\t\t}\n",
       "\t}\n",
       "\treturn array;\n",
       "}"
      ]
     },
     "metadata": {},
     "output_type": "display_data"
    }
   ],
   "source": [
    "render_code(\"microbench.cpp\", show=\"baseline_int\", line_numbers=True) # Press shift-return to see the code"
   ]
  },
  {
   "cell_type": "markdown",
   "metadata": {},
   "source": [
    "`baseline_int()`  initilizes `array` and then does some multiplies and additions to update it's contents.  It's not a useful computation, so don't spend time trying to figure out what it does.\n",
    "\n",
    "Compile the code to create `microbench.exe` and then run it:"
   ]
  },
  {
   "cell_type": "code",
   "execution_count": 20,
   "metadata": {},
   "outputs": [
    {
     "name": "stdout",
     "output_type": "stream",
     "text": [
      "make: 'microbench.exe' is up to date.\n"
     ]
    }
   ],
   "source": [
    "!make microbench.exe"
   ]
  },
  {
   "cell_type": "code",
   "execution_count": 21,
   "metadata": {},
   "outputs": [
    {
     "name": "stdout",
     "output_type": "stream",
     "text": [
      "ArchLab driver:\n",
      "  --MHz arg (=-1)                       Which clock rate to run.  Possibilities\n",
      "                                        on this machine are: -1 \n",
      "  --function arg (=baseline_int)        Which versions to run\n",
      "  --size arg (=1024*1024)               Size.  Pass multiple values to run with\n",
      "                                        multiple sizes.\n",
      "  --reps arg (=1)                       How many times to repeat the \n",
      "                                        experiment.\n",
      "  --power-viruses arg (=0)              How many power virus threads to start\n",
      "  --help                                produce help message\n",
      "  --stats-file arg (=stats.csv)         Stats output file\n",
      "  --engine arg (=native)                Which data collector to use\n",
      "  --stat arg (=WallTime=ARCHLAB_WALL_TIME)\n",
      "                                        Which stats to collect.  Aliases are \n",
      "                                        allowed (e.g., foo=ARCHLAB_WALL_TIME)\n",
      "  --tag arg                             Extra attribute attached to each \n",
      "                                        measurement in the form \n",
      "                                        '<tag_name>=<value>'.  The tag will \n",
      "                                        appear in the output stats.\n",
      "  --stat-set arg                        Config file to load.  Contents should \n",
      "                                        be command line options, one-per line, \n",
      "                                        without the '--'.\n",
      "  --calc arg                            Calculate a derived stat. Format is \n",
      "                                        '--calc <name>=<python expression>'.  \n",
      "                                        ex: --calc IPC=instructions/cycles\n",
      "\n"
     ]
    }
   ],
   "source": [
    "!./microbench.exe --help"
   ]
  },
  {
   "cell_type": "markdown",
   "metadata": {},
   "source": [
    "As you can see, there are quite a few command line options for such a simple program.   These options are the interface to the data collection library we will be using in the class.  They control how our \"functions under test\" (FUTs) (i.e., `baseline_int()`) will be run.  We'll learn about them in more details as the quarter progresses.\n",
    "\n",
    "For now, let's use three arguments:\n",
    "\n",
    "* `--function` to run `baseline_int`\n",
    "* `--stats` to put the results in `first.csv`\n",
    "* `--reps` will run the test 2 times\n",
    "* `--size` will run tests on two different sized arrays.\n",
    "\n",
    "`microbenchmark.exe` will run all the funtions listed after `--function` for all the array sizes given by `--size`, and it will do it all 2 times, so that's a total of 4 measurements it will take.\n",
    "\n",
    "We can run it locally:"
   ]
  },
  {
   "cell_type": "code",
   "execution_count": 22,
   "metadata": {},
   "outputs": [
    {
     "name": "stdout",
     "output_type": "stream",
     "text": [
      "Loading Native engine.\n",
      "Execution complete\n"
     ]
    }
   ],
   "source": [
    "!./microbench.exe --stats first.csv --reps 2 --size 1024 2048 --function baseline_int"
   ]
  },
  {
   "cell_type": "markdown",
   "metadata": {},
   "source": [
    "`first.csv` contains some data about how the program run.  You can see the raw data:"
   ]
  },
  {
   "cell_type": "code",
   "execution_count": 23,
   "metadata": {},
   "outputs": [
    {
     "name": "stdout",
     "output_type": "stream",
     "text": [
      "size,cmdlineMHz,function,rep,viruses,WallTime,\n",
      "1024,0,baseline_int,0,0,1.2128999999999612e-05,\n",
      "1024,0,baseline_int,1,0,1.1240000000000035e-05,\n",
      "2048,0,baseline_int,0,0,2.159899999999975e-05,\n",
      "2048,0,baseline_int,1,0,4.849399999999962e-05,\n"
     ]
    }
   ],
   "source": [
    "!cat first.csv"
   ]
  },
  {
   "cell_type": "markdown",
   "metadata": {},
   "source": [
    "And render it nicely:"
   ]
  },
  {
   "cell_type": "code",
   "execution_count": 24,
   "metadata": {},
   "outputs": [
    {
     "data": {
      "text/html": [
       "<div>\n",
       "<style scoped>\n",
       "    .dataframe tbody tr th:only-of-type {\n",
       "        vertical-align: middle;\n",
       "    }\n",
       "\n",
       "    .dataframe tbody tr th {\n",
       "        vertical-align: top;\n",
       "    }\n",
       "\n",
       "    .dataframe thead th {\n",
       "        text-align: right;\n",
       "    }\n",
       "</style>\n",
       "<table border=\"1\" class=\"dataframe\">\n",
       "  <thead>\n",
       "    <tr style=\"text-align: right;\">\n",
       "      <th></th>\n",
       "      <th>size</th>\n",
       "      <th>cmdlineMHz</th>\n",
       "      <th>function</th>\n",
       "      <th>rep</th>\n",
       "      <th>viruses</th>\n",
       "      <th>WallTime</th>\n",
       "      <th>Unnamed: 6</th>\n",
       "    </tr>\n",
       "  </thead>\n",
       "  <tbody>\n",
       "    <tr>\n",
       "      <th>0</th>\n",
       "      <td>1024</td>\n",
       "      <td>0</td>\n",
       "      <td>baseline_int</td>\n",
       "      <td>0</td>\n",
       "      <td>0</td>\n",
       "      <td>0.000012</td>\n",
       "      <td>NaN</td>\n",
       "    </tr>\n",
       "    <tr>\n",
       "      <th>1</th>\n",
       "      <td>1024</td>\n",
       "      <td>0</td>\n",
       "      <td>baseline_int</td>\n",
       "      <td>1</td>\n",
       "      <td>0</td>\n",
       "      <td>0.000011</td>\n",
       "      <td>NaN</td>\n",
       "    </tr>\n",
       "    <tr>\n",
       "      <th>2</th>\n",
       "      <td>2048</td>\n",
       "      <td>0</td>\n",
       "      <td>baseline_int</td>\n",
       "      <td>0</td>\n",
       "      <td>0</td>\n",
       "      <td>0.000022</td>\n",
       "      <td>NaN</td>\n",
       "    </tr>\n",
       "    <tr>\n",
       "      <th>3</th>\n",
       "      <td>2048</td>\n",
       "      <td>0</td>\n",
       "      <td>baseline_int</td>\n",
       "      <td>1</td>\n",
       "      <td>0</td>\n",
       "      <td>0.000048</td>\n",
       "      <td>NaN</td>\n",
       "    </tr>\n",
       "  </tbody>\n",
       "</table>\n",
       "</div>"
      ],
      "text/plain": [
       "   size  cmdlineMHz      function  rep  viruses  WallTime  Unnamed: 6\n",
       "0  1024           0  baseline_int    0        0  0.000012         NaN\n",
       "1  1024           0  baseline_int    1        0  0.000011         NaN\n",
       "2  2048           0  baseline_int    0        0  0.000022         NaN\n",
       "3  2048           0  baseline_int    1        0  0.000048         NaN"
      ]
     },
     "execution_count": 24,
     "metadata": {},
     "output_type": "execute_result"
    }
   ],
   "source": [
    "render_csv(\"first.csv\")"
   ]
  },
  {
   "cell_type": "markdown",
   "metadata": {},
   "source": [
    "Here's what the column means:\n",
    "\n",
    "1.  `size` is the size of the `array`\n",
    "2.  `cmdlineMHz` is the CPU clock speed it tried to run at.   '0' means the default.\n",
    "2.  `function` is the the function in this line is for.\n",
    "3.  `rep` is the 'repetition number' (explained below).\n",
    "3.  `WallTime` is the number of seconds the program ran.\n",
    "4.  Ignore `Unnamed: 6` its existence is a bug I haven't had time to fix.\n",
    "\n",
    "Let's focus on a few columns:"
   ]
  },
  {
   "cell_type": "code",
   "execution_count": 25,
   "metadata": {},
   "outputs": [
    {
     "data": {
      "text/html": [
       "<div>\n",
       "<style scoped>\n",
       "    .dataframe tbody tr th:only-of-type {\n",
       "        vertical-align: middle;\n",
       "    }\n",
       "\n",
       "    .dataframe tbody tr th {\n",
       "        vertical-align: top;\n",
       "    }\n",
       "\n",
       "    .dataframe thead th {\n",
       "        text-align: right;\n",
       "    }\n",
       "</style>\n",
       "<table border=\"1\" class=\"dataframe\">\n",
       "  <thead>\n",
       "    <tr style=\"text-align: right;\">\n",
       "      <th></th>\n",
       "      <th>function</th>\n",
       "      <th>rep</th>\n",
       "      <th>size</th>\n",
       "    </tr>\n",
       "  </thead>\n",
       "  <tbody>\n",
       "    <tr>\n",
       "      <th>0</th>\n",
       "      <td>baseline_int</td>\n",
       "      <td>0</td>\n",
       "      <td>1024</td>\n",
       "    </tr>\n",
       "    <tr>\n",
       "      <th>1</th>\n",
       "      <td>baseline_int</td>\n",
       "      <td>1</td>\n",
       "      <td>1024</td>\n",
       "    </tr>\n",
       "    <tr>\n",
       "      <th>2</th>\n",
       "      <td>baseline_int</td>\n",
       "      <td>0</td>\n",
       "      <td>2048</td>\n",
       "    </tr>\n",
       "    <tr>\n",
       "      <th>3</th>\n",
       "      <td>baseline_int</td>\n",
       "      <td>1</td>\n",
       "      <td>2048</td>\n",
       "    </tr>\n",
       "  </tbody>\n",
       "</table>\n",
       "</div>"
      ],
      "text/plain": [
       "       function  rep  size\n",
       "0  baseline_int    0  1024\n",
       "1  baseline_int    1  1024\n",
       "2  baseline_int    0  2048\n",
       "3  baseline_int    1  2048"
      ]
     },
     "execution_count": 25,
     "metadata": {},
     "output_type": "execute_result"
    }
   ],
   "source": [
    "render_csv(\"first.csv\", columns=[\"function\", \"rep\", \"size\"])"
   ]
  },
  {
   "cell_type": "markdown",
   "metadata": {},
   "source": [
    "## Measuring The Performance Equation\n",
    "Now that we know how to take measurements, we can try to understand `baseline_int()`'s performance.  We will do this using the performance equation:\n",
    "\n",
    "```\n",
    "ET = IC * CPI * CT\n",
    "```\n",
    "\n",
    "So, we'll need to measure `IC`, `CPI`, `CT`, and `ET`, and we'll do that using \"performance counters\".  `microbench.exe` already has support for performance counters built in, we just need to tell it to collect data.  We can do that using the command below.  Here's what the addition to the command line mean.\n",
    "\n",
    "1. `--reps` will run the test 25 times so we can average across lots of runs.\n",
    "2. `--stat-set ./PE.cfg` configures `microbench.exe` to collect the data we need. (If your curious, take a look at `PE.cfg` in the lab directory)\n",
    "3.  We set the clock speed to 1900MHz with `--MHz 1900`.\n",
    "\n",
    "**Performance counters _only_ work on the bare metal servers.** In fact, `--stat-set ./PE.cfg` makes it fail locally:"
   ]
  },
  {
   "cell_type": "code",
   "execution_count": 29,
   "metadata": {},
   "outputs": [
    {
     "name": "stdout",
     "output_type": "stream",
     "text": [
      "Loading PAPI engine.\n",
      "Tracking PAPI_TOT_INS\n",
      "Problem adding PAPI_TOT_INS: Component containing event is disabled\n"
     ]
    }
   ],
   "source": [
    "!./microbench.exe --stats inst_count.csv --MHz 1900 --reps 25 --function baseline_int --stat-set ./PE.cfg"
   ]
  },
  {
   "cell_type": "markdown",
   "metadata": {},
   "source": [
    "So run it in the cloud:"
   ]
  },
  {
   "cell_type": "code",
   "execution_count": 30,
   "metadata": {},
   "outputs": [
    {
     "name": "stdout",
     "output_type": "stream",
     "text": [
      "You are submitting a job for lab \"Lab 1: Introduction To the Tools\" (intro).\u001b[0m\n",
      "\u001b[31mThe due date for Lab 1: Introduction To the Tools has passed.  You can still submit, but you might want to submit for the current lab since the target docker image may be different, and things may not behave as described in the lab writeup.\u001b[0m\n",
      "Creating job cfe658f9-41ae-4e8a-bfa9-c52e263ef16a 0.00 0.00\n",
      "Ready for submission. 4.64 4.64\n",
      "Job cfe658f9-41ae-4e8a-bfa9-c52e263ef16a is in state 'PUBLISHED'. 0.70 5.34... \n",
      "Job cfe658f9-41ae-4e8a-bfa9-c52e263ef16a is in state 'RUNNING'. 4.25 9.59... \n",
      "Job cfe658f9-41ae-4e8a-bfa9-c52e263ef16a is in state 'DONE_RUNNING'. 4.27 13.85. \n",
      "Job cfe658f9-41ae-4e8a-bfa9-c52e263ef16a succeeded. 2.12 15.98Writing results 1.00 16.98\n",
      "Loading PAPI engine.\n",
      "Tracking PAPI_TOT_INS\n",
      "Tracking PAPI_TOT_CYC\n",
      "Execution complete\n",
      "Updated these files: ./inst_count.csv\n",
      "./inst_count.csv.raw\n",
      "Job Complete 0.46 17.44\n"
     ]
    }
   ],
   "source": [
    "!cse142 job run './microbench.exe --stats inst_count.csv --MHz 1900 --reps 25 --function baseline_int --stat-set ./PE.cfg'"
   ]
  },
  {
   "cell_type": "code",
   "execution_count": 28,
   "metadata": {},
   "outputs": [
    {
     "data": {
      "text/html": [
       "<div>\n",
       "<style scoped>\n",
       "    .dataframe tbody tr th:only-of-type {\n",
       "        vertical-align: middle;\n",
       "    }\n",
       "\n",
       "    .dataframe tbody tr th {\n",
       "        vertical-align: top;\n",
       "    }\n",
       "\n",
       "    .dataframe thead th {\n",
       "        text-align: right;\n",
       "    }\n",
       "</style>\n",
       "<table border=\"1\" class=\"dataframe\">\n",
       "  <thead>\n",
       "    <tr style=\"text-align: right;\">\n",
       "      <th></th>\n",
       "      <th>IC</th>\n",
       "      <th>CPI</th>\n",
       "      <th>CT</th>\n",
       "      <th>ET</th>\n",
       "      <th>cmdlineMHz</th>\n",
       "      <th>realMHz</th>\n",
       "    </tr>\n",
       "    <tr>\n",
       "      <th>size</th>\n",
       "      <th></th>\n",
       "      <th></th>\n",
       "      <th></th>\n",
       "      <th></th>\n",
       "      <th></th>\n",
       "      <th></th>\n",
       "    </tr>\n",
       "  </thead>\n",
       "  <tbody>\n",
       "    <tr>\n",
       "      <th>1048576</th>\n",
       "      <td>1.048600e+08</td>\n",
       "      <td>0.606654</td>\n",
       "      <td>5.289995e-10</td>\n",
       "      <td>0.033655</td>\n",
       "      <td>1900.0</td>\n",
       "      <td>1890.766604</td>\n",
       "    </tr>\n",
       "  </tbody>\n",
       "</table>\n",
       "</div>"
      ],
      "text/plain": [
       "                   IC       CPI            CT        ET  cmdlineMHz  \\\n",
       "size                                                                  \n",
       "1048576  1.048600e+08  0.606654  5.289995e-10  0.033655      1900.0   \n",
       "\n",
       "             realMHz  \n",
       "size                  \n",
       "1048576  1890.766604  "
      ]
     },
     "execution_count": 28,
     "metadata": {},
     "output_type": "execute_result"
    }
   ],
   "source": [
    "render_csv(\"inst_count.csv\", columns=columns, average_by=\"size\")  # Compute averages across all the reps."
   ]
  },
  {
   "cell_type": "markdown",
   "metadata": {},
   "source": [
    "We are going to see a lof data like this so, let's be clear about what they mean:\n",
    "\n",
    "| size| IC | CPI | CT | ET | cmdlineMHz|realMHz|\n",
    "|-----|----|-----|----|----|-----------|-------|\n",
    "| size of `array` |  dynamic instructions executed | Cycles/instruction | Cycle Time | Execution Time  | MHz value from the command line| Measured MHZ|\n",
    "\n",
    "Note that `MHz` and `realMHz` don't quite match.  This is due to noise in how we measure elapsed time and \"cold start\" effects which cause the very first repetition to be much noiser than than the others."
   ]
  },
  {
   "cell_type": "markdown",
   "metadata": {},
   "source": [
    "## Instruction Count\n",
    "\n",
    "Let's see how changing the instruction count (`IC`) affects performance.  There are two ways we can increase instruction count for `baseline_int()`:\n",
    "\n",
    "1.  We can run the same experiment multiple times.\n",
    "2.  We can increase the size of `array` with the `--size` parameter."
   ]
  },
  {
   "cell_type": "markdown",
   "metadata": {},
   "source": [
    "### Running The Experiment Mutiple Times\n",
    "\n",
    "So far we've been passing `--reps` to control how many times we run an experiment.  This helps smooth out noise in the measurement, but we can crank it up to increase IC.  We'll run it 3 times with 25, 50, and 100 reps.\n",
    "\n",
    "<div class=\"alert alert-block alert-info\">\n",
    "    \n",
    "**Answer the question _before_ you look at the results.**  The goal of this question (and many more to follow) is for you to predict the answer and then see if the results match your intuition.  Don't be discouraged if you frequently get the prediction wrong:  They are intentionally challenging.  Also, a major goal of the lab is to highlight behavior that seems _non-intuitive_ so you can _improve your intuition_.\n",
    "</div\n",
    "\n",
    "Kick off the experiment below and the answer this question:"
   ]
  },
  {
   "cell_type": "markdown",
   "metadata": {},
   "source": [
    "<div class=\"question completeness\">\n",
    "    \n",
    "<div class=\"question-text\"> \n",
    "    \n",
    "In a moment, you'll see four graphs that show how each term of the performance equation changes as we increase `--reps`.  What _shape_ do you think each curve will have (linear? curved?) and what _direction_ will it go (increasing? Decreasing? flat?)?  For each term, predict the ratio between it's value at 100 and 25 (i.e., `value_at_100/value_at_25`).\n",
    "    \n",
    "</div>\n",
    "    \n",
    "<div class=\"answer\">\n",
    "\n",
    "|                        | IC      | CPI | CT | ET |\n",
    "|------------------------|---------|-----|----|----|\n",
    "    |Shape                   |       |     |    |    | \n",
    "|Direction               |         |     |    |    |\n",
    "|100 vs 25 ratio         |         |     |    |    |    \n",
    "\n",
    "</div>\n",
    "</div>"
   ]
  },
  {
   "cell_type": "code",
   "execution_count": 31,
   "metadata": {},
   "outputs": [
    {
     "name": "stdout",
     "output_type": "stream",
     "text": [
      "You are submitting a job for lab \"Lab 1: Introduction To the Tools\" (intro).\u001b[0m\n",
      "\u001b[31mThe due date for Lab 1: Introduction To the Tools has passed.  You can still submit, but you might want to submit for the current lab since the target docker image may be different, and things may not behave as described in the lab writeup.\u001b[0m\n",
      "Creating job 7df10742-5f1d-4925-83a1-7ae1565ee680 0.00 0.00\n",
      "Ready for submission. 4.94 4.94\n",
      "Job 7df10742-5f1d-4925-83a1-7ae1565ee680 is in state 'PUBLISHED'. 0.58 5.52.. \n",
      "Job 7df10742-5f1d-4925-83a1-7ae1565ee680 is in state 'RUNNING'. 3.34 8.86.. \n",
      "Job 7df10742-5f1d-4925-83a1-7ae1565ee680 is in state 'DONE_RUNNING'. 3.18 12.04. \n",
      "Job 7df10742-5f1d-4925-83a1-7ae1565ee680 succeeded. 2.13 14.17Writing results 1.00 15.17\n",
      "Loading PAPI engine.\n",
      "Tracking PAPI_TOT_INS\n",
      "Tracking PAPI_TOT_CYC\n",
      "Execution complete\n",
      "Updated these files: ./25.csv\n",
      "./25.csv.raw\n",
      "Job Complete 0.54 15.70\n",
      "You are submitting a job for lab \"Lab 1: Introduction To the Tools\" (intro).\u001b[0m\n",
      "\u001b[31mThe due date for Lab 1: Introduction To the Tools has passed.  You can still submit, but you might want to submit for the current lab since the target docker image may be different, and things may not behave as described in the lab writeup.\u001b[0m\n",
      "Creating job bd7e13be-4d5b-4716-b67f-776cb627b1be 0.00 0.00\n",
      "Ready for submission. 4.63 4.63\n",
      "Job bd7e13be-4d5b-4716-b67f-776cb627b1be is in state 'PUBLISHED'. 0.69 5.32. \n",
      "Job bd7e13be-4d5b-4716-b67f-776cb627b1be is in state 'RUNNING'. 2.15 7.47.... \n",
      "Job bd7e13be-4d5b-4716-b67f-776cb627b1be is in state 'DONE_RUNNING'. 5.35 12.82. \n",
      "Job bd7e13be-4d5b-4716-b67f-776cb627b1be succeeded. 2.14 14.95Writing results 1.00 15.95\n",
      "Loading PAPI engine.\n",
      "Tracking PAPI_TOT_INS\n",
      "Tracking PAPI_TOT_CYC\n",
      "Execution complete\n",
      "Updated these files: ./50.csv\n",
      "./50.csv.raw\n",
      "Job Complete 0.46 16.42\n",
      "You are submitting a job for lab \"Lab 1: Introduction To the Tools\" (intro).\u001b[0m\n",
      "\u001b[31mThe due date for Lab 1: Introduction To the Tools has passed.  You can still submit, but you might want to submit for the current lab since the target docker image may be different, and things may not behave as described in the lab writeup.\u001b[0m\n",
      "Creating job 5b48d228-50dd-405c-bbfe-1f8368ee6f1b 0.00 0.00\n",
      "Ready for submission. 4.44 4.44\n",
      "Job 5b48d228-50dd-405c-bbfe-1f8368ee6f1b is in state 'PUBLISHED'. 0.50 4.94 \n",
      "Job 5b48d228-50dd-405c-bbfe-1f8368ee6f1b is in state 'RUNNING'. 1.11 6.06..... \n",
      "Job 5b48d228-50dd-405c-bbfe-1f8368ee6f1b is in state 'DONE_RUNNING'. 6.39 12.44. \n",
      "Job 5b48d228-50dd-405c-bbfe-1f8368ee6f1b succeeded. 2.13 14.58Writing results 1.00 15.58\n",
      "Loading PAPI engine.\n",
      "Tracking PAPI_TOT_INS\n",
      "Tracking PAPI_TOT_CYC\n",
      "Execution complete\n",
      "Updated these files: ./100.csv\n",
      "./100.csv.raw\n",
      "Job Complete 0.46 16.04\n"
     ]
    }
   ],
   "source": [
    "#This takes a while...\n",
    "!cse142 job run './microbench.exe --MHz 1900 --stats 25.csv --reps 25 --function baseline_int --stat-set ./PE.cfg'\n",
    "!cse142 job run './microbench.exe --MHz 1900 --stats 50.csv --reps 50 --function baseline_int --stat-set ./PE.cfg'\n",
    "!cse142 job run './microbench.exe --MHz 1900 --stats 100.csv --reps 100 --function baseline_int --stat-set ./PE.cfg'\n"
   ]
  },
  {
   "cell_type": "code",
   "execution_count": 7,
   "metadata": {},
   "outputs": [
    {
     "data": {
      "text/html": [
       "<div>\n",
       "<style scoped>\n",
       "    .dataframe tbody tr th:only-of-type {\n",
       "        vertical-align: middle;\n",
       "    }\n",
       "\n",
       "    .dataframe tbody tr th {\n",
       "        vertical-align: top;\n",
       "    }\n",
       "\n",
       "    .dataframe thead th {\n",
       "        text-align: right;\n",
       "    }\n",
       "</style>\n",
       "<table border=\"1\" class=\"dataframe\">\n",
       "  <thead>\n",
       "    <tr style=\"text-align: right;\">\n",
       "      <th></th>\n",
       "      <th>reps</th>\n",
       "      <th>IC</th>\n",
       "      <th>CPI</th>\n",
       "      <th>CT</th>\n",
       "      <th>ET</th>\n",
       "      <th>cmdlineMHz</th>\n",
       "      <th>realMHz</th>\n",
       "    </tr>\n",
       "  </thead>\n",
       "  <tbody>\n",
       "    <tr>\n",
       "      <th>0</th>\n",
       "      <td>25.0</td>\n",
       "      <td>2621500559</td>\n",
       "      <td>0.612930</td>\n",
       "      <td>5.288954e-10</td>\n",
       "      <td>0.849877</td>\n",
       "      <td>1900.0</td>\n",
       "      <td>1891.148661</td>\n",
       "    </tr>\n",
       "    <tr>\n",
       "      <th>1</th>\n",
       "      <td>50.0</td>\n",
       "      <td>5242999077</td>\n",
       "      <td>0.598399</td>\n",
       "      <td>5.281931e-10</td>\n",
       "      <td>1.657233</td>\n",
       "      <td>1900.0</td>\n",
       "      <td>1893.466249</td>\n",
       "    </tr>\n",
       "    <tr>\n",
       "      <th>2</th>\n",
       "      <td>100.0</td>\n",
       "      <td>10485996116</td>\n",
       "      <td>0.613290</td>\n",
       "      <td>5.277504e-10</td>\n",
       "      <td>3.393957</td>\n",
       "      <td>1900.0</td>\n",
       "      <td>1894.941982</td>\n",
       "    </tr>\n",
       "  </tbody>\n",
       "</table>\n",
       "</div>"
      ],
      "text/plain": [
       "    reps           IC       CPI            CT        ET  cmdlineMHz  \\\n",
       "0   25.0   2621500559  0.612930  5.288954e-10  0.849877      1900.0   \n",
       "1   50.0   5242999077  0.598399  5.281931e-10  1.657233      1900.0   \n",
       "2  100.0  10485996116  0.613290  5.277504e-10  3.393957      1900.0   \n",
       "\n",
       "       realMHz  \n",
       "0  1891.148661  \n",
       "1  1893.466249  \n",
       "2  1894.941982  "
      ]
     },
     "execution_count": 7,
     "metadata": {},
     "output_type": "execute_result"
    },
    {
     "data": {
      "image/png": "[encoded data removed]",
      "text/plain": [
       "<Figure size 1152x288 with 4 Axes>"
      ]
     },
     "metadata": {
      "needs_background": "light"
     },
     "output_type": "display_data"
    }
   ],
   "source": [
    "df = IC_avg_and_combine(\"25.csv\", \"50.csv\", \"100.csv\")\n",
    "plotPE(df=df, lines=True, what=[ ('reps', \"IC\"), (\"reps\", \"CPI\"), (\"reps\", \"CT\"), (\"reps\", \"ET\") ], columns=4)\n",
    "df[[\"reps\"] +  columns]"
   ]
  },
  {
   "cell_type": "markdown",
   "metadata": {},
   "source": [
    "<div class=\"question correctness points-4\">\n",
    "    \n",
    "<div class=\"question-text\">\n",
    "    \n",
    "Compute the actual ratio of the values at `reps = 100` and `reps = 25`.  How does these results differ from what you expected? \n",
    "    \n",
    "</div>\n",
    "   \n",
    "<div class=\"answer\">\n",
    "\n",
    "|                     | IC      | CPI | CT | ET |\n",
    "|---------------------|---------|-----|----|----|\n",
    "|100 vs 25 reps ratio | #KEY     1.99    |  1.0     | 1.0   | 4.03   |    \n",
    "|Differences compared to your expectations (if any):| | | | |\n",
    "\n",
    "#KEY There math needs to be correct.  The differences need to be accurate given their answers above.\n",
    "\n",
    "</div>\n",
    "</div>\n"
   ]
  },
  {
   "cell_type": "markdown",
   "metadata": {},
   "source": [
    "### Increasing the Size of `array`\n",
    "\n",
    "Instead of increasing `reps` we can increase the size of `array` so we'll run the same computation over more data.\n",
    "We will vary the size over a very large range: 10,000 to 20,480,000.\n",
    "\n",
    "Kick off the cell below to collect the data.  While it's running answer this question:"
   ]
  },
  {
   "cell_type": "markdown",
   "metadata": {},
   "source": [
    "<div class=\"question completeness\">\n",
    "\n",
    "<div class=\"question-text\">\n",
    "\n",
    "This time, the four graphs will how each term of the performance equation changes as we increase `--size`.  What _shape_ do you think each curve will have (linear? curved?) and what _direction_ will it go (increasing? Decreasing? flat?)?  For each term, predict the ratio between it's value at 5,120,000 and its value at 320,000.\n",
    "\n",
    "</div>\n",
    "    \n",
    "<div class=\"answer\">\n",
    "\n",
    "|                        | IC      | CPI | CT | ET |\n",
    "|------------------------|---------|-----|----|----|\n",
    "|Shape                   |         |     |    |    | \n",
    "|Direction               |         |     |    |    |\n",
    "|5,120,000 vs 320,000 ratio |         |     |    |    |    \n",
    "   \n",
    "</div>\n",
    "</div>"
   ]
  },
  {
   "cell_type": "code",
   "execution_count": 9,
   "metadata": {},
   "outputs": [
    {
     "name": "stdout",
     "output_type": "stream",
     "text": [
      "You are submitting a job for lab \"Lab 1: The Performance Equation\" (intro).\u001b[0m\n",
      "Creating job 26cbedac-2cbc-4fb6-9a60-2e99d4d1e1a3 0.00 0.00\n",
      "Ready for submission. 3.74 3.74\n",
      "Job 26cbedac-2cbc-4fb6-9a60-2e99d4d1e1a3 is in state 'PUBLISHED'. 0.72 4.46. \n",
      "Job 26cbedac-2cbc-4fb6-9a60-2e99d4d1e1a3 is in state 'RUNNING'. 2.33 6.79.. \n",
      "Job 26cbedac-2cbc-4fb6-9a60-2e99d4d1e1a3 is in state 'DONE_RUNNING'. 3.18 9.97.. \n",
      "Job 26cbedac-2cbc-4fb6-9a60-2e99d4d1e1a3 succeeded. 3.13 13.10Writing results 1.00 14.11\n",
      "sh: 1: ./microbench.exe: not found\n",
      "Updated these files: \n",
      "Job Complete 0.45 14.56\n"
     ]
    }
   ],
   "source": [
    "!cse142 job run --lab intro './microbench.exe --stats array_size.csv --reps 25 --MHz 1900 --function baseline_int --size 10000 20000  40000 80000 160000 320000 640000 1280000 2560000 5120000  10240000  20480000  --stat-set ./PE.cfg'\n"
   ]
  },
  {
   "cell_type": "code",
   "execution_count": 10,
   "metadata": {},
   "outputs": [
    {
     "data": {
      "text/html": [
       "<div>\n",
       "<style scoped>\n",
       "    .dataframe tbody tr th:only-of-type {\n",
       "        vertical-align: middle;\n",
       "    }\n",
       "\n",
       "    .dataframe tbody tr th {\n",
       "        vertical-align: top;\n",
       "    }\n",
       "\n",
       "    .dataframe thead th {\n",
       "        text-align: right;\n",
       "    }\n",
       "</style>\n",
       "<table border=\"1\" class=\"dataframe\">\n",
       "  <thead>\n",
       "    <tr style=\"text-align: right;\">\n",
       "      <th></th>\n",
       "      <th>IC</th>\n",
       "      <th>CPI</th>\n",
       "      <th>CT</th>\n",
       "      <th>ET</th>\n",
       "      <th>cmdlineMHz</th>\n",
       "      <th>realMHz</th>\n",
       "    </tr>\n",
       "    <tr>\n",
       "      <th>size</th>\n",
       "      <th></th>\n",
       "      <th></th>\n",
       "      <th></th>\n",
       "      <th></th>\n",
       "      <th></th>\n",
       "      <th></th>\n",
       "    </tr>\n",
       "  </thead>\n",
       "  <tbody>\n",
       "    <tr>\n",
       "      <th>10000</th>\n",
       "      <td>1.002333e+06</td>\n",
       "      <td>0.505269</td>\n",
       "      <td>5.338178e-10</td>\n",
       "      <td>0.000270</td>\n",
       "      <td>1900.0</td>\n",
       "      <td>1875.137208</td>\n",
       "    </tr>\n",
       "    <tr>\n",
       "      <th>20000</th>\n",
       "      <td>2.002333e+06</td>\n",
       "      <td>0.450206</td>\n",
       "      <td>5.324025e-10</td>\n",
       "      <td>0.000480</td>\n",
       "      <td>1900.0</td>\n",
       "      <td>1879.070999</td>\n",
       "    </tr>\n",
       "    <tr>\n",
       "      <th>40000</th>\n",
       "      <td>4.002334e+06</td>\n",
       "      <td>0.445759</td>\n",
       "      <td>5.307570e-10</td>\n",
       "      <td>0.000947</td>\n",
       "      <td>1900.0</td>\n",
       "      <td>1884.459433</td>\n",
       "    </tr>\n",
       "    <tr>\n",
       "      <th>80000</th>\n",
       "      <td>8.002336e+06</td>\n",
       "      <td>0.455999</td>\n",
       "      <td>5.307469e-10</td>\n",
       "      <td>0.001937</td>\n",
       "      <td>1900.0</td>\n",
       "      <td>1884.429288</td>\n",
       "    </tr>\n",
       "    <tr>\n",
       "      <th>160000</th>\n",
       "      <td>1.600234e+07</td>\n",
       "      <td>0.454922</td>\n",
       "      <td>5.307312e-10</td>\n",
       "      <td>0.003864</td>\n",
       "      <td>1900.0</td>\n",
       "      <td>1884.565223</td>\n",
       "    </tr>\n",
       "    <tr>\n",
       "      <th>320000</th>\n",
       "      <td>3.200235e+07</td>\n",
       "      <td>0.456902</td>\n",
       "      <td>5.292112e-10</td>\n",
       "      <td>0.007738</td>\n",
       "      <td>1900.0</td>\n",
       "      <td>1889.801169</td>\n",
       "    </tr>\n",
       "    <tr>\n",
       "      <th>640000</th>\n",
       "      <td>6.400236e+07</td>\n",
       "      <td>0.485024</td>\n",
       "      <td>5.289846e-10</td>\n",
       "      <td>0.016421</td>\n",
       "      <td>1900.0</td>\n",
       "      <td>1890.593497</td>\n",
       "    </tr>\n",
       "    <tr>\n",
       "      <th>1280000</th>\n",
       "      <td>1.280024e+08</td>\n",
       "      <td>0.652316</td>\n",
       "      <td>5.280652e-10</td>\n",
       "      <td>0.044091</td>\n",
       "      <td>1900.0</td>\n",
       "      <td>1893.805381</td>\n",
       "    </tr>\n",
       "    <tr>\n",
       "      <th>2560000</th>\n",
       "      <td>2.560025e+08</td>\n",
       "      <td>0.786379</td>\n",
       "      <td>5.277528e-10</td>\n",
       "      <td>0.106242</td>\n",
       "      <td>1900.0</td>\n",
       "      <td>1894.894214</td>\n",
       "    </tr>\n",
       "    <tr>\n",
       "      <th>5120000</th>\n",
       "      <td>5.120026e+08</td>\n",
       "      <td>0.847583</td>\n",
       "      <td>5.275931e-10</td>\n",
       "      <td>0.228955</td>\n",
       "      <td>1900.0</td>\n",
       "      <td>1895.456525</td>\n",
       "    </tr>\n",
       "    <tr>\n",
       "      <th>10240000</th>\n",
       "      <td>1.024003e+09</td>\n",
       "      <td>0.874895</td>\n",
       "      <td>5.275303e-10</td>\n",
       "      <td>0.472619</td>\n",
       "      <td>1900.0</td>\n",
       "      <td>1895.676966</td>\n",
       "    </tr>\n",
       "    <tr>\n",
       "      <th>20480000</th>\n",
       "      <td>2.048003e+09</td>\n",
       "      <td>0.887306</td>\n",
       "      <td>5.275307e-10</td>\n",
       "      <td>0.958642</td>\n",
       "      <td>1900.0</td>\n",
       "      <td>1895.674741</td>\n",
       "    </tr>\n",
       "  </tbody>\n",
       "</table>\n",
       "</div>"
      ],
      "text/plain": [
       "                    IC       CPI            CT        ET  cmdlineMHz  \\\n",
       "size                                                                   \n",
       "10000     1.002333e+06  0.505269  5.338178e-10  0.000270      1900.0   \n",
       "20000     2.002333e+06  0.450206  5.324025e-10  0.000480      1900.0   \n",
       "40000     4.002334e+06  0.445759  5.307570e-10  0.000947      1900.0   \n",
       "80000     8.002336e+06  0.455999  5.307469e-10  0.001937      1900.0   \n",
       "160000    1.600234e+07  0.454922  5.307312e-10  0.003864      1900.0   \n",
       "320000    3.200235e+07  0.456902  5.292112e-10  0.007738      1900.0   \n",
       "640000    6.400236e+07  0.485024  5.289846e-10  0.016421      1900.0   \n",
       "1280000   1.280024e+08  0.652316  5.280652e-10  0.044091      1900.0   \n",
       "2560000   2.560025e+08  0.786379  5.277528e-10  0.106242      1900.0   \n",
       "5120000   5.120026e+08  0.847583  5.275931e-10  0.228955      1900.0   \n",
       "10240000  1.024003e+09  0.874895  5.275303e-10  0.472619      1900.0   \n",
       "20480000  2.048003e+09  0.887306  5.275307e-10  0.958642      1900.0   \n",
       "\n",
       "              realMHz  \n",
       "size                   \n",
       "10000     1875.137208  \n",
       "20000     1879.070999  \n",
       "40000     1884.459433  \n",
       "80000     1884.429288  \n",
       "160000    1884.565223  \n",
       "320000    1889.801169  \n",
       "640000    1890.593497  \n",
       "1280000   1893.805381  \n",
       "2560000   1894.894214  \n",
       "5120000   1895.456525  \n",
       "10240000  1895.676966  \n",
       "20480000  1895.674741  "
      ]
     },
     "execution_count": 10,
     "metadata": {},
     "output_type": "execute_result"
    },
    {
     "data": {
      "image/png": "[encoded data removed]",
      "text/plain": [
       "<Figure size 1440x288 with 4 Axes>"
      ]
     },
     "metadata": {
      "needs_background": "light"
     },
     "output_type": "display_data"
    }
   ],
   "source": [
    "plotPE(\"array_size.csv\", lines=True, what=[ ('size', \"IC\"), (\"size\", \"CPI\"), (\"size\", \"CT\"),(\"size\", \"ET\")], columns=5, average_by=\"size\")\n",
    "render_csv(\"array_size.csv\", columns=columns, average_by=\"size\")"
   ]
  },
  {
   "cell_type": "markdown",
   "metadata": {},
   "source": [
    "<div class=\"question correctness points-4\">\n",
    "\n",
    "<div class=\"question-text\">\n",
    "\n",
    "Compute the actual ratio of the values at 1800MHz and 900MHZ.  How does these results differ from what you expected?  What is the _per-element_ (`array`) speedup for a an array of 5,120,000 vs an array of 320,000? \n",
    "\n",
    "</div>\n",
    "    \n",
    "<div class=\"answer\">\n",
    "\n",
    "|                     | IC      | CPI | CT | ET |\n",
    "|---------------------|---------|-----|----|----|\n",
    "|5,120,000 vs 320,000 ratio |         |     |    |    |    \n",
    "|Differences compared to your expectations| ||||\n",
    "\n",
    "**Speedup for 5,120,000 vs 320,000-element arrays:**\n",
    "    \n",
    "#KEY The math needs to match the results shown.  THe differences should be reasonable given their earlier statements.\n",
    "</div>\n",
    "    \n",
    "</div>"
   ]
  },
  {
   "attachments": {
    "image.png": {
     "image/png": "[encoded data removed]"
    }
   },
   "cell_type": "markdown",
   "metadata": {},
   "source": [
    "<div class=\"alert alert-block alert-success\">\n",
    "    \n",
    "**Interesting Question:**  Why does increasing the size of `array` change CPI?\n",
    "    \n",
    "    \n",
    "![image.png](attachment:image.png)\n",
    "</div>"
   ]
  },
  {
   "cell_type": "markdown",
   "metadata": {},
   "source": [
    "## Cycle Time\n",
    "\n",
    "Let's take a look at how clock rate affects performance.\n",
    "\n",
    "The processors in our target systems can run between 900MHz and 2000MHz at 100MHz increments.  Let's see how that affects things by plotting execution time as a function of clock speed (we are skipping 2000MHz for the moment.  We'll come back to it).\n",
    "\n",
    "Kick off the cell below to collect the data.  While it's running answer this question:"
   ]
  },
  {
   "cell_type": "markdown",
   "metadata": {},
   "source": [
    "<div class=\"question completeness\">\n",
    "    \n",
    "<div class=\"question-text\">\n",
    "\n",
    "We are going to plot four graphs that show how each term of the performance equation changes as we increase clock rate.  What _shape_ do you think each curve will have (linear? curved?) and what _direction_ will it go (increasing? Decreasing? flat?)?  For each term, predict the ratio between it's value at 1800MHz and its value at 900Mhz.\n",
    "\n",
    "</div>\n",
    "    \n",
    "<div class=\"answer\">\n",
    "\n",
    "|                     | IC      | CPI | CT | ET |\n",
    "|---------------------|---------|-----|----|----|\n",
    "|Shape                |         |     |    |    | \n",
    "|Direction            |         |     |    |    |\n",
    "|1800MHz/900Mhz ratio |         |     |    |    |    \n",
    "\n",
    "#KEY They should have answers for each.\n",
    "    \n",
    "</div>\n",
    "</div>"
   ]
  },
  {
   "cell_type": "code",
   "execution_count": 11,
   "metadata": {},
   "outputs": [
    {
     "name": "stdout",
     "output_type": "stream",
     "text": [
      "You are submitting a job for lab \"Lab 1: The Performance Equation\" (intro).\u001b[0m\n",
      "Creating job b633de29-8837-4e44-87f4-ca4c4e726836 0.00 0.00\n",
      "Ready for submission. 3.51 3.51\n",
      "Job b633de29-8837-4e44-87f4-ca4c4e726836 is in state 'PUBLISHED'. 0.52 4.03. \n",
      "Job b633de29-8837-4e44-87f4-ca4c4e726836 is in state 'SCHEDULED'. 2.11 6.14 \n",
      "Job b633de29-8837-4e44-87f4-ca4c4e726836 is in state 'RUNNING'. 1.06 7.20. \n",
      "Job b633de29-8837-4e44-87f4-ca4c4e726836 is in state 'DONE_RUNNING'. 2.12 9.31.. \n",
      "Job b633de29-8837-4e44-87f4-ca4c4e726836 succeeded. 3.18 12.49Writing results 1.00 13.49\n",
      "sh: 1: ./microbench.exe: not found\n",
      "Updated these files: \n",
      "Job Complete 0.48 13.97\n"
     ]
    }
   ],
   "source": [
    "!cse142 job run --lab intro './microbench.exe --stats cycle_time.csv --MHz 900 1000 1100 1200 1300 1400 1500 1600 1700 1800 1900 --function baseline_int --reps 50 --calc per_element=ET/size --stat-set ./PE.cfg '"
   ]
  },
  {
   "cell_type": "code",
   "execution_count": 3,
   "metadata": {},
   "outputs": [
    {
     "data": {
      "text/html": [
       "<div>\n",
       "<style scoped>\n",
       "    .dataframe tbody tr th:only-of-type {\n",
       "        vertical-align: middle;\n",
       "    }\n",
       "\n",
       "    .dataframe tbody tr th {\n",
       "        vertical-align: top;\n",
       "    }\n",
       "\n",
       "    .dataframe thead th {\n",
       "        text-align: right;\n",
       "    }\n",
       "</style>\n",
       "<table border=\"1\" class=\"dataframe\">\n",
       "  <thead>\n",
       "    <tr style=\"text-align: right;\">\n",
       "      <th></th>\n",
       "      <th>IC</th>\n",
       "      <th>CPI</th>\n",
       "      <th>CT</th>\n",
       "      <th>ET</th>\n",
       "      <th>cmdlineMHz</th>\n",
       "      <th>realMHz</th>\n",
       "    </tr>\n",
       "    <tr>\n",
       "      <th>cmdlineMHz</th>\n",
       "      <th></th>\n",
       "      <th></th>\n",
       "      <th></th>\n",
       "      <th></th>\n",
       "      <th></th>\n",
       "      <th></th>\n",
       "    </tr>\n",
       "  </thead>\n",
       "  <tbody>\n",
       "    <tr>\n",
       "      <th>900</th>\n",
       "      <td>1.048600e+08</td>\n",
       "      <td>0.559807</td>\n",
       "      <td>1.116365e-09</td>\n",
       "      <td>0.065535</td>\n",
       "      <td>900</td>\n",
       "      <td>895.879373</td>\n",
       "    </tr>\n",
       "    <tr>\n",
       "      <th>1000</th>\n",
       "      <td>1.048600e+08</td>\n",
       "      <td>0.573329</td>\n",
       "      <td>1.004360e-09</td>\n",
       "      <td>0.060381</td>\n",
       "      <td>1000</td>\n",
       "      <td>995.785075</td>\n",
       "    </tr>\n",
       "    <tr>\n",
       "      <th>1100</th>\n",
       "      <td>1.048600e+08</td>\n",
       "      <td>0.575235</td>\n",
       "      <td>9.129125e-10</td>\n",
       "      <td>0.055066</td>\n",
       "      <td>1100</td>\n",
       "      <td>1095.531513</td>\n",
       "    </tr>\n",
       "    <tr>\n",
       "      <th>1200</th>\n",
       "      <td>1.048600e+08</td>\n",
       "      <td>0.573335</td>\n",
       "      <td>8.367047e-10</td>\n",
       "      <td>0.050303</td>\n",
       "      <td>1200</td>\n",
       "      <td>1195.312589</td>\n",
       "    </tr>\n",
       "    <tr>\n",
       "      <th>1300</th>\n",
       "      <td>1.048600e+08</td>\n",
       "      <td>0.582550</td>\n",
       "      <td>7.722004e-10</td>\n",
       "      <td>0.047171</td>\n",
       "      <td>1300</td>\n",
       "      <td>1295.155645</td>\n",
       "    </tr>\n",
       "    <tr>\n",
       "      <th>1400</th>\n",
       "      <td>1.048600e+08</td>\n",
       "      <td>0.576411</td>\n",
       "      <td>7.170575e-10</td>\n",
       "      <td>0.043343</td>\n",
       "      <td>1400</td>\n",
       "      <td>1394.750370</td>\n",
       "    </tr>\n",
       "    <tr>\n",
       "      <th>1500</th>\n",
       "      <td>1.048600e+08</td>\n",
       "      <td>0.580513</td>\n",
       "      <td>6.691473e-10</td>\n",
       "      <td>0.040738</td>\n",
       "      <td>1500</td>\n",
       "      <td>1494.597276</td>\n",
       "    </tr>\n",
       "    <tr>\n",
       "      <th>1600</th>\n",
       "      <td>1.048600e+08</td>\n",
       "      <td>0.599773</td>\n",
       "      <td>6.272187e-10</td>\n",
       "      <td>0.039454</td>\n",
       "      <td>1600</td>\n",
       "      <td>1594.487878</td>\n",
       "    </tr>\n",
       "    <tr>\n",
       "      <th>1700</th>\n",
       "      <td>1.048600e+08</td>\n",
       "      <td>0.589738</td>\n",
       "      <td>5.904456e-10</td>\n",
       "      <td>0.036513</td>\n",
       "      <td>1700</td>\n",
       "      <td>1693.841924</td>\n",
       "    </tr>\n",
       "    <tr>\n",
       "      <th>1800</th>\n",
       "      <td>1.048600e+08</td>\n",
       "      <td>0.599592</td>\n",
       "      <td>5.576316e-10</td>\n",
       "      <td>0.035060</td>\n",
       "      <td>1800</td>\n",
       "      <td>1793.515247</td>\n",
       "    </tr>\n",
       "    <tr>\n",
       "      <th>1900</th>\n",
       "      <td>1.048600e+08</td>\n",
       "      <td>0.605906</td>\n",
       "      <td>5.280707e-10</td>\n",
       "      <td>0.033560</td>\n",
       "      <td>1900</td>\n",
       "      <td>1893.842883</td>\n",
       "    </tr>\n",
       "  </tbody>\n",
       "</table>\n",
       "</div>"
      ],
      "text/plain": [
       "                      IC       CPI            CT        ET  cmdlineMHz  \\\n",
       "cmdlineMHz                                                               \n",
       "900         1.048600e+08  0.559807  1.116365e-09  0.065535         900   \n",
       "1000        1.048600e+08  0.573329  1.004360e-09  0.060381        1000   \n",
       "1100        1.048600e+08  0.575235  9.129125e-10  0.055066        1100   \n",
       "1200        1.048600e+08  0.573335  8.367047e-10  0.050303        1200   \n",
       "1300        1.048600e+08  0.582550  7.722004e-10  0.047171        1300   \n",
       "1400        1.048600e+08  0.576411  7.170575e-10  0.043343        1400   \n",
       "1500        1.048600e+08  0.580513  6.691473e-10  0.040738        1500   \n",
       "1600        1.048600e+08  0.599773  6.272187e-10  0.039454        1600   \n",
       "1700        1.048600e+08  0.589738  5.904456e-10  0.036513        1700   \n",
       "1800        1.048600e+08  0.599592  5.576316e-10  0.035060        1800   \n",
       "1900        1.048600e+08  0.605906  5.280707e-10  0.033560        1900   \n",
       "\n",
       "                realMHz  \n",
       "cmdlineMHz               \n",
       "900          895.879373  \n",
       "1000         995.785075  \n",
       "1100        1095.531513  \n",
       "1200        1195.312589  \n",
       "1300        1295.155645  \n",
       "1400        1394.750370  \n",
       "1500        1494.597276  \n",
       "1600        1594.487878  \n",
       "1700        1693.841924  \n",
       "1800        1793.515247  \n",
       "1900        1893.842883  "
      ]
     },
     "execution_count": 3,
     "metadata": {},
     "output_type": "execute_result"
    },
    {
     "data": {
      "image/png": "[encoded data removed]",
      "text/plain": [
       "<Figure size 1152x288 with 4 Axes>"
      ]
     },
     "metadata": {
      "needs_background": "light"
     },
     "output_type": "display_data"
    }
   ],
   "source": [
    "plotPE(\"cycle_time.csv\", lines=True, what=[ ('cmdlineMHz', \"IC\"), (\"cmdlineMHz\", \"CPI\"), (\"cmdlineMHz\", \"CT\"), (\"cmdlineMHz\", \"ET\") ], columns=4, average_by=\"cmdlineMHz\")\n",
    "render_csv(\"cycle_time.csv\", columns=columns, average_by=\"cmdlineMHz\")"
   ]
  },
  {
   "cell_type": "markdown",
   "metadata": {},
   "source": [
    "<div class=\"question correctness points-4\">\n",
    "    \n",
    "<div class=\"question-text\">\n",
    "\n",
    "Compute the actual ratio of the values at 1800MHz and 900MHZ.  How does these results differ from what you expected?  How much speedup double doubling the clock rate provide?\n",
    "</div>\n",
    "    \n",
    "<div class=\"answer\">\n",
    "\n",
    "|                     | IC      | CPI | CT | ET |\n",
    "|---------------------|---------|-----|----|----|\n",
    "|1800MHz/900Mhz ratio |         |     |    |    |    \n",
    "|Differences compared to your expectations:| | | | |\n",
    "\n",
    "\n",
    "\n",
    "**How much speedup does doubling the clock rate from 900MHz to 1800MHz provide? (show your work):**\n",
    "    \n",
    "#KEY Math should match their results.  Differences need to be reasonable given their expectations.\n",
    "    \n",
    "</div>\n",
    "    \n",
    "</div>"
   ]
  },
  {
   "attachments": {
    "image.png": {
     "image/png": "[encoded data removed]"
    }
   },
   "cell_type": "markdown",
   "metadata": {},
   "source": [
    "<div class=\"alert alert-block alert-success\">\n",
    "    \n",
    "**Interesting question:** How can clock rate affect `CPI`?\n",
    "    \n",
    "![image.png](attachment:image.png)\n",
    "</div>"
   ]
  },
  {
   "cell_type": "markdown",
   "metadata": {},
   "source": [
    "## Cycles Per Instruction\n",
    "\n",
    "Unlike `IC` and `CT` we can't set `CPI` directly, but we can adjust the code and see how `CPI` changes.  We'll do this in two ways.  First, we'll change the data type we are operating on. Then, we'll change the compiler options.  Finally, we'll restructure the code.\n",
    "\n",
    "### Floating Point vs Integer Operations\n",
    "\n",
    "Here's `baseline_double()` (on the left) that is identical to `baseline_int()` (on the right) but uses 64-bit floating point values (of type `double`) point instead of 64-bit integeres (`uint64_t`):"
   ]
  },
  {
   "cell_type": "code",
   "execution_count": 4,
   "metadata": {
    "init_cell": true
   },
   "outputs": [
    {
     "data": {
      "text/html": [
       "\n",
       "            <style>\n",
       "        .side-by-side {\n",
       "            display: flex;\n",
       "            align-items: stretch;\n",
       "\n",
       "        }\n",
       "        .side-by-side-pane {\n",
       "            margin-right:1em;\n",
       "            border-right-style: solid;\n",
       "            border-right-color: black;\n",
       "            border-right-width: 1px;\n",
       "            flex: 1;\n",
       "        }\n",
       "        </style>\n",
       "        <div class=\"side-by-side\"> <div class='side-by-side-pane'><style>.output_html .hll { background-color: #ffffcc }\n",
       ".output_html  { background: #f8f8f8; }\n",
       ".output_html .c { color: #408080; font-style: italic } /* Comment */\n",
       ".output_html .err { border: 1px solid #FF0000 } /* Error */\n",
       ".output_html .k { color: #008000; font-weight: bold } /* Keyword */\n",
       ".output_html .o { color: #666666 } /* Operator */\n",
       ".output_html .ch { color: #408080; font-style: italic } /* Comment.Hashbang */\n",
       ".output_html .cm { color: #408080; font-style: italic } /* Comment.Multiline */\n",
       ".output_html .cp { color: #BC7A00 } /* Comment.Preproc */\n",
       ".output_html .cpf { color: #408080; font-style: italic } /* Comment.PreprocFile */\n",
       ".output_html .c1 { color: #408080; font-style: italic } /* Comment.Single */\n",
       ".output_html .cs { color: #408080; font-style: italic } /* Comment.Special */\n",
       ".output_html .gd { color: #A00000 } /* Generic.Deleted */\n",
       ".output_html .ge { font-style: italic } /* Generic.Emph */\n",
       ".output_html .gr { color: #FF0000 } /* Generic.Error */\n",
       ".output_html .gh { color: #000080; font-weight: bold } /* Generic.Heading */\n",
       ".output_html .gi { color: #00A000 } /* Generic.Inserted */\n",
       ".output_html .go { color: #888888 } /* Generic.Output */\n",
       ".output_html .gp { color: #000080; font-weight: bold } /* Generic.Prompt */\n",
       ".output_html .gs { font-weight: bold } /* Generic.Strong */\n",
       ".output_html .gu { color: #800080; font-weight: bold } /* Generic.Subheading */\n",
       ".output_html .gt { color: #0044DD } /* Generic.Traceback */\n",
       ".output_html .kc { color: #008000; font-weight: bold } /* Keyword.Constant */\n",
       ".output_html .kd { color: #008000; font-weight: bold } /* Keyword.Declaration */\n",
       ".output_html .kn { color: #008000; font-weight: bold } /* Keyword.Namespace */\n",
       ".output_html .kp { color: #008000 } /* Keyword.Pseudo */\n",
       ".output_html .kr { color: #008000; font-weight: bold } /* Keyword.Reserved */\n",
       ".output_html .kt { color: #B00040 } /* Keyword.Type */\n",
       ".output_html .m { color: #666666 } /* Literal.Number */\n",
       ".output_html .s { color: #BA2121 } /* Literal.String */\n",
       ".output_html .na { color: #7D9029 } /* Name.Attribute */\n",
       ".output_html .nb { color: #008000 } /* Name.Builtin */\n",
       ".output_html .nc { color: #0000FF; font-weight: bold } /* Name.Class */\n",
       ".output_html .no { color: #880000 } /* Name.Constant */\n",
       ".output_html .nd { color: #AA22FF } /* Name.Decorator */\n",
       ".output_html .ni { color: #999999; font-weight: bold } /* Name.Entity */\n",
       ".output_html .ne { color: #D2413A; font-weight: bold } /* Name.Exception */\n",
       ".output_html .nf { color: #0000FF } /* Name.Function */\n",
       ".output_html .nl { color: #A0A000 } /* Name.Label */\n",
       ".output_html .nn { color: #0000FF; font-weight: bold } /* Name.Namespace */\n",
       ".output_html .nt { color: #008000; font-weight: bold } /* Name.Tag */\n",
       ".output_html .nv { color: #19177C } /* Name.Variable */\n",
       ".output_html .ow { color: #AA22FF; font-weight: bold } /* Operator.Word */\n",
       ".output_html .w { color: #bbbbbb } /* Text.Whitespace */\n",
       ".output_html .mb { color: #666666 } /* Literal.Number.Bin */\n",
       ".output_html .mf { color: #666666 } /* Literal.Number.Float */\n",
       ".output_html .mh { color: #666666 } /* Literal.Number.Hex */\n",
       ".output_html .mi { color: #666666 } /* Literal.Number.Integer */\n",
       ".output_html .mo { color: #666666 } /* Literal.Number.Oct */\n",
       ".output_html .sa { color: #BA2121 } /* Literal.String.Affix */\n",
       ".output_html .sb { color: #BA2121 } /* Literal.String.Backtick */\n",
       ".output_html .sc { color: #BA2121 } /* Literal.String.Char */\n",
       ".output_html .dl { color: #BA2121 } /* Literal.String.Delimiter */\n",
       ".output_html .sd { color: #BA2121; font-style: italic } /* Literal.String.Doc */\n",
       ".output_html .s2 { color: #BA2121 } /* Literal.String.Double */\n",
       ".output_html .se { color: #BB6622; font-weight: bold } /* Literal.String.Escape */\n",
       ".output_html .sh { color: #BA2121 } /* Literal.String.Heredoc */\n",
       ".output_html .si { color: #BB6688; font-weight: bold } /* Literal.String.Interpol */\n",
       ".output_html .sx { color: #008000 } /* Literal.String.Other */\n",
       ".output_html .sr { color: #BB6688 } /* Literal.String.Regex */\n",
       ".output_html .s1 { color: #BA2121 } /* Literal.String.Single */\n",
       ".output_html .ss { color: #19177C } /* Literal.String.Symbol */\n",
       ".output_html .bp { color: #008000 } /* Name.Builtin.Pseudo */\n",
       ".output_html .fm { color: #0000FF } /* Name.Function.Magic */\n",
       ".output_html .vc { color: #19177C } /* Name.Variable.Class */\n",
       ".output_html .vg { color: #19177C } /* Name.Variable.Global */\n",
       ".output_html .vi { color: #19177C } /* Name.Variable.Instance */\n",
       ".output_html .vm { color: #19177C } /* Name.Variable.Magic */\n",
       ".output_html .il { color: #666666 } /* Literal.Number.Integer.Long */</style><div class=\"highlight\"><pre><span></span><span class=\"c1\">// microbench.cpp:46-59 (14 lines)</span>\n",
       "<span class=\"k\">extern</span> <span class=\"s\">&quot;C&quot;</span> <span class=\"kt\">uint64_t</span> <span class=\"o\">*</span><span class=\"n\">baseline_double</span><span class=\"p\">(</span><span class=\"kt\">uint64_t</span> <span class=\"o\">*</span> <span class=\"n\">_array</span><span class=\"p\">,</span> <span class=\"kt\">unsigned</span> <span class=\"kt\">long</span> <span class=\"kt\">int</span> <span class=\"n\">size</span><span class=\"p\">)</span> <span class=\"p\">{</span>\n",
       "\t<span class=\"c1\">//double * array = new double[size];</span>\n",
       "\t<span class=\"kt\">double</span> <span class=\"o\">*</span> <span class=\"n\">array</span> <span class=\"o\">=</span> <span class=\"p\">(</span><span class=\"kt\">double</span><span class=\"o\">*</span><span class=\"p\">)</span><span class=\"n\">_array</span><span class=\"p\">;</span>\n",
       "\t<span class=\"k\">for</span><span class=\"p\">(</span><span class=\"n\">uint</span> <span class=\"n\">i</span> <span class=\"o\">=</span> <span class=\"mi\">0</span><span class=\"p\">;</span> <span class=\"n\">i</span> <span class=\"o\">&lt;</span> <span class=\"n\">size</span><span class=\"p\">;</span> <span class=\"n\">i</span><span class=\"o\">++</span><span class=\"p\">)</span> <span class=\"p\">{</span>\n",
       "\t\t<span class=\"n\">array</span><span class=\"p\">[</span><span class=\"n\">i</span><span class=\"p\">]</span> <span class=\"o\">=</span> <span class=\"mi\">0</span><span class=\"p\">;</span>\n",
       "\t<span class=\"p\">}</span>\n",
       "\n",
       "\t<span class=\"k\">for</span> <span class=\"p\">(</span><span class=\"kt\">double</span> <span class=\"n\">j</span> <span class=\"o\">=</span> <span class=\"mi\">0</span><span class=\"p\">;</span> <span class=\"n\">j</span> <span class=\"o\">&lt;</span> <span class=\"mi\">3</span><span class=\"p\">;</span> <span class=\"n\">j</span><span class=\"o\">++</span><span class=\"p\">)</span> <span class=\"p\">{</span>\n",
       "\t\t<span class=\"k\">for</span><span class=\"p\">(</span><span class=\"n\">uint</span> <span class=\"n\">i</span><span class=\"o\">=</span> <span class=\"mi\">1</span> <span class=\"p\">;</span> <span class=\"n\">i</span> <span class=\"o\">&lt;</span> <span class=\"n\">size</span><span class=\"p\">;</span> <span class=\"n\">i</span><span class=\"o\">++</span><span class=\"p\">)</span> <span class=\"p\">{</span>\n",
       "\t\t\t<span class=\"n\">array</span><span class=\"p\">[</span><span class=\"n\">i</span><span class=\"p\">]</span> <span class=\"o\">+=</span> <span class=\"n\">i</span><span class=\"o\">/</span><span class=\"p\">(</span><span class=\"mi\">1</span><span class=\"o\">+</span><span class=\"n\">j</span><span class=\"p\">)</span><span class=\"o\">+</span><span class=\"n\">array</span><span class=\"p\">[</span><span class=\"n\">i</span> <span class=\"o\">-</span> <span class=\"mi\">1</span><span class=\"p\">];</span>\n",
       "\t\t<span class=\"p\">}</span>\n",
       "\t<span class=\"p\">}</span>\n",
       "\t<span class=\"k\">return</span> <span class=\"p\">(</span><span class=\"kt\">uint64_t</span><span class=\"o\">*</span><span class=\"p\">)</span><span class=\"n\">array</span><span class=\"p\">;</span>\n",
       "<span class=\"p\">}</span>\n",
       "</pre></div>\n",
       "</div><div class='side-by-side-pane'><style>.output_html .hll { background-color: #ffffcc }\n",
       ".output_html  { background: #f8f8f8; }\n",
       ".output_html .c { color: #408080; font-style: italic } /* Comment */\n",
       ".output_html .err { border: 1px solid #FF0000 } /* Error */\n",
       ".output_html .k { color: #008000; font-weight: bold } /* Keyword */\n",
       ".output_html .o { color: #666666 } /* Operator */\n",
       ".output_html .ch { color: #408080; font-style: italic } /* Comment.Hashbang */\n",
       ".output_html .cm { color: #408080; font-style: italic } /* Comment.Multiline */\n",
       ".output_html .cp { color: #BC7A00 } /* Comment.Preproc */\n",
       ".output_html .cpf { color: #408080; font-style: italic } /* Comment.PreprocFile */\n",
       ".output_html .c1 { color: #408080; font-style: italic } /* Comment.Single */\n",
       ".output_html .cs { color: #408080; font-style: italic } /* Comment.Special */\n",
       ".output_html .gd { color: #A00000 } /* Generic.Deleted */\n",
       ".output_html .ge { font-style: italic } /* Generic.Emph */\n",
       ".output_html .gr { color: #FF0000 } /* Generic.Error */\n",
       ".output_html .gh { color: #000080; font-weight: bold } /* Generic.Heading */\n",
       ".output_html .gi { color: #00A000 } /* Generic.Inserted */\n",
       ".output_html .go { color: #888888 } /* Generic.Output */\n",
       ".output_html .gp { color: #000080; font-weight: bold } /* Generic.Prompt */\n",
       ".output_html .gs { font-weight: bold } /* Generic.Strong */\n",
       ".output_html .gu { color: #800080; font-weight: bold } /* Generic.Subheading */\n",
       ".output_html .gt { color: #0044DD } /* Generic.Traceback */\n",
       ".output_html .kc { color: #008000; font-weight: bold } /* Keyword.Constant */\n",
       ".output_html .kd { color: #008000; font-weight: bold } /* Keyword.Declaration */\n",
       ".output_html .kn { color: #008000; font-weight: bold } /* Keyword.Namespace */\n",
       ".output_html .kp { color: #008000 } /* Keyword.Pseudo */\n",
       ".output_html .kr { color: #008000; font-weight: bold } /* Keyword.Reserved */\n",
       ".output_html .kt { color: #B00040 } /* Keyword.Type */\n",
       ".output_html .m { color: #666666 } /* Literal.Number */\n",
       ".output_html .s { color: #BA2121 } /* Literal.String */\n",
       ".output_html .na { color: #7D9029 } /* Name.Attribute */\n",
       ".output_html .nb { color: #008000 } /* Name.Builtin */\n",
       ".output_html .nc { color: #0000FF; font-weight: bold } /* Name.Class */\n",
       ".output_html .no { color: #880000 } /* Name.Constant */\n",
       ".output_html .nd { color: #AA22FF } /* Name.Decorator */\n",
       ".output_html .ni { color: #999999; font-weight: bold } /* Name.Entity */\n",
       ".output_html .ne { color: #D2413A; font-weight: bold } /* Name.Exception */\n",
       ".output_html .nf { color: #0000FF } /* Name.Function */\n",
       ".output_html .nl { color: #A0A000 } /* Name.Label */\n",
       ".output_html .nn { color: #0000FF; font-weight: bold } /* Name.Namespace */\n",
       ".output_html .nt { color: #008000; font-weight: bold } /* Name.Tag */\n",
       ".output_html .nv { color: #19177C } /* Name.Variable */\n",
       ".output_html .ow { color: #AA22FF; font-weight: bold } /* Operator.Word */\n",
       ".output_html .w { color: #bbbbbb } /* Text.Whitespace */\n",
       ".output_html .mb { color: #666666 } /* Literal.Number.Bin */\n",
       ".output_html .mf { color: #666666 } /* Literal.Number.Float */\n",
       ".output_html .mh { color: #666666 } /* Literal.Number.Hex */\n",
       ".output_html .mi { color: #666666 } /* Literal.Number.Integer */\n",
       ".output_html .mo { color: #666666 } /* Literal.Number.Oct */\n",
       ".output_html .sa { color: #BA2121 } /* Literal.String.Affix */\n",
       ".output_html .sb { color: #BA2121 } /* Literal.String.Backtick */\n",
       ".output_html .sc { color: #BA2121 } /* Literal.String.Char */\n",
       ".output_html .dl { color: #BA2121 } /* Literal.String.Delimiter */\n",
       ".output_html .sd { color: #BA2121; font-style: italic } /* Literal.String.Doc */\n",
       ".output_html .s2 { color: #BA2121 } /* Literal.String.Double */\n",
       ".output_html .se { color: #BB6622; font-weight: bold } /* Literal.String.Escape */\n",
       ".output_html .sh { color: #BA2121 } /* Literal.String.Heredoc */\n",
       ".output_html .si { color: #BB6688; font-weight: bold } /* Literal.String.Interpol */\n",
       ".output_html .sx { color: #008000 } /* Literal.String.Other */\n",
       ".output_html .sr { color: #BB6688 } /* Literal.String.Regex */\n",
       ".output_html .s1 { color: #BA2121 } /* Literal.String.Single */\n",
       ".output_html .ss { color: #19177C } /* Literal.String.Symbol */\n",
       ".output_html .bp { color: #008000 } /* Name.Builtin.Pseudo */\n",
       ".output_html .fm { color: #0000FF } /* Name.Function.Magic */\n",
       ".output_html .vc { color: #19177C } /* Name.Variable.Class */\n",
       ".output_html .vg { color: #19177C } /* Name.Variable.Global */\n",
       ".output_html .vi { color: #19177C } /* Name.Variable.Instance */\n",
       ".output_html .vm { color: #19177C } /* Name.Variable.Magic */\n",
       ".output_html .il { color: #666666 } /* Literal.Number.Integer.Long */</style><div class=\"highlight\"><pre><span></span><span class=\"c1\">// microbench.cpp:17-29 (13 lines)</span>\n",
       "<span class=\"k\">extern</span> <span class=\"s\">&quot;C&quot;</span> <span class=\"kt\">uint64_t</span> <span class=\"o\">*</span><span class=\"n\">__attribute__</span><span class=\"p\">((</span><span class=\"n\">noinline</span><span class=\"p\">))</span> <span class=\"n\">baseline_int</span><span class=\"p\">(</span><span class=\"kt\">uint64_t</span> <span class=\"o\">*</span> <span class=\"n\">array</span><span class=\"p\">,</span> <span class=\"kt\">unsigned</span> <span class=\"kt\">long</span> <span class=\"kt\">int</span> <span class=\"n\">size</span><span class=\"p\">)</span> <span class=\"p\">{</span>\n",
       "\t<span class=\"c1\">//uint64_t * array = new uint64_t[size];</span>\n",
       "\t<span class=\"k\">for</span><span class=\"p\">(</span><span class=\"n\">uint</span> <span class=\"n\">i</span> <span class=\"o\">=</span> <span class=\"mi\">0</span><span class=\"p\">;</span> <span class=\"n\">i</span> <span class=\"o\">&lt;</span> <span class=\"n\">size</span><span class=\"p\">;</span> <span class=\"n\">i</span><span class=\"o\">++</span><span class=\"p\">)</span> <span class=\"p\">{</span>\n",
       "\t\t<span class=\"n\">array</span><span class=\"p\">[</span><span class=\"n\">i</span><span class=\"p\">]</span> <span class=\"o\">=</span> <span class=\"mi\">0</span><span class=\"p\">;</span>\n",
       "\t<span class=\"p\">}</span>\n",
       "\n",
       "\t<span class=\"k\">for</span> <span class=\"p\">(</span><span class=\"n\">uint</span> <span class=\"n\">j</span> <span class=\"o\">=</span> <span class=\"mi\">0</span><span class=\"p\">;</span> <span class=\"n\">j</span> <span class=\"o\">&lt;</span> <span class=\"mi\">3</span><span class=\"p\">;</span> <span class=\"n\">j</span><span class=\"o\">++</span><span class=\"p\">)</span> <span class=\"p\">{</span>\n",
       "\t\t<span class=\"k\">for</span><span class=\"p\">(</span><span class=\"n\">uint</span> <span class=\"n\">i</span><span class=\"o\">=</span> <span class=\"mi\">1</span> <span class=\"p\">;</span> <span class=\"n\">i</span> <span class=\"o\">&lt;</span> <span class=\"n\">size</span><span class=\"p\">;</span> <span class=\"n\">i</span><span class=\"o\">++</span><span class=\"p\">)</span> <span class=\"p\">{</span>\n",
       "\t\t\t<span class=\"n\">array</span><span class=\"p\">[</span><span class=\"n\">i</span><span class=\"p\">]</span> <span class=\"o\">+=</span> <span class=\"n\">i</span><span class=\"o\">/</span><span class=\"p\">(</span><span class=\"mi\">1</span><span class=\"o\">+</span><span class=\"n\">j</span><span class=\"p\">)</span><span class=\"o\">+</span><span class=\"n\">array</span><span class=\"p\">[</span><span class=\"n\">i</span> <span class=\"o\">-</span> <span class=\"mi\">1</span><span class=\"p\">];</span>\n",
       "\t\t<span class=\"p\">}</span>\n",
       "\t<span class=\"p\">}</span>\n",
       "\t<span class=\"k\">return</span> <span class=\"n\">array</span><span class=\"p\">;</span>\n",
       "<span class=\"p\">}</span>\n",
       "</pre></div>\n",
       "</div>\n",
       "        </div>\n",
       "    "
      ],
      "text/plain": [
       "<IPython.core.display.HTML object>"
      ]
     },
     "execution_count": 4,
     "metadata": {},
     "output_type": "execute_result"
    }
   ],
   "source": [
    "compare([do_render_code(\"microbench.cpp\", show=\"baseline_double\"),\n",
    "        do_render_code(\"microbench.cpp\", show=\"baseline_int\")])\n",
    "     "
   ]
  },
  {
   "cell_type": "markdown",
   "metadata": {},
   "source": [
    "Kick off the the cell below to run both functions, and answer this question:"
   ]
  },
  {
   "cell_type": "markdown",
   "metadata": {},
   "source": [
    "<div class=\"question completeness\">\n",
    "    \n",
    "<div class=\"question-text\"> \n",
    "    \n",
    "How do you think each term in the performance equation will change for `baseline_double()` compared to `baseline_int()`?\n",
    "    \n",
    "</div>\n",
    "    \n",
    "<div class=\"answer\">\n",
    "\n",
    "**IC:**\n",
    "    \n",
    "**CPI:**\n",
    "    \n",
    "**CT:**\n",
    "    \n",
    "**ET:**\n",
    "\n",
    "</div>\n",
    "</div>"
   ]
  },
  {
   "cell_type": "code",
   "execution_count": 12,
   "metadata": {},
   "outputs": [
    {
     "name": "stdout",
     "output_type": "stream",
     "text": [
      "mkdir -p build/\n",
      "cp microbench.cpp build/microbench.cpp \n",
      "gcc-8 -c -Wall -Werror -g      -fPIC -pthread  -I/cse142L/cse141pp-archlab/libarchlab -I/cse142L/cse141pp-archlab -I/usr/local/include -I/cse142L/CSE141pp-SimpleCNN/googletest/googletest/include -I/cse142L/CSE141pp-SimpleCNN  -Ibuild/  -I/cse142L/CSE141pp-Tool-Moneta/moneta/  -I. -MMD   build/microbench.cpp -o build/microbench.o\n",
      "g++-8 build/microbench.o    -pthread   -L/usr/local/lib -L/cse142L/cse141pp-archlab/libarchlab -larchlab -lpapi -lboost_program_options -lm -lquadmath -ldl    -o microbench.exe\n",
      "You are submitting a job for lab \"Lab 1: The Performance Equation\" (intro).\u001b[0m\n",
      "Creating job 9dc5e431-4852-4ef9-9fed-8f145e3d622d 0.00 0.00\n",
      "Ready for submission. 5.03 5.03\n",
      "Job 9dc5e431-4852-4ef9-9fed-8f145e3d622d is in state 'PUBLISHED'. 0.58 5.62 \n",
      "Job 9dc5e431-4852-4ef9-9fed-8f145e3d622d is in state 'RUNNING'. 1.06 6.68.... \n",
      "Job 9dc5e431-4852-4ef9-9fed-8f145e3d622d is in state 'DONE_RUNNING'. 5.28 11.96. \n",
      "Job 9dc5e431-4852-4ef9-9fed-8f145e3d622d succeeded. 2.12 14.08Writing results 1.00 15.08\n",
      "Loading PAPI engine.\n",
      "Tracking PAPI_TOT_INS\n",
      "Tracking PAPI_TOT_CYC\n",
      "Execution complete\n",
      "Updated these files: ./int_double.csv\n",
      "./int_double.csv.raw\n",
      "Job Complete 0.47 15.56\n"
     ]
    }
   ],
   "source": [
    "!make  microbench.exe\n",
    "!cse142 job run --lab intro './microbench.exe --stats int_double.csv  --reps 25 --MHz 1900 --function baseline_int baseline_double  --stat-set ./PE.cfg'\n"
   ]
  },
  {
   "cell_type": "code",
   "execution_count": 13,
   "metadata": {},
   "outputs": [
    {
     "data": {
      "text/html": [
       "<div>\n",
       "<style scoped>\n",
       "    .dataframe tbody tr th:only-of-type {\n",
       "        vertical-align: middle;\n",
       "    }\n",
       "\n",
       "    .dataframe tbody tr th {\n",
       "        vertical-align: top;\n",
       "    }\n",
       "\n",
       "    .dataframe thead th {\n",
       "        text-align: right;\n",
       "    }\n",
       "</style>\n",
       "<table border=\"1\" class=\"dataframe\">\n",
       "  <thead>\n",
       "    <tr style=\"text-align: right;\">\n",
       "      <th></th>\n",
       "      <th>IC</th>\n",
       "      <th>CPI</th>\n",
       "      <th>CT</th>\n",
       "      <th>ET</th>\n",
       "    </tr>\n",
       "    <tr>\n",
       "      <th>function</th>\n",
       "      <th></th>\n",
       "      <th></th>\n",
       "      <th></th>\n",
       "      <th></th>\n",
       "    </tr>\n",
       "  </thead>\n",
       "  <tbody>\n",
       "    <tr>\n",
       "      <th>baseline_double</th>\n",
       "      <td>1.184914e+08</td>\n",
       "      <td>0.790104</td>\n",
       "      <td>5.271962e-10</td>\n",
       "      <td>0.049356</td>\n",
       "    </tr>\n",
       "    <tr>\n",
       "      <th>baseline_int</th>\n",
       "      <td>1.048600e+08</td>\n",
       "      <td>0.588036</td>\n",
       "      <td>5.288942e-10</td>\n",
       "      <td>0.032618</td>\n",
       "    </tr>\n",
       "  </tbody>\n",
       "</table>\n",
       "</div>"
      ],
      "text/plain": [
       "                           IC       CPI            CT        ET\n",
       "function                                                       \n",
       "baseline_double  1.184914e+08  0.790104  5.271962e-10  0.049356\n",
       "baseline_int     1.048600e+08  0.588036  5.288942e-10  0.032618"
      ]
     },
     "execution_count": 13,
     "metadata": {},
     "output_type": "execute_result"
    },
    {
     "data": {
      "image/png": "[encoded data removed]",
      "text/plain": [
       "<Figure size 1600x400 with 4 Axes>"
      ]
     },
     "metadata": {
      "needs_background": "light"
     },
     "output_type": "display_data"
    }
   ],
   "source": [
    "plotPEBar(\"int_double.csv\", what=[ ('function', \"IC\"), (\"function\", \"CPI\"), (\"function\", \"CT\"), (\"function\", \"ET\") ], \n",
    "          columns=4, average_by=\"function\")\n",
    "render_csv(\"int_double.csv\", columns=[\"IC\", \"CPI\", \"CT\", \"ET\",], average_by=\"function\")"
   ]
  },
  {
   "cell_type": "markdown",
   "metadata": {},
   "source": [
    "<div class=\"question completeness\">\n",
    "\n",
    "<div class=\"question-text\"> \n",
    "    \n",
    "How did the results for each term in the PE differ from your predictions (if they did)?\n",
    "\n",
    "</div>\n",
    "    \n",
    "<div class=\"answer\">\n",
    "\n",
    "**IC:**\n",
    "\n",
    "**CPI:**\n",
    "\n",
    "**CT:**\n",
    "\n",
    "**ET:**\n",
    "    \n",
    "</div>\n",
    "    \n",
    "#KEY THeir comments should make sense given their predictions.\n",
    "</div>"
   ]
  },
  {
   "cell_type": "markdown",
   "metadata": {},
   "source": [
    "<div class=\"question optional\">\n",
    "\n",
    "<div class=\"question-text\"> \n",
    "    \n",
    "In `microbench.cpp` there are also `baseline_char()` and `baseline_float()`. Copy the code cells above and modify them to see how those functions compare.  What did you find?\n",
    "    \n",
    "</div>\n",
    "    \n",
    "<div class=\"answer\">\n",
    "\n",
    "</div>\n",
    "    \n",
    "</div>"
   ]
  },
  {
   "attachments": {
    "image.png": {
     "image/png": "[encoded data removed]"
    }
   },
   "cell_type": "markdown",
   "metadata": {},
   "source": [
    "<div class=\"alert alert-block alert-success\">\n",
    "\n",
    "**Interesting question:** How and why do the datatypes we use change `IC` and `CPI`?\n",
    "    \n",
    "![image.png](attachment:image.png)\n",
    "    \n",
    "_Does anyone else think this version of the \"thinking\" emoji looks like an alien?_\n",
    "</div>"
   ]
  },
  {
   "cell_type": "markdown",
   "metadata": {},
   "source": [
    "### The Compiler's Effect\n",
    "\n",
    "`microbench.cpp` contains the following function:"
   ]
  },
  {
   "cell_type": "code",
   "execution_count": 10,
   "metadata": {
    "init_cell": true
   },
   "outputs": [
    {
     "data": {
      "text/html": [
       "<style>.output_html .hll { background-color: #ffffcc }\n",
       ".output_html  { background: #f8f8f8; }\n",
       ".output_html .c { color: #408080; font-style: italic } /* Comment */\n",
       ".output_html .err { border: 1px solid #FF0000 } /* Error */\n",
       ".output_html .k { color: #008000; font-weight: bold } /* Keyword */\n",
       ".output_html .o { color: #666666 } /* Operator */\n",
       ".output_html .ch { color: #408080; font-style: italic } /* Comment.Hashbang */\n",
       ".output_html .cm { color: #408080; font-style: italic } /* Comment.Multiline */\n",
       ".output_html .cp { color: #BC7A00 } /* Comment.Preproc */\n",
       ".output_html .cpf { color: #408080; font-style: italic } /* Comment.PreprocFile */\n",
       ".output_html .c1 { color: #408080; font-style: italic } /* Comment.Single */\n",
       ".output_html .cs { color: #408080; font-style: italic } /* Comment.Special */\n",
       ".output_html .gd { color: #A00000 } /* Generic.Deleted */\n",
       ".output_html .ge { font-style: italic } /* Generic.Emph */\n",
       ".output_html .gr { color: #FF0000 } /* Generic.Error */\n",
       ".output_html .gh { color: #000080; font-weight: bold } /* Generic.Heading */\n",
       ".output_html .gi { color: #00A000 } /* Generic.Inserted */\n",
       ".output_html .go { color: #888888 } /* Generic.Output */\n",
       ".output_html .gp { color: #000080; font-weight: bold } /* Generic.Prompt */\n",
       ".output_html .gs { font-weight: bold } /* Generic.Strong */\n",
       ".output_html .gu { color: #800080; font-weight: bold } /* Generic.Subheading */\n",
       ".output_html .gt { color: #0044DD } /* Generic.Traceback */\n",
       ".output_html .kc { color: #008000; font-weight: bold } /* Keyword.Constant */\n",
       ".output_html .kd { color: #008000; font-weight: bold } /* Keyword.Declaration */\n",
       ".output_html .kn { color: #008000; font-weight: bold } /* Keyword.Namespace */\n",
       ".output_html .kp { color: #008000 } /* Keyword.Pseudo */\n",
       ".output_html .kr { color: #008000; font-weight: bold } /* Keyword.Reserved */\n",
       ".output_html .kt { color: #B00040 } /* Keyword.Type */\n",
       ".output_html .m { color: #666666 } /* Literal.Number */\n",
       ".output_html .s { color: #BA2121 } /* Literal.String */\n",
       ".output_html .na { color: #7D9029 } /* Name.Attribute */\n",
       ".output_html .nb { color: #008000 } /* Name.Builtin */\n",
       ".output_html .nc { color: #0000FF; font-weight: bold } /* Name.Class */\n",
       ".output_html .no { color: #880000 } /* Name.Constant */\n",
       ".output_html .nd { color: #AA22FF } /* Name.Decorator */\n",
       ".output_html .ni { color: #999999; font-weight: bold } /* Name.Entity */\n",
       ".output_html .ne { color: #D2413A; font-weight: bold } /* Name.Exception */\n",
       ".output_html .nf { color: #0000FF } /* Name.Function */\n",
       ".output_html .nl { color: #A0A000 } /* Name.Label */\n",
       ".output_html .nn { color: #0000FF; font-weight: bold } /* Name.Namespace */\n",
       ".output_html .nt { color: #008000; font-weight: bold } /* Name.Tag */\n",
       ".output_html .nv { color: #19177C } /* Name.Variable */\n",
       ".output_html .ow { color: #AA22FF; font-weight: bold } /* Operator.Word */\n",
       ".output_html .w { color: #bbbbbb } /* Text.Whitespace */\n",
       ".output_html .mb { color: #666666 } /* Literal.Number.Bin */\n",
       ".output_html .mf { color: #666666 } /* Literal.Number.Float */\n",
       ".output_html .mh { color: #666666 } /* Literal.Number.Hex */\n",
       ".output_html .mi { color: #666666 } /* Literal.Number.Integer */\n",
       ".output_html .mo { color: #666666 } /* Literal.Number.Oct */\n",
       ".output_html .sa { color: #BA2121 } /* Literal.String.Affix */\n",
       ".output_html .sb { color: #BA2121 } /* Literal.String.Backtick */\n",
       ".output_html .sc { color: #BA2121 } /* Literal.String.Char */\n",
       ".output_html .dl { color: #BA2121 } /* Literal.String.Delimiter */\n",
       ".output_html .sd { color: #BA2121; font-style: italic } /* Literal.String.Doc */\n",
       ".output_html .s2 { color: #BA2121 } /* Literal.String.Double */\n",
       ".output_html .se { color: #BB6622; font-weight: bold } /* Literal.String.Escape */\n",
       ".output_html .sh { color: #BA2121 } /* Literal.String.Heredoc */\n",
       ".output_html .si { color: #BB6688; font-weight: bold } /* Literal.String.Interpol */\n",
       ".output_html .sx { color: #008000 } /* Literal.String.Other */\n",
       ".output_html .sr { color: #BB6688 } /* Literal.String.Regex */\n",
       ".output_html .s1 { color: #BA2121 } /* Literal.String.Single */\n",
       ".output_html .ss { color: #19177C } /* Literal.String.Symbol */\n",
       ".output_html .bp { color: #008000 } /* Name.Builtin.Pseudo */\n",
       ".output_html .fm { color: #0000FF } /* Name.Function.Magic */\n",
       ".output_html .vc { color: #19177C } /* Name.Variable.Class */\n",
       ".output_html .vg { color: #19177C } /* Name.Variable.Global */\n",
       ".output_html .vi { color: #19177C } /* Name.Variable.Instance */\n",
       ".output_html .vm { color: #19177C } /* Name.Variable.Magic */\n",
       ".output_html .il { color: #666666 } /* Literal.Number.Integer.Long */</style><div class=\"highlight\"><pre><span></span><span class=\"c1\">// microbench.cpp:31-44 (14 lines)</span>\n",
       "<span class=\"k\">extern</span> <span class=\"s\">&quot;C&quot;</span> <span class=\"kt\">uint64_t</span> <span class=\"o\">*</span><span class=\"n\">__attribute__</span> <span class=\"p\">((</span><span class=\"n\">optimize</span><span class=\"p\">(</span><span class=\"mi\">4</span><span class=\"p\">)))</span> <span class=\"n\">baseline_int_O4</span> <span class=\"p\">(</span><span class=\"kt\">uint64_t</span> <span class=\"o\">*</span> <span class=\"n\">array</span><span class=\"p\">,</span> <span class=\"kt\">unsigned</span> <span class=\"kt\">long</span> <span class=\"kt\">int</span> <span class=\"n\">size</span><span class=\"p\">)</span> <span class=\"p\">{</span>\n",
       "\t<span class=\"c1\">//uint64_t * array = new uint64_t[size];</span>\n",
       "\t<span class=\"k\">for</span><span class=\"p\">(</span><span class=\"n\">uint</span> <span class=\"n\">i</span> <span class=\"o\">=</span> <span class=\"mi\">0</span><span class=\"p\">;</span> <span class=\"n\">i</span> <span class=\"o\">&lt;</span> <span class=\"n\">size</span><span class=\"p\">;</span> <span class=\"n\">i</span><span class=\"o\">++</span><span class=\"p\">)</span> <span class=\"p\">{</span>\n",
       "\t\t<span class=\"n\">array</span><span class=\"p\">[</span><span class=\"n\">i</span><span class=\"p\">]</span> <span class=\"o\">=</span> <span class=\"mi\">0</span><span class=\"p\">;</span>\n",
       "\t<span class=\"p\">}</span>\n",
       "\n",
       "\t<span class=\"k\">for</span> <span class=\"p\">(</span><span class=\"n\">uint</span> <span class=\"n\">j</span> <span class=\"o\">=</span> <span class=\"mi\">0</span><span class=\"p\">;</span> <span class=\"n\">j</span> <span class=\"o\">&lt;</span> <span class=\"mi\">3</span><span class=\"p\">;</span> <span class=\"n\">j</span><span class=\"o\">++</span><span class=\"p\">)</span> <span class=\"p\">{</span>\n",
       "\t\t<span class=\"k\">for</span><span class=\"p\">(</span><span class=\"n\">uint</span> <span class=\"n\">i</span><span class=\"o\">=</span> <span class=\"mi\">1</span> <span class=\"p\">;</span> <span class=\"n\">i</span> <span class=\"o\">&lt;</span> <span class=\"n\">size</span><span class=\"p\">;</span> <span class=\"n\">i</span><span class=\"o\">++</span><span class=\"p\">)</span> <span class=\"p\">{</span>\n",
       "\t\t\t<span class=\"n\">array</span><span class=\"p\">[</span><span class=\"n\">i</span><span class=\"p\">]</span> <span class=\"o\">+=</span> <span class=\"n\">i</span><span class=\"o\">/</span><span class=\"p\">(</span><span class=\"mi\">1</span><span class=\"o\">+</span><span class=\"n\">j</span><span class=\"p\">)</span><span class=\"o\">+</span><span class=\"n\">array</span><span class=\"p\">[</span><span class=\"n\">i</span> <span class=\"o\">-</span> <span class=\"mi\">1</span><span class=\"p\">];</span>\n",
       "\t\t<span class=\"p\">}</span>\n",
       "\n",
       "\t<span class=\"p\">}</span>\n",
       "\t<span class=\"k\">return</span> <span class=\"n\">array</span><span class=\"p\">;</span>\n",
       "<span class=\"p\">}</span>\n",
       "</pre></div>\n"
      ],
      "text/latex": [
       "\\begin{Verbatim}[commandchars=\\\\\\{\\}]\n",
       "\\PY{c+c1}{// microbench.cpp:31\\PYZhy{}44 (14 lines)}\n",
       "\\PY{k}{extern} \\PY{l+s}{\\PYZdq{}}\\PY{l+s}{C}\\PY{l+s}{\\PYZdq{}} \\PY{k+kt}{uint64\\PYZus{}t} \\PY{o}{*}\\PY{n}{\\PYZus{}\\PYZus{}attribute\\PYZus{}\\PYZus{}} \\PY{p}{(}\\PY{p}{(}\\PY{n}{optimize}\\PY{p}{(}\\PY{l+m+mi}{4}\\PY{p}{)}\\PY{p}{)}\\PY{p}{)} \\PY{n}{baseline\\PYZus{}int\\PYZus{}O4} \\PY{p}{(}\\PY{k+kt}{uint64\\PYZus{}t} \\PY{o}{*} \\PY{n}{array}\\PY{p}{,} \\PY{k+kt}{unsigned} \\PY{k+kt}{long} \\PY{k+kt}{int} \\PY{n}{size}\\PY{p}{)} \\PY{p}{\\PYZob{}}\n",
       "\t\\PY{c+c1}{//uint64\\PYZus{}t * array = new uint64\\PYZus{}t[size];}\n",
       "\t\\PY{k}{for}\\PY{p}{(}\\PY{n}{uint} \\PY{n}{i} \\PY{o}{=} \\PY{l+m+mi}{0}\\PY{p}{;} \\PY{n}{i} \\PY{o}{\\PYZlt{}} \\PY{n}{size}\\PY{p}{;} \\PY{n}{i}\\PY{o}{+}\\PY{o}{+}\\PY{p}{)} \\PY{p}{\\PYZob{}}\n",
       "\t\t\\PY{n}{array}\\PY{p}{[}\\PY{n}{i}\\PY{p}{]} \\PY{o}{=} \\PY{l+m+mi}{0}\\PY{p}{;}\n",
       "\t\\PY{p}{\\PYZcb{}}\n",
       "\n",
       "\t\\PY{k}{for} \\PY{p}{(}\\PY{n}{uint} \\PY{n}{j} \\PY{o}{=} \\PY{l+m+mi}{0}\\PY{p}{;} \\PY{n}{j} \\PY{o}{\\PYZlt{}} \\PY{l+m+mi}{3}\\PY{p}{;} \\PY{n}{j}\\PY{o}{+}\\PY{o}{+}\\PY{p}{)} \\PY{p}{\\PYZob{}}\n",
       "\t\t\\PY{k}{for}\\PY{p}{(}\\PY{n}{uint} \\PY{n}{i}\\PY{o}{=} \\PY{l+m+mi}{1} \\PY{p}{;} \\PY{n}{i} \\PY{o}{\\PYZlt{}} \\PY{n}{size}\\PY{p}{;} \\PY{n}{i}\\PY{o}{+}\\PY{o}{+}\\PY{p}{)} \\PY{p}{\\PYZob{}}\n",
       "\t\t\t\\PY{n}{array}\\PY{p}{[}\\PY{n}{i}\\PY{p}{]} \\PY{o}{+}\\PY{o}{=} \\PY{n}{i}\\PY{o}{/}\\PY{p}{(}\\PY{l+m+mi}{1}\\PY{o}{+}\\PY{n}{j}\\PY{p}{)}\\PY{o}{+}\\PY{n}{array}\\PY{p}{[}\\PY{n}{i} \\PY{o}{\\PYZhy{}} \\PY{l+m+mi}{1}\\PY{p}{]}\\PY{p}{;}\n",
       "\t\t\\PY{p}{\\PYZcb{}}\n",
       "\n",
       "\t\\PY{p}{\\PYZcb{}}\n",
       "\t\\PY{k}{return} \\PY{n}{array}\\PY{p}{;}\n",
       "\\PY{p}{\\PYZcb{}}\n",
       "\\end{Verbatim}\n"
      ],
      "text/plain": [
       "// microbench.cpp:31-44 (14 lines)\n",
       "extern \"C\" uint64_t *__attribute__ ((optimize(4))) baseline_int_O4 (uint64_t * array, unsigned long int size) {\n",
       "\t//uint64_t * array = new uint64_t[size];\n",
       "\tfor(uint i = 0; i < size; i++) {\n",
       "\t\tarray[i] = 0;\n",
       "\t}\n",
       "\n",
       "\tfor (uint j = 0; j < 3; j++) {\n",
       "\t\tfor(uint i= 1 ; i < size; i++) {\n",
       "\t\t\tarray[i] += i/(1+j)+array[i - 1];\n",
       "\t\t}\n",
       "\n",
       "\t}\n",
       "\treturn array;\n",
       "}"
      ]
     },
     "metadata": {},
     "output_type": "display_data"
    }
   ],
   "source": [
    "render_code(\"microbench.cpp\", show=\"baseline_int_O4\")"
   ]
  },
  {
   "cell_type": "markdown",
   "metadata": {},
   "source": [
    "It's identical to `baseline_int()` except that for the `__attribute__ ((optimize(4),noinline))` which is little bit of `gcc` magic to optimize this functions as much as it can (it's the equivalent of passing `-O4` on the command line but just for this function).\n",
    "\n",
    "Let's see how optimizations affect performance.  Kick off the experiment in the cell below and answer this question while it runs:"
   ]
  },
  {
   "cell_type": "markdown",
   "metadata": {},
   "source": [
    "<div class=\"question completeness\">\n",
    "    \n",
    "<div class=\"question-text\">\n",
    "    \n",
    "How do you think each term in the performance equation will change for `baseline_int()` compared to `baseline_int_O4()`?\n",
    "    \n",
    "</div>\n",
    "    \n",
    "<div class=\"answer\">\n",
    "\n",
    "**IC:**\n",
    "    \n",
    "**CPI:**\n",
    "    \n",
    "**CT:**\n",
    "    \n",
    "**ET:**\n",
    "    \n",
    "#KEY They need answers for all four\n",
    "</div>\n",
    "</div>"
   ]
  },
  {
   "cell_type": "code",
   "execution_count": 11,
   "metadata": {},
   "outputs": [
    {
     "name": "stdout",
     "output_type": "stream",
     "text": [
      "You are submitting a job for lab \"Lab 1: Introduction To the Tools\" (intro).\u001b[0m\n",
      "\u001b[31mThe due date for Lab 1: Introduction To the Tools has passed.  You can still submit, but you might want to submit for the current lab since the target docker image may be different, and things may not behave as described in the lab writeup.\u001b[0m\n",
      "Creating job 123dbee1-d764-4f4a-9e5e-8bbc020ba6c7 0.00 0.00\n",
      "Ready for submission. 4.76 4.76\n",
      "Job 123dbee1-d764-4f4a-9e5e-8bbc020ba6c7 is in state 'PUBLISHED'. 0.70 5.46.. \n",
      "Job 123dbee1-d764-4f4a-9e5e-8bbc020ba6c7 is in state 'RUNNING'. 3.21 8.67... \n",
      "Job 123dbee1-d764-4f4a-9e5e-8bbc020ba6c7 is in state 'DONE_RUNNING'. 4.27 12.94. \n",
      "Job 123dbee1-d764-4f4a-9e5e-8bbc020ba6c7 succeeded. 2.14 15.08Writing results 1.00 16.08\n",
      "Loading PAPI engine.\n",
      "Tracking PAPI_TOT_INS\n",
      "Tracking PAPI_TOT_CYC\n",
      "Execution complete\n",
      "Updated these files: ./opt.csv\n",
      "./opt.csv.raw\n",
      "Job Complete 0.54 16.62\n"
     ]
    }
   ],
   "source": [
    "!cse142 job run --lab intro './microbench.exe --stats opt.csv  --reps 25  --MHz 1900 --function baseline_int baseline_int_O4 --stat-set ./PE.cfg '"
   ]
  },
  {
   "cell_type": "code",
   "execution_count": 12,
   "metadata": {},
   "outputs": [
    {
     "data": {
      "text/html": [
       "<div>\n",
       "<style scoped>\n",
       "    .dataframe tbody tr th:only-of-type {\n",
       "        vertical-align: middle;\n",
       "    }\n",
       "\n",
       "    .dataframe tbody tr th {\n",
       "        vertical-align: top;\n",
       "    }\n",
       "\n",
       "    .dataframe thead th {\n",
       "        text-align: right;\n",
       "    }\n",
       "</style>\n",
       "<table border=\"1\" class=\"dataframe\">\n",
       "  <thead>\n",
       "    <tr style=\"text-align: right;\">\n",
       "      <th></th>\n",
       "      <th>function</th>\n",
       "      <th>IC</th>\n",
       "      <th>CPI</th>\n",
       "      <th>CT</th>\n",
       "      <th>ET</th>\n",
       "    </tr>\n",
       "    <tr>\n",
       "      <th>function</th>\n",
       "      <th></th>\n",
       "      <th></th>\n",
       "      <th></th>\n",
       "      <th></th>\n",
       "      <th></th>\n",
       "    </tr>\n",
       "  </thead>\n",
       "  <tbody>\n",
       "    <tr>\n",
       "      <th>baseline_int</th>\n",
       "      <td>baseline_int</td>\n",
       "      <td>1.048600e+08</td>\n",
       "      <td>0.629034</td>\n",
       "      <td>5.290296e-10</td>\n",
       "      <td>0.034888</td>\n",
       "    </tr>\n",
       "    <tr>\n",
       "      <th>baseline_int_O4</th>\n",
       "      <td>baseline_int_O4</td>\n",
       "      <td>3.670284e+07</td>\n",
       "      <td>0.875297</td>\n",
       "      <td>5.278220e-10</td>\n",
       "      <td>0.016957</td>\n",
       "    </tr>\n",
       "  </tbody>\n",
       "</table>\n",
       "</div>"
      ],
      "text/plain": [
       "                        function            IC       CPI            CT  \\\n",
       "function                                                                 \n",
       "baseline_int        baseline_int  1.048600e+08  0.629034  5.290296e-10   \n",
       "baseline_int_O4  baseline_int_O4  3.670284e+07  0.875297  5.278220e-10   \n",
       "\n",
       "                       ET  \n",
       "function                   \n",
       "baseline_int     0.034888  \n",
       "baseline_int_O4  0.016957  "
      ]
     },
     "execution_count": 12,
     "metadata": {},
     "output_type": "execute_result"
    },
    {
     "data": {
      "image/png": "[encoded data removed]",
      "text/plain": [
       "<Figure size 1600x400 with 4 Axes>"
      ]
     },
     "metadata": {
      "needs_background": "light"
     },
     "output_type": "display_data"
    }
   ],
   "source": [
    "plotPEBar(\"opt.csv\", what=[ ('function', \"IC\"), (\"function\", \"CPI\"), (\"function\", \"CT\"), (\"function\", \"ET\") ], columns=4, average_by=\"function\")\n",
    "render_csv(\"opt.csv\", columns=[\"function\",\"IC\", \"CPI\", \"CT\", \"ET\",], average_by=\"function\")"
   ]
  },
  {
   "cell_type": "markdown",
   "metadata": {},
   "source": [
    "<div class=\"question completeness\">\n",
    "\n",
    "<div class=\"question-text\">\n",
    "    \n",
    "Based on the data above, describe in words what affect the optimizations had on the code and the value of each term of the PE. \n",
    "    \n",
    "</div>\n",
    "    \n",
    "<div class=\"answer\">\n",
    "    \n",
    "</div>\n",
    "    \n",
    "</div>"
   ]
  },
  {
   "cell_type": "markdown",
   "metadata": {},
   "source": [
    "<div class=\"question correctness points-2\">\n",
    "\n",
    "<div class=\"question-text\">\n",
    "    \n",
    "If the CPI remained constant and the other terms of the PE remained the same, how much speedup would the optimizer provide (show your work)?\n",
    "    \n",
    "</div>\n",
    "    \n",
    "<div class=\"answer\">\n",
    "    \n",
    "#KEY They should set the CPI for the O4 version equal to the non-opt version and multiply by CT and IC.  I get 2.58, but their numbers might be different.  So something like: `0.035/(4e7*0.64*5.3e-10)` = 2.58\n",
    "    \n",
    "</div>\n",
    "    \n",
    "</div>"
   ]
  },
  {
   "cell_type": "markdown",
   "metadata": {},
   "source": [
    "### Code Structure\n",
    "\n",
    "These two functions increment all the element in an array by `1.0`, but they do it slightly different ways."
   ]
  },
  {
   "cell_type": "code",
   "execution_count": 13,
   "metadata": {
    "init_cell": true
   },
   "outputs": [
    {
     "data": {
      "text/html": [
       "\n",
       "            <style>\n",
       "        .side-by-side {\n",
       "            display: flex;\n",
       "            align-items: stretch;\n",
       "\n",
       "        }\n",
       "        .side-by-side-pane {\n",
       "            margin-right:1em;\n",
       "            border-right-style: solid;\n",
       "            border-right-color: black;\n",
       "            border-right-width: 1px;\n",
       "            flex: 1;\n",
       "        }\n",
       "        </style>\n",
       "        <div class=\"side-by-side\"> <div class='side-by-side-pane'><style>.output_html .hll { background-color: #ffffcc }\n",
       ".output_html  { background: #f8f8f8; }\n",
       ".output_html .c { color: #408080; font-style: italic } /* Comment */\n",
       ".output_html .err { border: 1px solid #FF0000 } /* Error */\n",
       ".output_html .k { color: #008000; font-weight: bold } /* Keyword */\n",
       ".output_html .o { color: #666666 } /* Operator */\n",
       ".output_html .ch { color: #408080; font-style: italic } /* Comment.Hashbang */\n",
       ".output_html .cm { color: #408080; font-style: italic } /* Comment.Multiline */\n",
       ".output_html .cp { color: #BC7A00 } /* Comment.Preproc */\n",
       ".output_html .cpf { color: #408080; font-style: italic } /* Comment.PreprocFile */\n",
       ".output_html .c1 { color: #408080; font-style: italic } /* Comment.Single */\n",
       ".output_html .cs { color: #408080; font-style: italic } /* Comment.Special */\n",
       ".output_html .gd { color: #A00000 } /* Generic.Deleted */\n",
       ".output_html .ge { font-style: italic } /* Generic.Emph */\n",
       ".output_html .gr { color: #FF0000 } /* Generic.Error */\n",
       ".output_html .gh { color: #000080; font-weight: bold } /* Generic.Heading */\n",
       ".output_html .gi { color: #00A000 } /* Generic.Inserted */\n",
       ".output_html .go { color: #888888 } /* Generic.Output */\n",
       ".output_html .gp { color: #000080; font-weight: bold } /* Generic.Prompt */\n",
       ".output_html .gs { font-weight: bold } /* Generic.Strong */\n",
       ".output_html .gu { color: #800080; font-weight: bold } /* Generic.Subheading */\n",
       ".output_html .gt { color: #0044DD } /* Generic.Traceback */\n",
       ".output_html .kc { color: #008000; font-weight: bold } /* Keyword.Constant */\n",
       ".output_html .kd { color: #008000; font-weight: bold } /* Keyword.Declaration */\n",
       ".output_html .kn { color: #008000; font-weight: bold } /* Keyword.Namespace */\n",
       ".output_html .kp { color: #008000 } /* Keyword.Pseudo */\n",
       ".output_html .kr { color: #008000; font-weight: bold } /* Keyword.Reserved */\n",
       ".output_html .kt { color: #B00040 } /* Keyword.Type */\n",
       ".output_html .m { color: #666666 } /* Literal.Number */\n",
       ".output_html .s { color: #BA2121 } /* Literal.String */\n",
       ".output_html .na { color: #7D9029 } /* Name.Attribute */\n",
       ".output_html .nb { color: #008000 } /* Name.Builtin */\n",
       ".output_html .nc { color: #0000FF; font-weight: bold } /* Name.Class */\n",
       ".output_html .no { color: #880000 } /* Name.Constant */\n",
       ".output_html .nd { color: #AA22FF } /* Name.Decorator */\n",
       ".output_html .ni { color: #999999; font-weight: bold } /* Name.Entity */\n",
       ".output_html .ne { color: #D2413A; font-weight: bold } /* Name.Exception */\n",
       ".output_html .nf { color: #0000FF } /* Name.Function */\n",
       ".output_html .nl { color: #A0A000 } /* Name.Label */\n",
       ".output_html .nn { color: #0000FF; font-weight: bold } /* Name.Namespace */\n",
       ".output_html .nt { color: #008000; font-weight: bold } /* Name.Tag */\n",
       ".output_html .nv { color: #19177C } /* Name.Variable */\n",
       ".output_html .ow { color: #AA22FF; font-weight: bold } /* Operator.Word */\n",
       ".output_html .w { color: #bbbbbb } /* Text.Whitespace */\n",
       ".output_html .mb { color: #666666 } /* Literal.Number.Bin */\n",
       ".output_html .mf { color: #666666 } /* Literal.Number.Float */\n",
       ".output_html .mh { color: #666666 } /* Literal.Number.Hex */\n",
       ".output_html .mi { color: #666666 } /* Literal.Number.Integer */\n",
       ".output_html .mo { color: #666666 } /* Literal.Number.Oct */\n",
       ".output_html .sa { color: #BA2121 } /* Literal.String.Affix */\n",
       ".output_html .sb { color: #BA2121 } /* Literal.String.Backtick */\n",
       ".output_html .sc { color: #BA2121 } /* Literal.String.Char */\n",
       ".output_html .dl { color: #BA2121 } /* Literal.String.Delimiter */\n",
       ".output_html .sd { color: #BA2121; font-style: italic } /* Literal.String.Doc */\n",
       ".output_html .s2 { color: #BA2121 } /* Literal.String.Double */\n",
       ".output_html .se { color: #BB6622; font-weight: bold } /* Literal.String.Escape */\n",
       ".output_html .sh { color: #BA2121 } /* Literal.String.Heredoc */\n",
       ".output_html .si { color: #BB6688; font-weight: bold } /* Literal.String.Interpol */\n",
       ".output_html .sx { color: #008000 } /* Literal.String.Other */\n",
       ".output_html .sr { color: #BB6688 } /* Literal.String.Regex */\n",
       ".output_html .s1 { color: #BA2121 } /* Literal.String.Single */\n",
       ".output_html .ss { color: #19177C } /* Literal.String.Symbol */\n",
       ".output_html .bp { color: #008000 } /* Name.Builtin.Pseudo */\n",
       ".output_html .fm { color: #0000FF } /* Name.Function.Magic */\n",
       ".output_html .vc { color: #19177C } /* Name.Variable.Class */\n",
       ".output_html .vg { color: #19177C } /* Name.Variable.Global */\n",
       ".output_html .vi { color: #19177C } /* Name.Variable.Instance */\n",
       ".output_html .vm { color: #19177C } /* Name.Variable.Magic */\n",
       ".output_html .il { color: #666666 } /* Literal.Number.Integer.Long */</style><div class=\"highlight\"><pre><span></span><span class=\"c1\">// microbench.cpp:123-134 (12 lines)</span>\n",
       "<span class=\"k\">extern</span> <span class=\"s\">&quot;C&quot;</span> <span class=\"kt\">uint64_t</span> <span class=\"o\">*</span><span class=\"n\">__attribute__</span> <span class=\"p\">((</span><span class=\"n\">optimize</span><span class=\"p\">(</span><span class=\"mi\">4</span><span class=\"p\">)))</span> <span class=\"n\">matrix_row_major</span><span class=\"p\">(</span><span class=\"kt\">uint64_t</span> <span class=\"o\">*</span> <span class=\"n\">_array</span><span class=\"p\">,</span> <span class=\"kt\">unsigned</span> <span class=\"kt\">long</span> <span class=\"kt\">int</span> <span class=\"n\">size</span><span class=\"p\">)</span> <span class=\"p\">{</span>\n",
       "\n",
       "\t<span class=\"kt\">double</span> <span class=\"o\">*</span> <span class=\"n\">array</span> <span class=\"o\">=</span> <span class=\"p\">(</span><span class=\"kt\">double</span><span class=\"o\">*</span><span class=\"p\">)</span><span class=\"n\">_array</span><span class=\"p\">;</span>\n",
       "\n",
       "\t<span class=\"k\">for</span><span class=\"p\">(</span><span class=\"n\">uint</span> <span class=\"n\">i</span><span class=\"o\">=</span> <span class=\"mi\">0</span><span class=\"p\">;</span> <span class=\"n\">i</span> <span class=\"o\">&lt;</span> <span class=\"n\">size</span><span class=\"o\">/</span><span class=\"n\">ROW_SIZE</span><span class=\"p\">;</span> <span class=\"n\">i</span><span class=\"o\">++</span><span class=\"p\">)</span> <span class=\"p\">{</span>\n",
       "\t\t<span class=\"k\">for</span> <span class=\"p\">(</span><span class=\"kt\">int</span> <span class=\"n\">k</span> <span class=\"o\">=</span> <span class=\"mi\">0</span><span class=\"p\">;</span> <span class=\"n\">k</span> <span class=\"o\">&lt;</span> <span class=\"n\">ROW_SIZE</span><span class=\"p\">;</span> <span class=\"n\">k</span><span class=\"o\">++</span><span class=\"p\">)</span> <span class=\"p\">{</span>\n",
       "\t\t\t<span class=\"n\">array</span><span class=\"p\">[</span><span class=\"n\">i</span><span class=\"o\">*</span><span class=\"n\">ROW_SIZE</span> <span class=\"o\">+</span> <span class=\"n\">k</span><span class=\"p\">]</span> <span class=\"o\">+=</span> <span class=\"mf\">1.0</span><span class=\"p\">;</span> <span class=\"c1\">// This Line</span>\n",
       "\t\t<span class=\"p\">}</span>\n",
       "\t<span class=\"p\">}</span>\n",
       "\t\n",
       "\t<span class=\"k\">return</span> <span class=\"p\">(</span><span class=\"kt\">uint64_t</span><span class=\"o\">*</span><span class=\"p\">)</span><span class=\"n\">array</span><span class=\"p\">;</span>\n",
       "<span class=\"p\">}</span>\n",
       "</pre></div>\n",
       "</div><div class='side-by-side-pane'><style>.output_html .hll { background-color: #ffffcc }\n",
       ".output_html  { background: #f8f8f8; }\n",
       ".output_html .c { color: #408080; font-style: italic } /* Comment */\n",
       ".output_html .err { border: 1px solid #FF0000 } /* Error */\n",
       ".output_html .k { color: #008000; font-weight: bold } /* Keyword */\n",
       ".output_html .o { color: #666666 } /* Operator */\n",
       ".output_html .ch { color: #408080; font-style: italic } /* Comment.Hashbang */\n",
       ".output_html .cm { color: #408080; font-style: italic } /* Comment.Multiline */\n",
       ".output_html .cp { color: #BC7A00 } /* Comment.Preproc */\n",
       ".output_html .cpf { color: #408080; font-style: italic } /* Comment.PreprocFile */\n",
       ".output_html .c1 { color: #408080; font-style: italic } /* Comment.Single */\n",
       ".output_html .cs { color: #408080; font-style: italic } /* Comment.Special */\n",
       ".output_html .gd { color: #A00000 } /* Generic.Deleted */\n",
       ".output_html .ge { font-style: italic } /* Generic.Emph */\n",
       ".output_html .gr { color: #FF0000 } /* Generic.Error */\n",
       ".output_html .gh { color: #000080; font-weight: bold } /* Generic.Heading */\n",
       ".output_html .gi { color: #00A000 } /* Generic.Inserted */\n",
       ".output_html .go { color: #888888 } /* Generic.Output */\n",
       ".output_html .gp { color: #000080; font-weight: bold } /* Generic.Prompt */\n",
       ".output_html .gs { font-weight: bold } /* Generic.Strong */\n",
       ".output_html .gu { color: #800080; font-weight: bold } /* Generic.Subheading */\n",
       ".output_html .gt { color: #0044DD } /* Generic.Traceback */\n",
       ".output_html .kc { color: #008000; font-weight: bold } /* Keyword.Constant */\n",
       ".output_html .kd { color: #008000; font-weight: bold } /* Keyword.Declaration */\n",
       ".output_html .kn { color: #008000; font-weight: bold } /* Keyword.Namespace */\n",
       ".output_html .kp { color: #008000 } /* Keyword.Pseudo */\n",
       ".output_html .kr { color: #008000; font-weight: bold } /* Keyword.Reserved */\n",
       ".output_html .kt { color: #B00040 } /* Keyword.Type */\n",
       ".output_html .m { color: #666666 } /* Literal.Number */\n",
       ".output_html .s { color: #BA2121 } /* Literal.String */\n",
       ".output_html .na { color: #7D9029 } /* Name.Attribute */\n",
       ".output_html .nb { color: #008000 } /* Name.Builtin */\n",
       ".output_html .nc { color: #0000FF; font-weight: bold } /* Name.Class */\n",
       ".output_html .no { color: #880000 } /* Name.Constant */\n",
       ".output_html .nd { color: #AA22FF } /* Name.Decorator */\n",
       ".output_html .ni { color: #999999; font-weight: bold } /* Name.Entity */\n",
       ".output_html .ne { color: #D2413A; font-weight: bold } /* Name.Exception */\n",
       ".output_html .nf { color: #0000FF } /* Name.Function */\n",
       ".output_html .nl { color: #A0A000 } /* Name.Label */\n",
       ".output_html .nn { color: #0000FF; font-weight: bold } /* Name.Namespace */\n",
       ".output_html .nt { color: #008000; font-weight: bold } /* Name.Tag */\n",
       ".output_html .nv { color: #19177C } /* Name.Variable */\n",
       ".output_html .ow { color: #AA22FF; font-weight: bold } /* Operator.Word */\n",
       ".output_html .w { color: #bbbbbb } /* Text.Whitespace */\n",
       ".output_html .mb { color: #666666 } /* Literal.Number.Bin */\n",
       ".output_html .mf { color: #666666 } /* Literal.Number.Float */\n",
       ".output_html .mh { color: #666666 } /* Literal.Number.Hex */\n",
       ".output_html .mi { color: #666666 } /* Literal.Number.Integer */\n",
       ".output_html .mo { color: #666666 } /* Literal.Number.Oct */\n",
       ".output_html .sa { color: #BA2121 } /* Literal.String.Affix */\n",
       ".output_html .sb { color: #BA2121 } /* Literal.String.Backtick */\n",
       ".output_html .sc { color: #BA2121 } /* Literal.String.Char */\n",
       ".output_html .dl { color: #BA2121 } /* Literal.String.Delimiter */\n",
       ".output_html .sd { color: #BA2121; font-style: italic } /* Literal.String.Doc */\n",
       ".output_html .s2 { color: #BA2121 } /* Literal.String.Double */\n",
       ".output_html .se { color: #BB6622; font-weight: bold } /* Literal.String.Escape */\n",
       ".output_html .sh { color: #BA2121 } /* Literal.String.Heredoc */\n",
       ".output_html .si { color: #BB6688; font-weight: bold } /* Literal.String.Interpol */\n",
       ".output_html .sx { color: #008000 } /* Literal.String.Other */\n",
       ".output_html .sr { color: #BB6688 } /* Literal.String.Regex */\n",
       ".output_html .s1 { color: #BA2121 } /* Literal.String.Single */\n",
       ".output_html .ss { color: #19177C } /* Literal.String.Symbol */\n",
       ".output_html .bp { color: #008000 } /* Name.Builtin.Pseudo */\n",
       ".output_html .fm { color: #0000FF } /* Name.Function.Magic */\n",
       ".output_html .vc { color: #19177C } /* Name.Variable.Class */\n",
       ".output_html .vg { color: #19177C } /* Name.Variable.Global */\n",
       ".output_html .vi { color: #19177C } /* Name.Variable.Instance */\n",
       ".output_html .vm { color: #19177C } /* Name.Variable.Magic */\n",
       ".output_html .il { color: #666666 } /* Literal.Number.Integer.Long */</style><div class=\"highlight\"><pre><span></span><span class=\"c1\">// microbench.cpp:108-119 (12 lines)</span>\n",
       "<span class=\"k\">extern</span> <span class=\"s\">&quot;C&quot;</span> <span class=\"kt\">uint64_t</span> <span class=\"o\">*</span><span class=\"n\">__attribute__</span> <span class=\"p\">((</span><span class=\"n\">optimize</span><span class=\"p\">(</span><span class=\"mi\">4</span><span class=\"p\">)))</span> <span class=\"n\">matrix_column_major</span><span class=\"p\">(</span><span class=\"kt\">uint64_t</span> <span class=\"o\">*</span> <span class=\"n\">_array</span><span class=\"p\">,</span> <span class=\"kt\">unsigned</span> <span class=\"kt\">long</span> <span class=\"kt\">int</span> <span class=\"n\">size</span><span class=\"p\">)</span> <span class=\"p\">{</span>\n",
       "<span class=\"cp\">#define ROW_SIZE 1024</span>\n",
       "\t<span class=\"kt\">double</span> <span class=\"o\">*</span> <span class=\"n\">array</span> <span class=\"o\">=</span> <span class=\"p\">(</span><span class=\"kt\">double</span><span class=\"o\">*</span><span class=\"p\">)</span><span class=\"n\">_array</span><span class=\"p\">;</span>\n",
       "\n",
       "\t<span class=\"k\">for</span> <span class=\"p\">(</span><span class=\"kt\">int</span> <span class=\"n\">k</span> <span class=\"o\">=</span> <span class=\"mi\">0</span><span class=\"p\">;</span> <span class=\"n\">k</span> <span class=\"o\">&lt;</span> <span class=\"n\">ROW_SIZE</span><span class=\"p\">;</span> <span class=\"n\">k</span><span class=\"o\">++</span><span class=\"p\">)</span> <span class=\"p\">{</span>\n",
       "\t\t<span class=\"k\">for</span><span class=\"p\">(</span><span class=\"n\">uint</span> <span class=\"n\">i</span><span class=\"o\">=</span> <span class=\"mi\">0</span> <span class=\"p\">;</span> <span class=\"n\">i</span> <span class=\"o\">&lt;</span> <span class=\"n\">size</span><span class=\"o\">/</span><span class=\"n\">ROW_SIZE</span><span class=\"p\">;</span> <span class=\"n\">i</span><span class=\"o\">++</span><span class=\"p\">)</span> <span class=\"p\">{</span>\n",
       "\t\t\t<span class=\"n\">array</span><span class=\"p\">[</span><span class=\"n\">i</span><span class=\"o\">*</span><span class=\"n\">ROW_SIZE</span> <span class=\"o\">+</span> <span class=\"n\">k</span><span class=\"p\">]</span> <span class=\"o\">+=</span> <span class=\"mf\">1.0</span><span class=\"p\">;</span> <span class=\"c1\">// This Line</span>\n",
       "\t\t<span class=\"p\">}</span>\n",
       "\t<span class=\"p\">}</span>\n",
       "\t\n",
       "\t<span class=\"k\">return</span> <span class=\"p\">(</span><span class=\"kt\">uint64_t</span><span class=\"o\">*</span><span class=\"p\">)</span><span class=\"n\">array</span><span class=\"p\">;</span>\n",
       "<span class=\"p\">}</span>\n",
       "</pre></div>\n",
       "</div>\n",
       "        </div>\n",
       "    "
      ],
      "text/plain": [
       "<IPython.core.display.HTML object>"
      ]
     },
     "execution_count": 13,
     "metadata": {},
     "output_type": "execute_result"
    }
   ],
   "source": [
    "compare([do_render_code(\"microbench.cpp\", show=\"matrix_row_major\"),\n",
    "         do_render_code(\"microbench.cpp\", show=\"matrix_column_major\")])"
   ]
  },
  {
   "cell_type": "markdown",
   "metadata": {},
   "source": [
    "We'll run both versions and compare their performance.  Kick off the  experiment below and answer this question:"
   ]
  },
  {
   "cell_type": "markdown",
   "metadata": {},
   "source": [
    "<div class=\"question completeness\">\n",
    "\n",
    "<div class=\"question-text\">\n",
    "    \n",
    "If `size` is equal to 8,388,608 how many times will \"This Line\" execute in each function?  Do you think one will be faster than the other?  Why?\n",
    "    \n",
    "</div>\n",
    "    \n",
    "<div class=\"answer\">\n",
    "        \n",
    "**How many times does `This Line` execute in `matrix_row_major()`:**\n",
    "\n",
    "#KEY 8,388,608\n",
    "    \n",
    "**How many times does `This Line` execute in `matrix_column_major()`:**\n",
    "\n",
    "#KEY 8,388,608\n",
    "    \n",
    "**Is there any difference in the \"Big-O\" running time of these two functions?**\n",
    "\n",
    "#KEY No\n",
    "    \n",
    "**Do you think one will be faster than the other?  Why?**\n",
    "\n",
    "#KEY Any answer.\n",
    "\n",
    "</div>\n",
    "    \n",
    "</div>"
   ]
  },
  {
   "cell_type": "code",
   "execution_count": 30,
   "metadata": {
    "scrolled": true
   },
   "outputs": [
    {
     "name": "stdout",
     "output_type": "stream",
     "text": [
      "You are submitting a job for lab \"Lab 1: Introduction To the Tools\" (intro).\u001b[0m\n",
      "\u001b[31mThe due date for Lab 1: Introduction To the Tools has passed.  You can still submit, but you might want to submit for the current lab since the target docker image may be different, and things may not behave as described in the lab writeup.\u001b[0m\n",
      "Creating job 9f80a167-8465-4349-9ef5-963671c1eeab 0.00 0.00\n",
      "Ready for submission. 4.40 4.40\n",
      "Job 9f80a167-8465-4349-9ef5-963671c1eeab is in state 'PUBLISHED'. 0.80 5.19 \n",
      "Job 9f80a167-8465-4349-9ef5-963671c1eeab is in state 'RUNNING'. 7.37 12.56 \n",
      "Job 9f80a167-8465-4349-9ef5-963671c1eeab is in state 'DONE_RUNNING'. 1.06 13.62. \n",
      "Job 9f80a167-8465-4349-9ef5-963671c1eeab succeeded. 2.14 15.76Writing results 1.00 16.76\n",
      "Loading PAPI engine.\n",
      "Tracking PAPI_TOT_INS\n",
      "Tracking PAPI_TOT_CYC\n",
      "Execution complete\n",
      "Updated these files: ./matrix.csv\n",
      "./matrix.csv.raw\n",
      "Job Complete 0.49 17.25\n"
     ]
    }
   ],
   "source": [
    "!cse142 job run --lab intro  './microbench.exe --stats matrix.csv --size 8388608 --reps 25  --MHz 1900 --function matrix_row_major matrix_column_major --stat-set ./PE.cfg'\n"
   ]
  },
  {
   "cell_type": "code",
   "execution_count": 15,
   "metadata": {},
   "outputs": [
    {
     "data": {
      "text/html": [
       "<div>\n",
       "<style scoped>\n",
       "    .dataframe tbody tr th:only-of-type {\n",
       "        vertical-align: middle;\n",
       "    }\n",
       "\n",
       "    .dataframe tbody tr th {\n",
       "        vertical-align: top;\n",
       "    }\n",
       "\n",
       "    .dataframe thead th {\n",
       "        text-align: right;\n",
       "    }\n",
       "</style>\n",
       "<table border=\"1\" class=\"dataframe\">\n",
       "  <thead>\n",
       "    <tr style=\"text-align: right;\">\n",
       "      <th></th>\n",
       "      <th>IC</th>\n",
       "      <th>CPI</th>\n",
       "      <th>CT</th>\n",
       "      <th>ET</th>\n",
       "    </tr>\n",
       "    <tr>\n",
       "      <th>function</th>\n",
       "      <th></th>\n",
       "      <th></th>\n",
       "      <th></th>\n",
       "      <th></th>\n",
       "    </tr>\n",
       "  </thead>\n",
       "  <tbody>\n",
       "    <tr>\n",
       "      <th>matrix_column_major</th>\n",
       "      <td>83893871.88</td>\n",
       "      <td>1.866057</td>\n",
       "      <td>5.272038e-10</td>\n",
       "      <td>0.082534</td>\n",
       "    </tr>\n",
       "    <tr>\n",
       "      <th>matrix_row_major</th>\n",
       "      <td>67169522.88</td>\n",
       "      <td>0.604221</td>\n",
       "      <td>5.413402e-10</td>\n",
       "      <td>0.022257</td>\n",
       "    </tr>\n",
       "  </tbody>\n",
       "</table>\n",
       "</div>"
      ],
      "text/plain": [
       "                              IC       CPI            CT        ET\n",
       "function                                                          \n",
       "matrix_column_major  83893871.88  1.866057  5.272038e-10  0.082534\n",
       "matrix_row_major     67169522.88  0.604221  5.413402e-10  0.022257"
      ]
     },
     "execution_count": 15,
     "metadata": {},
     "output_type": "execute_result"
    },
    {
     "data": {
      "image/png": "[encoded data removed]",
      "text/plain": [
       "<Figure size 1600x400 with 4 Axes>"
      ]
     },
     "metadata": {
      "needs_background": "light"
     },
     "output_type": "display_data"
    }
   ],
   "source": [
    "plotPEBar(\"matrix.csv\", what=[ ('function', \"IC\"), (\"function\", \"CPI\"), (\"function\", \"CT\"), (\"function\", \"ET\") ], average_by=\"function\", columns=4, skip=2)\n",
    "render_csv(\"matrix.csv\", columns=[\"IC\", \"CPI\", \"CT\", \"ET\"], average_by=\"function\")"
   ]
  },
  {
   "cell_type": "markdown",
   "metadata": {},
   "source": [
    "<div class=\"question completeness\">\n",
    "\n",
    "    \n",
    "<div class=\"question-text\">\n",
    "\n",
    "Calculate the speedup of `matrix_row_major` over `matrix_column_major`.  Why is this result surprising?\n",
    "\n",
    "</div>\n",
    "    \n",
    "<div class=\"answer\">\n",
    "        \n",
    "**Speedup:**\n",
    "    \n",
    "#KEY 0.087/0.022 = 3.95\n",
    "    \n",
    "**Why this surprising?:**\n",
    "\n",
    "#KEY because they do exactly the same work.\n",
    "</div>\n",
    "    \n",
    "</div>"
   ]
  },
  {
   "attachments": {
    "image.png": {
     "image/png": "[encoded data removed]"
    }
   },
   "cell_type": "markdown",
   "metadata": {},
   "source": [
    "<div class=\"alert alert-block alert-success\">\n",
    "\n",
    "**Interesting Question:** Why does the order in which the program performs calculations affect `CPI`?\n",
    "    \n",
    "![image.png](attachment:image.png)\n",
    "</div>"
   ]
  },
  {
   "cell_type": "markdown",
   "metadata": {},
   "source": [
    "# Amdahl's Law"
   ]
  },
  {
   "cell_type": "markdown",
   "metadata": {},
   "source": [
    "The function below (also in `microbench.cpp`) calls two of the other functions we have studied."
   ]
  },
  {
   "cell_type": "code",
   "execution_count": 16,
   "metadata": {
    "init_cell": true
   },
   "outputs": [
    {
     "data": {
      "text/html": [
       "<style>.output_html .hll { background-color: #ffffcc }\n",
       ".output_html  { background: #f8f8f8; }\n",
       ".output_html .c { color: #408080; font-style: italic } /* Comment */\n",
       ".output_html .err { border: 1px solid #FF0000 } /* Error */\n",
       ".output_html .k { color: #008000; font-weight: bold } /* Keyword */\n",
       ".output_html .o { color: #666666 } /* Operator */\n",
       ".output_html .ch { color: #408080; font-style: italic } /* Comment.Hashbang */\n",
       ".output_html .cm { color: #408080; font-style: italic } /* Comment.Multiline */\n",
       ".output_html .cp { color: #BC7A00 } /* Comment.Preproc */\n",
       ".output_html .cpf { color: #408080; font-style: italic } /* Comment.PreprocFile */\n",
       ".output_html .c1 { color: #408080; font-style: italic } /* Comment.Single */\n",
       ".output_html .cs { color: #408080; font-style: italic } /* Comment.Special */\n",
       ".output_html .gd { color: #A00000 } /* Generic.Deleted */\n",
       ".output_html .ge { font-style: italic } /* Generic.Emph */\n",
       ".output_html .gr { color: #FF0000 } /* Generic.Error */\n",
       ".output_html .gh { color: #000080; font-weight: bold } /* Generic.Heading */\n",
       ".output_html .gi { color: #00A000 } /* Generic.Inserted */\n",
       ".output_html .go { color: #888888 } /* Generic.Output */\n",
       ".output_html .gp { color: #000080; font-weight: bold } /* Generic.Prompt */\n",
       ".output_html .gs { font-weight: bold } /* Generic.Strong */\n",
       ".output_html .gu { color: #800080; font-weight: bold } /* Generic.Subheading */\n",
       ".output_html .gt { color: #0044DD } /* Generic.Traceback */\n",
       ".output_html .kc { color: #008000; font-weight: bold } /* Keyword.Constant */\n",
       ".output_html .kd { color: #008000; font-weight: bold } /* Keyword.Declaration */\n",
       ".output_html .kn { color: #008000; font-weight: bold } /* Keyword.Namespace */\n",
       ".output_html .kp { color: #008000 } /* Keyword.Pseudo */\n",
       ".output_html .kr { color: #008000; font-weight: bold } /* Keyword.Reserved */\n",
       ".output_html .kt { color: #B00040 } /* Keyword.Type */\n",
       ".output_html .m { color: #666666 } /* Literal.Number */\n",
       ".output_html .s { color: #BA2121 } /* Literal.String */\n",
       ".output_html .na { color: #7D9029 } /* Name.Attribute */\n",
       ".output_html .nb { color: #008000 } /* Name.Builtin */\n",
       ".output_html .nc { color: #0000FF; font-weight: bold } /* Name.Class */\n",
       ".output_html .no { color: #880000 } /* Name.Constant */\n",
       ".output_html .nd { color: #AA22FF } /* Name.Decorator */\n",
       ".output_html .ni { color: #999999; font-weight: bold } /* Name.Entity */\n",
       ".output_html .ne { color: #D2413A; font-weight: bold } /* Name.Exception */\n",
       ".output_html .nf { color: #0000FF } /* Name.Function */\n",
       ".output_html .nl { color: #A0A000 } /* Name.Label */\n",
       ".output_html .nn { color: #0000FF; font-weight: bold } /* Name.Namespace */\n",
       ".output_html .nt { color: #008000; font-weight: bold } /* Name.Tag */\n",
       ".output_html .nv { color: #19177C } /* Name.Variable */\n",
       ".output_html .ow { color: #AA22FF; font-weight: bold } /* Operator.Word */\n",
       ".output_html .w { color: #bbbbbb } /* Text.Whitespace */\n",
       ".output_html .mb { color: #666666 } /* Literal.Number.Bin */\n",
       ".output_html .mf { color: #666666 } /* Literal.Number.Float */\n",
       ".output_html .mh { color: #666666 } /* Literal.Number.Hex */\n",
       ".output_html .mi { color: #666666 } /* Literal.Number.Integer */\n",
       ".output_html .mo { color: #666666 } /* Literal.Number.Oct */\n",
       ".output_html .sa { color: #BA2121 } /* Literal.String.Affix */\n",
       ".output_html .sb { color: #BA2121 } /* Literal.String.Backtick */\n",
       ".output_html .sc { color: #BA2121 } /* Literal.String.Char */\n",
       ".output_html .dl { color: #BA2121 } /* Literal.String.Delimiter */\n",
       ".output_html .sd { color: #BA2121; font-style: italic } /* Literal.String.Doc */\n",
       ".output_html .s2 { color: #BA2121 } /* Literal.String.Double */\n",
       ".output_html .se { color: #BB6622; font-weight: bold } /* Literal.String.Escape */\n",
       ".output_html .sh { color: #BA2121 } /* Literal.String.Heredoc */\n",
       ".output_html .si { color: #BB6688; font-weight: bold } /* Literal.String.Interpol */\n",
       ".output_html .sx { color: #008000 } /* Literal.String.Other */\n",
       ".output_html .sr { color: #BB6688 } /* Literal.String.Regex */\n",
       ".output_html .s1 { color: #BA2121 } /* Literal.String.Single */\n",
       ".output_html .ss { color: #19177C } /* Literal.String.Symbol */\n",
       ".output_html .bp { color: #008000 } /* Name.Builtin.Pseudo */\n",
       ".output_html .fm { color: #0000FF } /* Name.Function.Magic */\n",
       ".output_html .vc { color: #19177C } /* Name.Variable.Class */\n",
       ".output_html .vg { color: #19177C } /* Name.Variable.Global */\n",
       ".output_html .vi { color: #19177C } /* Name.Variable.Instance */\n",
       ".output_html .vm { color: #19177C } /* Name.Variable.Magic */\n",
       ".output_html .il { color: #666666 } /* Literal.Number.Integer.Long */</style><div class=\"highlight\"><pre><span></span><span class=\"c1\">// microbench.cpp:136-140 (5 lines)</span>\n",
       "<span class=\"k\">extern</span> <span class=\"s\">&quot;C&quot;</span> <span class=\"kt\">uint64_t</span> <span class=\"o\">*</span><span class=\"n\">__attribute__</span> <span class=\"p\">((</span><span class=\"n\">optimize</span><span class=\"p\">(</span><span class=\"mi\">0</span><span class=\"p\">)))</span> <span class=\"n\">everything</span><span class=\"p\">(</span><span class=\"kt\">uint64_t</span> <span class=\"o\">*</span> <span class=\"n\">array</span><span class=\"p\">,</span> <span class=\"kt\">unsigned</span> <span class=\"kt\">long</span> <span class=\"kt\">int</span> <span class=\"n\">size</span><span class=\"p\">)</span> <span class=\"p\">{</span>\n",
       "\t<span class=\"n\">matrix_column_major</span><span class=\"p\">(</span><span class=\"n\">array</span><span class=\"p\">,</span> <span class=\"n\">size</span><span class=\"p\">);</span>\n",
       "\t<span class=\"n\">baseline_int</span><span class=\"p\">(</span><span class=\"n\">array</span><span class=\"p\">,</span><span class=\"n\">size</span><span class=\"p\">);</span>\n",
       "\t<span class=\"k\">return</span> <span class=\"n\">array</span><span class=\"p\">;</span>\n",
       "<span class=\"p\">}</span>\n",
       "</pre></div>\n"
      ],
      "text/latex": [
       "\\begin{Verbatim}[commandchars=\\\\\\{\\}]\n",
       "\\PY{c+c1}{// microbench.cpp:136\\PYZhy{}140 (5 lines)}\n",
       "\\PY{k}{extern} \\PY{l+s}{\\PYZdq{}}\\PY{l+s}{C}\\PY{l+s}{\\PYZdq{}} \\PY{k+kt}{uint64\\PYZus{}t} \\PY{o}{*}\\PY{n}{\\PYZus{}\\PYZus{}attribute\\PYZus{}\\PYZus{}} \\PY{p}{(}\\PY{p}{(}\\PY{n}{optimize}\\PY{p}{(}\\PY{l+m+mi}{0}\\PY{p}{)}\\PY{p}{)}\\PY{p}{)} \\PY{n}{everything}\\PY{p}{(}\\PY{k+kt}{uint64\\PYZus{}t} \\PY{o}{*} \\PY{n}{array}\\PY{p}{,} \\PY{k+kt}{unsigned} \\PY{k+kt}{long} \\PY{k+kt}{int} \\PY{n}{size}\\PY{p}{)} \\PY{p}{\\PYZob{}}\n",
       "\t\\PY{n}{matrix\\PYZus{}column\\PYZus{}major}\\PY{p}{(}\\PY{n}{array}\\PY{p}{,} \\PY{n}{size}\\PY{p}{)}\\PY{p}{;}\n",
       "\t\\PY{n}{baseline\\PYZus{}int}\\PY{p}{(}\\PY{n}{array}\\PY{p}{,}\\PY{n}{size}\\PY{p}{)}\\PY{p}{;}\n",
       "\t\\PY{k}{return} \\PY{n}{array}\\PY{p}{;}\n",
       "\\PY{p}{\\PYZcb{}}\n",
       "\\end{Verbatim}\n"
      ],
      "text/plain": [
       "// microbench.cpp:136-140 (5 lines)\n",
       "extern \"C\" uint64_t *__attribute__ ((optimize(0))) everything(uint64_t * array, unsigned long int size) {\n",
       "\tmatrix_column_major(array, size);\n",
       "\tbaseline_int(array,size);\n",
       "\treturn array;\n",
       "}"
      ]
     },
     "metadata": {},
     "output_type": "display_data"
    }
   ],
   "source": [
    "render_code(\"microbench.cpp\", show=\"everything\")"
   ]
  },
  {
   "cell_type": "code",
   "execution_count": 28,
   "metadata": {},
   "outputs": [
    {
     "name": "stdout",
     "output_type": "stream",
     "text": [
      "Error: \u001b[31mCouldn't connect to server: http://cse142l-dev.wl.r.appspot.com/lab-spec?json=%7B%22payload%22%3A+%7B%22filters%22%3A+%5B%5B%22short_name%22%2C+%22%3D%22%2C+%22intro%22%5D%5D%7D%2C+%22metadata%22%3A+null%7D\u001b[0m\n"
     ]
    }
   ],
   "source": [
    "!cse142 job run --lab intro  './microbench.exe --stats everything.csv --size 8388608 --reps 25  --MHz 1900 --function matrix_column_major baseline_int everything --stat-set ./PE.cfg '"
   ]
  },
  {
   "cell_type": "code",
   "execution_count": 18,
   "metadata": {},
   "outputs": [
    {
     "data": {
      "text/html": [
       "<div>\n",
       "<style scoped>\n",
       "    .dataframe tbody tr th:only-of-type {\n",
       "        vertical-align: middle;\n",
       "    }\n",
       "\n",
       "    .dataframe tbody tr th {\n",
       "        vertical-align: top;\n",
       "    }\n",
       "\n",
       "    .dataframe thead th {\n",
       "        text-align: right;\n",
       "    }\n",
       "</style>\n",
       "<table border=\"1\" class=\"dataframe\">\n",
       "  <thead>\n",
       "    <tr style=\"text-align: right;\">\n",
       "      <th></th>\n",
       "      <th>IC</th>\n",
       "      <th>CPI</th>\n",
       "      <th>CT</th>\n",
       "      <th>ET</th>\n",
       "    </tr>\n",
       "    <tr>\n",
       "      <th>function</th>\n",
       "      <th></th>\n",
       "      <th></th>\n",
       "      <th></th>\n",
       "      <th></th>\n",
       "    </tr>\n",
       "  </thead>\n",
       "  <tbody>\n",
       "    <tr>\n",
       "      <th>baseline_int</th>\n",
       "      <td>8.388632e+08</td>\n",
       "      <td>0.757696</td>\n",
       "      <td>5.269774e-10</td>\n",
       "      <td>0.334949</td>\n",
       "    </tr>\n",
       "    <tr>\n",
       "      <th>everything</th>\n",
       "      <td>9.227547e+08</td>\n",
       "      <td>0.854751</td>\n",
       "      <td>5.270007e-10</td>\n",
       "      <td>0.415659</td>\n",
       "    </tr>\n",
       "    <tr>\n",
       "      <th>matrix_column_major</th>\n",
       "      <td>8.389453e+07</td>\n",
       "      <td>1.880485</td>\n",
       "      <td>5.317934e-10</td>\n",
       "      <td>0.084032</td>\n",
       "    </tr>\n",
       "  </tbody>\n",
       "</table>\n",
       "</div>"
      ],
      "text/plain": [
       "                               IC       CPI            CT        ET\n",
       "function                                                           \n",
       "baseline_int         8.388632e+08  0.757696  5.269774e-10  0.334949\n",
       "everything           9.227547e+08  0.854751  5.270007e-10  0.415659\n",
       "matrix_column_major  8.389453e+07  1.880485  5.317934e-10  0.084032"
      ]
     },
     "execution_count": 18,
     "metadata": {},
     "output_type": "execute_result"
    }
   ],
   "source": [
    "render_csv(\"everything.csv\", columns=[\"IC\", \"CPI\", \"CT\", \"ET\"], average_by=\"function\")"
   ]
  },
  {
   "cell_type": "markdown",
   "metadata": {},
   "source": [
    "Imagine that you are a manager and your team is tasked with the improving the performance of `everything()`.  Members of your team propose two different approaches:\n",
    "\n",
    "1.  Option 1: Replacing `baseline_int()` with `baseline_int_O4()`\n",
    "2.  Option 2: Replacing `matrix_column_major()` with `matrix_row_major()`.\n",
    "\n",
    "To answer the question below you'll need to look at some csv files you created above.  For convenience, you can display them here, like so:"
   ]
  },
  {
   "cell_type": "code",
   "execution_count": 19,
   "metadata": {},
   "outputs": [
    {
     "data": {
      "text/html": [
       "<div>\n",
       "<style scoped>\n",
       "    .dataframe tbody tr th:only-of-type {\n",
       "        vertical-align: middle;\n",
       "    }\n",
       "\n",
       "    .dataframe tbody tr th {\n",
       "        vertical-align: top;\n",
       "    }\n",
       "\n",
       "    .dataframe thead th {\n",
       "        text-align: right;\n",
       "    }\n",
       "</style>\n",
       "<table border=\"1\" class=\"dataframe\">\n",
       "  <thead>\n",
       "    <tr style=\"text-align: right;\">\n",
       "      <th></th>\n",
       "      <th>IC</th>\n",
       "      <th>CPI</th>\n",
       "      <th>CT</th>\n",
       "      <th>ET</th>\n",
       "      <th>cmdlineMHz</th>\n",
       "      <th>realMHz</th>\n",
       "    </tr>\n",
       "    <tr>\n",
       "      <th>function</th>\n",
       "      <th></th>\n",
       "      <th></th>\n",
       "      <th></th>\n",
       "      <th></th>\n",
       "      <th></th>\n",
       "      <th></th>\n",
       "    </tr>\n",
       "  </thead>\n",
       "  <tbody>\n",
       "    <tr>\n",
       "      <th>matrix_column_major</th>\n",
       "      <td>83893871.88</td>\n",
       "      <td>1.866057</td>\n",
       "      <td>5.272038e-10</td>\n",
       "      <td>0.082534</td>\n",
       "      <td>1900.0</td>\n",
       "      <td>1896.799603</td>\n",
       "    </tr>\n",
       "    <tr>\n",
       "      <th>matrix_row_major</th>\n",
       "      <td>67169522.88</td>\n",
       "      <td>0.604221</td>\n",
       "      <td>5.413402e-10</td>\n",
       "      <td>0.022257</td>\n",
       "      <td>1900.0</td>\n",
       "      <td>1865.377600</td>\n",
       "    </tr>\n",
       "  </tbody>\n",
       "</table>\n",
       "</div>"
      ],
      "text/plain": [
       "                              IC       CPI            CT        ET  \\\n",
       "function                                                             \n",
       "matrix_column_major  83893871.88  1.866057  5.272038e-10  0.082534   \n",
       "matrix_row_major     67169522.88  0.604221  5.413402e-10  0.022257   \n",
       "\n",
       "                     cmdlineMHz      realMHz  \n",
       "function                                      \n",
       "matrix_column_major      1900.0  1896.799603  \n",
       "matrix_row_major         1900.0  1865.377600  "
      ]
     },
     "execution_count": 19,
     "metadata": {},
     "output_type": "execute_result"
    }
   ],
   "source": [
    "render_csv(\"matrix.csv\", columns=columns, average_by=\"function\")"
   ]
  },
  {
   "cell_type": "markdown",
   "metadata": {},
   "source": [
    "<div class=\"question completeness\">\n",
    "\n",
    "<div class=\"question-text\">\n",
    "    \n",
    "Based on the data you've collected, calculate the two speedups below and then decide which of the two options will give the best overall speedup for `everything()` (Show your work).\n",
    "    \n",
    "</div>\n",
    "    \n",
    "<div class=\"answer\">\n",
    "\n",
    "**Speedup of `baseline_int_O4()` vs `baseline_int()`:**\n",
    "\n",
    "**Speedup of `matrix_column_major()` vs `matrix_row_major()`:**\n",
    "    \n",
    "**Which of the two options will give the best speedup?**\n",
    "\n",
    "#KEY They need to have done the calculations.  They will get graded in the next question.\n",
    "    \n",
    "</div>\n",
    "</div>"
   ]
  },
  {
   "cell_type": "markdown",
   "metadata": {},
   "source": [
    "<div class=\"question correctness points-4\">\n",
    "\n",
    "<div class=\"question-text\">\n",
    "\n",
    "Based on the data you collected earlier in this lab for the performance of `baseline_int()`, `baseline_int_O4()`, `matrix_column_major()`, and `matrix_row_major()`, use Amdahl's law to predict the speedup of each approach.  (Show your work, including the values of `x` and `S` and how you computed them.)\n",
    "\n",
    "</div>\n",
    "\n",
    "<div class=\"answer\">\n",
    "    \n",
    "**Option 1 (Replacing `baseline_int()` with `baseline_int_O4()`) Speedup:**\n",
    "\n",
    "x = \n",
    "    \n",
    "S = (Hint: you computed this in the previous question) \n",
    "\n",
    "S_tot = \n",
    "\n",
    "#KEY Calculations need to be correct.  Here's what I got:\n",
    "#KEY x = baseline_int/everything = 0.34/.43 = 0.79; S = baseline_int/baseline_int_O4 = 0.035/0.017 =  2.05\n",
    "#KEY S_tot = 1/((0.79/2.05) + (1-.79)) = 1.679\n",
    "    \n",
    "**Option 2 (Replacing `matrix_column_major()` with `matrix_row_major()`) Speedup:**\n",
    "\n",
    "x = \n",
    "    \n",
    "S = (Hint: you computed this in the previous question)\n",
    "\n",
    "S_tot = \n",
    "\n",
    "#KEY Calculations need to be correct.  Here's what I got:\n",
    "#KEY x = baseline_int/everything = 0.09/.43 = 0.2; S = column_major/row_major = .88/.23 = 3.82\n",
    "#KEY S_tot = 1/((0.2/3.82) + (1-.2)) = 1.17\n",
    "\n",
    "\n",
    "</div>\n",
    "</div>\n",
    "\n",
    "`microbench.cpp` has implementaitons of both options:"
   ]
  },
  {
   "cell_type": "code",
   "execution_count": 21,
   "metadata": {
    "init_cell": true
   },
   "outputs": [
    {
     "data": {
      "text/html": [
       "<style>.output_html .hll { background-color: #ffffcc }\n",
       ".output_html  { background: #f8f8f8; }\n",
       ".output_html .c { color: #408080; font-style: italic } /* Comment */\n",
       ".output_html .err { border: 1px solid #FF0000 } /* Error */\n",
       ".output_html .k { color: #008000; font-weight: bold } /* Keyword */\n",
       ".output_html .o { color: #666666 } /* Operator */\n",
       ".output_html .ch { color: #408080; font-style: italic } /* Comment.Hashbang */\n",
       ".output_html .cm { color: #408080; font-style: italic } /* Comment.Multiline */\n",
       ".output_html .cp { color: #BC7A00 } /* Comment.Preproc */\n",
       ".output_html .cpf { color: #408080; font-style: italic } /* Comment.PreprocFile */\n",
       ".output_html .c1 { color: #408080; font-style: italic } /* Comment.Single */\n",
       ".output_html .cs { color: #408080; font-style: italic } /* Comment.Special */\n",
       ".output_html .gd { color: #A00000 } /* Generic.Deleted */\n",
       ".output_html .ge { font-style: italic } /* Generic.Emph */\n",
       ".output_html .gr { color: #FF0000 } /* Generic.Error */\n",
       ".output_html .gh { color: #000080; font-weight: bold } /* Generic.Heading */\n",
       ".output_html .gi { color: #00A000 } /* Generic.Inserted */\n",
       ".output_html .go { color: #888888 } /* Generic.Output */\n",
       ".output_html .gp { color: #000080; font-weight: bold } /* Generic.Prompt */\n",
       ".output_html .gs { font-weight: bold } /* Generic.Strong */\n",
       ".output_html .gu { color: #800080; font-weight: bold } /* Generic.Subheading */\n",
       ".output_html .gt { color: #0044DD } /* Generic.Traceback */\n",
       ".output_html .kc { color: #008000; font-weight: bold } /* Keyword.Constant */\n",
       ".output_html .kd { color: #008000; font-weight: bold } /* Keyword.Declaration */\n",
       ".output_html .kn { color: #008000; font-weight: bold } /* Keyword.Namespace */\n",
       ".output_html .kp { color: #008000 } /* Keyword.Pseudo */\n",
       ".output_html .kr { color: #008000; font-weight: bold } /* Keyword.Reserved */\n",
       ".output_html .kt { color: #B00040 } /* Keyword.Type */\n",
       ".output_html .m { color: #666666 } /* Literal.Number */\n",
       ".output_html .s { color: #BA2121 } /* Literal.String */\n",
       ".output_html .na { color: #7D9029 } /* Name.Attribute */\n",
       ".output_html .nb { color: #008000 } /* Name.Builtin */\n",
       ".output_html .nc { color: #0000FF; font-weight: bold } /* Name.Class */\n",
       ".output_html .no { color: #880000 } /* Name.Constant */\n",
       ".output_html .nd { color: #AA22FF } /* Name.Decorator */\n",
       ".output_html .ni { color: #999999; font-weight: bold } /* Name.Entity */\n",
       ".output_html .ne { color: #D2413A; font-weight: bold } /* Name.Exception */\n",
       ".output_html .nf { color: #0000FF } /* Name.Function */\n",
       ".output_html .nl { color: #A0A000 } /* Name.Label */\n",
       ".output_html .nn { color: #0000FF; font-weight: bold } /* Name.Namespace */\n",
       ".output_html .nt { color: #008000; font-weight: bold } /* Name.Tag */\n",
       ".output_html .nv { color: #19177C } /* Name.Variable */\n",
       ".output_html .ow { color: #AA22FF; font-weight: bold } /* Operator.Word */\n",
       ".output_html .w { color: #bbbbbb } /* Text.Whitespace */\n",
       ".output_html .mb { color: #666666 } /* Literal.Number.Bin */\n",
       ".output_html .mf { color: #666666 } /* Literal.Number.Float */\n",
       ".output_html .mh { color: #666666 } /* Literal.Number.Hex */\n",
       ".output_html .mi { color: #666666 } /* Literal.Number.Integer */\n",
       ".output_html .mo { color: #666666 } /* Literal.Number.Oct */\n",
       ".output_html .sa { color: #BA2121 } /* Literal.String.Affix */\n",
       ".output_html .sb { color: #BA2121 } /* Literal.String.Backtick */\n",
       ".output_html .sc { color: #BA2121 } /* Literal.String.Char */\n",
       ".output_html .dl { color: #BA2121 } /* Literal.String.Delimiter */\n",
       ".output_html .sd { color: #BA2121; font-style: italic } /* Literal.String.Doc */\n",
       ".output_html .s2 { color: #BA2121 } /* Literal.String.Double */\n",
       ".output_html .se { color: #BB6622; font-weight: bold } /* Literal.String.Escape */\n",
       ".output_html .sh { color: #BA2121 } /* Literal.String.Heredoc */\n",
       ".output_html .si { color: #BB6688; font-weight: bold } /* Literal.String.Interpol */\n",
       ".output_html .sx { color: #008000 } /* Literal.String.Other */\n",
       ".output_html .sr { color: #BB6688 } /* Literal.String.Regex */\n",
       ".output_html .s1 { color: #BA2121 } /* Literal.String.Single */\n",
       ".output_html .ss { color: #19177C } /* Literal.String.Symbol */\n",
       ".output_html .bp { color: #008000 } /* Name.Builtin.Pseudo */\n",
       ".output_html .fm { color: #0000FF } /* Name.Function.Magic */\n",
       ".output_html .vc { color: #19177C } /* Name.Variable.Class */\n",
       ".output_html .vg { color: #19177C } /* Name.Variable.Global */\n",
       ".output_html .vi { color: #19177C } /* Name.Variable.Instance */\n",
       ".output_html .vm { color: #19177C } /* Name.Variable.Magic */\n",
       ".output_html .il { color: #666666 } /* Literal.Number.Integer.Long */</style><div class=\"highlight\"><pre><span></span><span class=\"c1\">// microbench.cpp:148-152 (5 lines)</span>\n",
       "<span class=\"k\">extern</span> <span class=\"s\">&quot;C&quot;</span> <span class=\"kt\">uint64_t</span> <span class=\"o\">*</span><span class=\"n\">__attribute__</span> <span class=\"p\">((</span><span class=\"n\">optimize</span><span class=\"p\">(</span><span class=\"mi\">0</span><span class=\"p\">)))</span> <span class=\"n\">option_1</span><span class=\"p\">(</span><span class=\"kt\">uint64_t</span> <span class=\"o\">*</span> <span class=\"n\">array</span><span class=\"p\">,</span> <span class=\"kt\">unsigned</span> <span class=\"kt\">long</span> <span class=\"kt\">int</span> <span class=\"n\">size</span><span class=\"p\">)</span> <span class=\"p\">{</span>\n",
       "\t<span class=\"n\">matrix_column_major</span><span class=\"p\">(</span><span class=\"n\">array</span><span class=\"p\">,</span> <span class=\"n\">size</span><span class=\"p\">);</span>\n",
       "\t<span class=\"n\">baseline_int_O4</span><span class=\"p\">(</span><span class=\"n\">array</span><span class=\"p\">,</span><span class=\"n\">size</span><span class=\"p\">);</span>\n",
       "\t<span class=\"k\">return</span> <span class=\"n\">array</span><span class=\"p\">;</span>\n",
       "<span class=\"p\">}</span>\n",
       "</pre></div>\n"
      ],
      "text/latex": [
       "\\begin{Verbatim}[commandchars=\\\\\\{\\}]\n",
       "\\PY{c+c1}{// microbench.cpp:148\\PYZhy{}152 (5 lines)}\n",
       "\\PY{k}{extern} \\PY{l+s}{\\PYZdq{}}\\PY{l+s}{C}\\PY{l+s}{\\PYZdq{}} \\PY{k+kt}{uint64\\PYZus{}t} \\PY{o}{*}\\PY{n}{\\PYZus{}\\PYZus{}attribute\\PYZus{}\\PYZus{}} \\PY{p}{(}\\PY{p}{(}\\PY{n}{optimize}\\PY{p}{(}\\PY{l+m+mi}{0}\\PY{p}{)}\\PY{p}{)}\\PY{p}{)} \\PY{n}{option\\PYZus{}1}\\PY{p}{(}\\PY{k+kt}{uint64\\PYZus{}t} \\PY{o}{*} \\PY{n}{array}\\PY{p}{,} \\PY{k+kt}{unsigned} \\PY{k+kt}{long} \\PY{k+kt}{int} \\PY{n}{size}\\PY{p}{)} \\PY{p}{\\PYZob{}}\n",
       "\t\\PY{n}{matrix\\PYZus{}column\\PYZus{}major}\\PY{p}{(}\\PY{n}{array}\\PY{p}{,} \\PY{n}{size}\\PY{p}{)}\\PY{p}{;}\n",
       "\t\\PY{n}{baseline\\PYZus{}int\\PYZus{}O4}\\PY{p}{(}\\PY{n}{array}\\PY{p}{,}\\PY{n}{size}\\PY{p}{)}\\PY{p}{;}\n",
       "\t\\PY{k}{return} \\PY{n}{array}\\PY{p}{;}\n",
       "\\PY{p}{\\PYZcb{}}\n",
       "\\end{Verbatim}\n"
      ],
      "text/plain": [
       "// microbench.cpp:148-152 (5 lines)\n",
       "extern \"C\" uint64_t *__attribute__ ((optimize(0))) option_1(uint64_t * array, unsigned long int size) {\n",
       "\tmatrix_column_major(array, size);\n",
       "\tbaseline_int_O4(array,size);\n",
       "\treturn array;\n",
       "}"
      ]
     },
     "metadata": {},
     "output_type": "display_data"
    },
    {
     "data": {
      "text/html": [
       "<style>.output_html .hll { background-color: #ffffcc }\n",
       ".output_html  { background: #f8f8f8; }\n",
       ".output_html .c { color: #408080; font-style: italic } /* Comment */\n",
       ".output_html .err { border: 1px solid #FF0000 } /* Error */\n",
       ".output_html .k { color: #008000; font-weight: bold } /* Keyword */\n",
       ".output_html .o { color: #666666 } /* Operator */\n",
       ".output_html .ch { color: #408080; font-style: italic } /* Comment.Hashbang */\n",
       ".output_html .cm { color: #408080; font-style: italic } /* Comment.Multiline */\n",
       ".output_html .cp { color: #BC7A00 } /* Comment.Preproc */\n",
       ".output_html .cpf { color: #408080; font-style: italic } /* Comment.PreprocFile */\n",
       ".output_html .c1 { color: #408080; font-style: italic } /* Comment.Single */\n",
       ".output_html .cs { color: #408080; font-style: italic } /* Comment.Special */\n",
       ".output_html .gd { color: #A00000 } /* Generic.Deleted */\n",
       ".output_html .ge { font-style: italic } /* Generic.Emph */\n",
       ".output_html .gr { color: #FF0000 } /* Generic.Error */\n",
       ".output_html .gh { color: #000080; font-weight: bold } /* Generic.Heading */\n",
       ".output_html .gi { color: #00A000 } /* Generic.Inserted */\n",
       ".output_html .go { color: #888888 } /* Generic.Output */\n",
       ".output_html .gp { color: #000080; font-weight: bold } /* Generic.Prompt */\n",
       ".output_html .gs { font-weight: bold } /* Generic.Strong */\n",
       ".output_html .gu { color: #800080; font-weight: bold } /* Generic.Subheading */\n",
       ".output_html .gt { color: #0044DD } /* Generic.Traceback */\n",
       ".output_html .kc { color: #008000; font-weight: bold } /* Keyword.Constant */\n",
       ".output_html .kd { color: #008000; font-weight: bold } /* Keyword.Declaration */\n",
       ".output_html .kn { color: #008000; font-weight: bold } /* Keyword.Namespace */\n",
       ".output_html .kp { color: #008000 } /* Keyword.Pseudo */\n",
       ".output_html .kr { color: #008000; font-weight: bold } /* Keyword.Reserved */\n",
       ".output_html .kt { color: #B00040 } /* Keyword.Type */\n",
       ".output_html .m { color: #666666 } /* Literal.Number */\n",
       ".output_html .s { color: #BA2121 } /* Literal.String */\n",
       ".output_html .na { color: #7D9029 } /* Name.Attribute */\n",
       ".output_html .nb { color: #008000 } /* Name.Builtin */\n",
       ".output_html .nc { color: #0000FF; font-weight: bold } /* Name.Class */\n",
       ".output_html .no { color: #880000 } /* Name.Constant */\n",
       ".output_html .nd { color: #AA22FF } /* Name.Decorator */\n",
       ".output_html .ni { color: #999999; font-weight: bold } /* Name.Entity */\n",
       ".output_html .ne { color: #D2413A; font-weight: bold } /* Name.Exception */\n",
       ".output_html .nf { color: #0000FF } /* Name.Function */\n",
       ".output_html .nl { color: #A0A000 } /* Name.Label */\n",
       ".output_html .nn { color: #0000FF; font-weight: bold } /* Name.Namespace */\n",
       ".output_html .nt { color: #008000; font-weight: bold } /* Name.Tag */\n",
       ".output_html .nv { color: #19177C } /* Name.Variable */\n",
       ".output_html .ow { color: #AA22FF; font-weight: bold } /* Operator.Word */\n",
       ".output_html .w { color: #bbbbbb } /* Text.Whitespace */\n",
       ".output_html .mb { color: #666666 } /* Literal.Number.Bin */\n",
       ".output_html .mf { color: #666666 } /* Literal.Number.Float */\n",
       ".output_html .mh { color: #666666 } /* Literal.Number.Hex */\n",
       ".output_html .mi { color: #666666 } /* Literal.Number.Integer */\n",
       ".output_html .mo { color: #666666 } /* Literal.Number.Oct */\n",
       ".output_html .sa { color: #BA2121 } /* Literal.String.Affix */\n",
       ".output_html .sb { color: #BA2121 } /* Literal.String.Backtick */\n",
       ".output_html .sc { color: #BA2121 } /* Literal.String.Char */\n",
       ".output_html .dl { color: #BA2121 } /* Literal.String.Delimiter */\n",
       ".output_html .sd { color: #BA2121; font-style: italic } /* Literal.String.Doc */\n",
       ".output_html .s2 { color: #BA2121 } /* Literal.String.Double */\n",
       ".output_html .se { color: #BB6622; font-weight: bold } /* Literal.String.Escape */\n",
       ".output_html .sh { color: #BA2121 } /* Literal.String.Heredoc */\n",
       ".output_html .si { color: #BB6688; font-weight: bold } /* Literal.String.Interpol */\n",
       ".output_html .sx { color: #008000 } /* Literal.String.Other */\n",
       ".output_html .sr { color: #BB6688 } /* Literal.String.Regex */\n",
       ".output_html .s1 { color: #BA2121 } /* Literal.String.Single */\n",
       ".output_html .ss { color: #19177C } /* Literal.String.Symbol */\n",
       ".output_html .bp { color: #008000 } /* Name.Builtin.Pseudo */\n",
       ".output_html .fm { color: #0000FF } /* Name.Function.Magic */\n",
       ".output_html .vc { color: #19177C } /* Name.Variable.Class */\n",
       ".output_html .vg { color: #19177C } /* Name.Variable.Global */\n",
       ".output_html .vi { color: #19177C } /* Name.Variable.Instance */\n",
       ".output_html .vm { color: #19177C } /* Name.Variable.Magic */\n",
       ".output_html .il { color: #666666 } /* Literal.Number.Integer.Long */</style><div class=\"highlight\"><pre><span></span><span class=\"c1\">// microbench.cpp:154-159 (6 lines)</span>\n",
       "<span class=\"k\">extern</span> <span class=\"s\">&quot;C&quot;</span> <span class=\"kt\">uint64_t</span> <span class=\"o\">*</span><span class=\"n\">__attribute__</span> <span class=\"p\">((</span><span class=\"n\">optimize</span><span class=\"p\">(</span><span class=\"mi\">0</span><span class=\"p\">)))</span> <span class=\"n\">option_2</span><span class=\"p\">(</span><span class=\"kt\">uint64_t</span> <span class=\"o\">*</span> <span class=\"n\">array</span><span class=\"p\">,</span> <span class=\"kt\">unsigned</span> <span class=\"kt\">long</span> <span class=\"kt\">int</span> <span class=\"n\">size</span><span class=\"p\">)</span> <span class=\"p\">{</span>\n",
       "\n",
       "\t<span class=\"n\">matrix_row_major</span><span class=\"p\">(</span><span class=\"n\">array</span><span class=\"p\">,</span> <span class=\"n\">size</span><span class=\"p\">);</span>\n",
       "\t<span class=\"n\">baseline_int</span><span class=\"p\">(</span><span class=\"n\">array</span><span class=\"p\">,</span><span class=\"n\">size</span><span class=\"p\">);</span>\n",
       "\t<span class=\"k\">return</span> <span class=\"n\">array</span><span class=\"p\">;</span>\n",
       "<span class=\"p\">}</span>\n",
       "</pre></div>\n"
      ],
      "text/latex": [
       "\\begin{Verbatim}[commandchars=\\\\\\{\\}]\n",
       "\\PY{c+c1}{// microbench.cpp:154\\PYZhy{}159 (6 lines)}\n",
       "\\PY{k}{extern} \\PY{l+s}{\\PYZdq{}}\\PY{l+s}{C}\\PY{l+s}{\\PYZdq{}} \\PY{k+kt}{uint64\\PYZus{}t} \\PY{o}{*}\\PY{n}{\\PYZus{}\\PYZus{}attribute\\PYZus{}\\PYZus{}} \\PY{p}{(}\\PY{p}{(}\\PY{n}{optimize}\\PY{p}{(}\\PY{l+m+mi}{0}\\PY{p}{)}\\PY{p}{)}\\PY{p}{)} \\PY{n}{option\\PYZus{}2}\\PY{p}{(}\\PY{k+kt}{uint64\\PYZus{}t} \\PY{o}{*} \\PY{n}{array}\\PY{p}{,} \\PY{k+kt}{unsigned} \\PY{k+kt}{long} \\PY{k+kt}{int} \\PY{n}{size}\\PY{p}{)} \\PY{p}{\\PYZob{}}\n",
       "\n",
       "\t\\PY{n}{matrix\\PYZus{}row\\PYZus{}major}\\PY{p}{(}\\PY{n}{array}\\PY{p}{,} \\PY{n}{size}\\PY{p}{)}\\PY{p}{;}\n",
       "\t\\PY{n}{baseline\\PYZus{}int}\\PY{p}{(}\\PY{n}{array}\\PY{p}{,}\\PY{n}{size}\\PY{p}{)}\\PY{p}{;}\n",
       "\t\\PY{k}{return} \\PY{n}{array}\\PY{p}{;}\n",
       "\\PY{p}{\\PYZcb{}}\n",
       "\\end{Verbatim}\n"
      ],
      "text/plain": [
       "// microbench.cpp:154-159 (6 lines)\n",
       "extern \"C\" uint64_t *__attribute__ ((optimize(0))) option_2(uint64_t * array, unsigned long int size) {\n",
       "\n",
       "\tmatrix_row_major(array, size);\n",
       "\tbaseline_int(array,size);\n",
       "\treturn array;\n",
       "}"
      ]
     },
     "metadata": {},
     "output_type": "display_data"
    }
   ],
   "source": [
    "render_code(\"microbench.cpp\", show=\"option_1\")\n",
    "render_code(\"microbench.cpp\", show=\"option_2\")"
   ]
  },
  {
   "cell_type": "markdown",
   "metadata": {},
   "source": [
    "Let's see how they perform:"
   ]
  },
  {
   "cell_type": "code",
   "execution_count": 22,
   "metadata": {},
   "outputs": [
    {
     "name": "stdout",
     "output_type": "stream",
     "text": [
      "Error: \u001b[31mCouldn't connect to server: http://cse142l-dev.wl.r.appspot.com/lab-spec?json=%7B%22payload%22%3A+%7B%22filters%22%3A+%5B%5B%22short_name%22%2C+%22%3D%22%2C+%22intro%22%5D%5D%7D%2C+%22metadata%22%3A+null%7D\u001b[0m\n"
     ]
    }
   ],
   "source": [
    "!cse142 job run --lab intro './microbench.exe --stats options.csv --size 8388608 --reps 25  --MHz 1900 --function option_1 option_2 --stat-set ./PE.cfg '"
   ]
  },
  {
   "cell_type": "code",
   "execution_count": 23,
   "metadata": {},
   "outputs": [
    {
     "data": {
      "text/html": [
       "<div>\n",
       "<style scoped>\n",
       "    .dataframe tbody tr th:only-of-type {\n",
       "        vertical-align: middle;\n",
       "    }\n",
       "\n",
       "    .dataframe tbody tr th {\n",
       "        vertical-align: top;\n",
       "    }\n",
       "\n",
       "    .dataframe thead th {\n",
       "        text-align: right;\n",
       "    }\n",
       "</style>\n",
       "<table border=\"1\" class=\"dataframe\">\n",
       "  <thead>\n",
       "    <tr style=\"text-align: right;\">\n",
       "      <th></th>\n",
       "      <th>IC</th>\n",
       "      <th>CPI</th>\n",
       "      <th>CT</th>\n",
       "      <th>ET</th>\n",
       "    </tr>\n",
       "    <tr>\n",
       "      <th>function</th>\n",
       "      <th></th>\n",
       "      <th></th>\n",
       "      <th></th>\n",
       "      <th></th>\n",
       "    </tr>\n",
       "  </thead>\n",
       "  <tbody>\n",
       "    <tr>\n",
       "      <th>option_1</th>\n",
       "      <td>4.026618e+08</td>\n",
       "      <td>1.156399</td>\n",
       "      <td>5.288026e-10</td>\n",
       "      <td>0.246287</td>\n",
       "    </tr>\n",
       "    <tr>\n",
       "      <th>option_2</th>\n",
       "      <td>9.060298e+08</td>\n",
       "      <td>0.754202</td>\n",
       "      <td>5.270990e-10</td>\n",
       "      <td>0.360182</td>\n",
       "    </tr>\n",
       "  </tbody>\n",
       "</table>\n",
       "</div>"
      ],
      "text/plain": [
       "                    IC       CPI            CT        ET\n",
       "function                                                \n",
       "option_1  4.026618e+08  1.156399  5.288026e-10  0.246287\n",
       "option_2  9.060298e+08  0.754202  5.270990e-10  0.360182"
      ]
     },
     "execution_count": 23,
     "metadata": {},
     "output_type": "execute_result"
    }
   ],
   "source": [
    "render_csv(\"options.csv\", columns=[\"IC\", \"CPI\", \"CT\", \"ET\"], average_by=\"function\")"
   ]
  },
  {
   "cell_type": "markdown",
   "metadata": {},
   "source": [
    "<div class=\"question correctness points-2\">\n",
    " \n",
    "    \n",
    "<div class=\"question-text\">\n",
    "\n",
    "What was the actual speedup for each option?  Did Amdahl's law get it right? \n",
    "    \n",
    "</div>\n",
    "    \n",
    "<div class=\"answer\">\n",
    "    \n",
    "**Option 1 speedup:**\n",
    "\n",
    "#KEY .43/.246 = 1.77\n",
    "    \n",
    "**Option 2 speedup:**\n",
    "\n",
    "#KEY .43/.357 = 1.22\n",
    "\n",
    "**Did Amdahl's Law get it right?:** \n",
    "\n",
    "#KEY anything coherent.  One the one hand, the numbers aren't perfect, but the conclusion is correct.\n",
    "    \n",
    "</div>\n",
    "</div>\n",
    "    "
   ]
  },
  {
   "cell_type": "markdown",
   "metadata": {},
   "source": [
    "# Power and Energy"
   ]
  },
  {
   "cell_type": "markdown",
   "metadata": {},
   "source": [
    "Power and enery consumption are both critical design considerations for modern processors, but they are important for different reasons:\n",
    "\n",
    "1.  Power primarily determines the cooling requirements for the system.  The more power a system consumes, the hotter it will be and the more cooling it will require.\n",
    "\n",
    "2.  Energy adds to the cost of performing the computation.  In practice this either in energy purchased from a utility (e.g., for a data center) or battery life (e.g., in your cell phone).\n",
    "\n",
    "Let's see what can affect the power and enery consumption of a system.\n",
    "\n",
    "\n",
    "## Clock Rate\n",
    "\n",
    "Recall the processor power equation from lecture:\n",
    "\n",
    "``` \n",
    "Power ~ idle_power + C*a*V*f^2\n",
    "```\n",
    "\n",
    "and that energy is then\n",
    "\n",
    "```\n",
    "Energy ~ ET * (idle_power + C*a*V*f^2)\n",
    "```\n",
    "\n",
    "We also noted that voltage (`V`) is generally proportional to frequence (`f`), so power consumption is $O(\\mathrm{f}^3)$.  Hence clock speed has a large impact on energy.\n",
    "\n",
    "Let's see how the power and energy consumption of one of our functions behaves as we vary the clock rate: `matrix_row_major()`.\n",
    "\n",
    "The cell below will run `matrix_row_major()` at multiple clock rates between 900MHz and 2000MHz (recall that earlier, we stopped at 1900Mhz.  You'll now see why). Kick of the cell below and while it's running answer this question:"
   ]
  },
  {
   "cell_type": "markdown",
   "metadata": {},
   "source": [
    "<div class=\"question completeness\">\n",
    "    \n",
    "<div class=\"question-text\">\n",
    "\n",
    "Based on the the power and energy equations what shape of curve (straight? descending? ascending? curved? flat?) would you expect for each of these metrics when plotted against *clock rate*?  Where will the minimum be (At small MHz values? small? In between?)?\n",
    "</div>\n",
    "    \n",
    "<div class=\"answer\">\n",
    "\n",
    "|                |  shape  |  Where will the minimum be | \n",
    "|----------------|---------|----------|\n",
    "| Energy vs. MHz         |         |    \n",
    "| Power  vs. MHz        |         |\n",
    "| Execution Time vs. MHz |         |\n",
    "\n",
    "</div>\n",
    "    \n",
    "</div>"
   ]
  },
  {
   "cell_type": "code",
   "execution_count": 27,
   "metadata": {},
   "outputs": [
    {
     "name": "stdout",
     "output_type": "stream",
     "text": [
      "Error: \u001b[31mCouldn't connect to server: http://cse142l-dev.wl.r.appspot.com/lab-spec?json=%7B%22payload%22%3A+%7B%22filters%22%3A+%5B%5B%22short_name%22%2C+%22%3D%22%2C+%22intro%22%5D%5D%7D%2C+%22metadata%22%3A+null%7D\u001b[0m\n"
     ]
    }
   ],
   "source": [
    "!cse142 job run  --lab intro './microbench.exe --stats cycle_time_energy.csv --MHz 900 1000 1100 1200 1300 1400 1500 1600 1700 1800 1900 2000 --function matrix_row_major --reps 25  --stat-set ./power.cfg '\n"
   ]
  },
  {
   "cell_type": "markdown",
   "metadata": {},
   "source": [
    "Run the cell below to plot the data"
   ]
  },
  {
   "cell_type": "code",
   "execution_count": 26,
   "metadata": {},
   "outputs": [
    {
     "data": {
      "text/html": [
       "<div>\n",
       "<style scoped>\n",
       "    .dataframe tbody tr th:only-of-type {\n",
       "        vertical-align: middle;\n",
       "    }\n",
       "\n",
       "    .dataframe tbody tr th {\n",
       "        vertical-align: top;\n",
       "    }\n",
       "\n",
       "    .dataframe thead th {\n",
       "        text-align: right;\n",
       "    }\n",
       "</style>\n",
       "<table border=\"1\" class=\"dataframe\">\n",
       "  <thead>\n",
       "    <tr style=\"text-align: right;\">\n",
       "      <th></th>\n",
       "      <th>cmdlineMHz</th>\n",
       "      <th>realMHz</th>\n",
       "      <th>ET</th>\n",
       "      <th>power</th>\n",
       "      <th>energy</th>\n",
       "    </tr>\n",
       "    <tr>\n",
       "      <th>cmdlineMHz</th>\n",
       "      <th></th>\n",
       "      <th></th>\n",
       "      <th></th>\n",
       "      <th></th>\n",
       "      <th></th>\n",
       "    </tr>\n",
       "  </thead>\n",
       "  <tbody>\n",
       "    <tr>\n",
       "      <th>900</th>\n",
       "      <td>900</td>\n",
       "      <td>877.226441</td>\n",
       "      <td>0.005439</td>\n",
       "      <td>0.596190</td>\n",
       "      <td>0.003240</td>\n",
       "    </tr>\n",
       "    <tr>\n",
       "      <th>1000</th>\n",
       "      <td>1000</td>\n",
       "      <td>975.385547</td>\n",
       "      <td>0.005037</td>\n",
       "      <td>0.603173</td>\n",
       "      <td>0.003042</td>\n",
       "    </tr>\n",
       "    <tr>\n",
       "      <th>1100</th>\n",
       "      <td>1100</td>\n",
       "      <td>1074.340376</td>\n",
       "      <td>0.004822</td>\n",
       "      <td>0.635211</td>\n",
       "      <td>0.003059</td>\n",
       "    </tr>\n",
       "    <tr>\n",
       "      <th>1200</th>\n",
       "      <td>1200</td>\n",
       "      <td>1172.190221</td>\n",
       "      <td>0.004516</td>\n",
       "      <td>0.707607</td>\n",
       "      <td>0.003179</td>\n",
       "    </tr>\n",
       "    <tr>\n",
       "      <th>1300</th>\n",
       "      <td>1300</td>\n",
       "      <td>1270.527888</td>\n",
       "      <td>0.004252</td>\n",
       "      <td>0.692428</td>\n",
       "      <td>0.002942</td>\n",
       "    </tr>\n",
       "    <tr>\n",
       "      <th>1400</th>\n",
       "      <td>1400</td>\n",
       "      <td>1365.795874</td>\n",
       "      <td>0.004069</td>\n",
       "      <td>0.671075</td>\n",
       "      <td>0.002727</td>\n",
       "    </tr>\n",
       "    <tr>\n",
       "      <th>1500</th>\n",
       "      <td>1500</td>\n",
       "      <td>1464.675727</td>\n",
       "      <td>0.003921</td>\n",
       "      <td>0.697535</td>\n",
       "      <td>0.002741</td>\n",
       "    </tr>\n",
       "    <tr>\n",
       "      <th>1600</th>\n",
       "      <td>1600</td>\n",
       "      <td>1564.385486</td>\n",
       "      <td>0.003810</td>\n",
       "      <td>0.724242</td>\n",
       "      <td>0.002769</td>\n",
       "    </tr>\n",
       "    <tr>\n",
       "      <th>1700</th>\n",
       "      <td>1700</td>\n",
       "      <td>1660.951530</td>\n",
       "      <td>0.003704</td>\n",
       "      <td>0.732971</td>\n",
       "      <td>0.002716</td>\n",
       "    </tr>\n",
       "    <tr>\n",
       "      <th>1800</th>\n",
       "      <td>1800</td>\n",
       "      <td>1758.857040</td>\n",
       "      <td>0.003601</td>\n",
       "      <td>0.691359</td>\n",
       "      <td>0.002505</td>\n",
       "    </tr>\n",
       "    <tr>\n",
       "      <th>1900</th>\n",
       "      <td>1900</td>\n",
       "      <td>1859.148639</td>\n",
       "      <td>0.003537</td>\n",
       "      <td>0.756169</td>\n",
       "      <td>0.002689</td>\n",
       "    </tr>\n",
       "    <tr>\n",
       "      <th>2000</th>\n",
       "      <td>2000</td>\n",
       "      <td>3108.940443</td>\n",
       "      <td>0.002376</td>\n",
       "      <td>1.936758</td>\n",
       "      <td>0.004456</td>\n",
       "    </tr>\n",
       "  </tbody>\n",
       "</table>\n",
       "</div>"
      ],
      "text/plain": [
       "            cmdlineMHz      realMHz        ET     power    energy\n",
       "cmdlineMHz                                                       \n",
       "900                900   877.226441  0.005439  0.596190  0.003240\n",
       "1000              1000   975.385547  0.005037  0.603173  0.003042\n",
       "1100              1100  1074.340376  0.004822  0.635211  0.003059\n",
       "1200              1200  1172.190221  0.004516  0.707607  0.003179\n",
       "1300              1300  1270.527888  0.004252  0.692428  0.002942\n",
       "1400              1400  1365.795874  0.004069  0.671075  0.002727\n",
       "1500              1500  1464.675727  0.003921  0.697535  0.002741\n",
       "1600              1600  1564.385486  0.003810  0.724242  0.002769\n",
       "1700              1700  1660.951530  0.003704  0.732971  0.002716\n",
       "1800              1800  1758.857040  0.003601  0.691359  0.002505\n",
       "1900              1900  1859.148639  0.003537  0.756169  0.002689\n",
       "2000              2000  3108.940443  0.002376  1.936758  0.004456"
      ]
     },
     "execution_count": 26,
     "metadata": {},
     "output_type": "execute_result"
    },
    {
     "data": {
      "image/png": "[encoded data removed]",
      "text/plain": [
       "<Figure size 1152x288 with 4 Axes>"
      ]
     },
     "metadata": {
      "needs_background": "light"
     },
     "output_type": "display_data"
    }
   ],
   "source": [
    "plotPE(\"cycle_time_energy.csv\", lines=True, average_by=\"cmdlineMHz\", what=[  (\"cmdlineMHz\", \"realMHz\"), ('realMHz', \"ET\"), (\"realMHz\", \"power\"), (\"realMHz\", \"energy\")], columns=4)\n",
    "render_csv(\"cycle_time_energy.csv\", columns=[\"cmdlineMHz\", \"realMHz\", \"ET\", \"power\", \"energy\"], average_by=\"cmdlineMHz\")\n"
   ]
  },
  {
   "cell_type": "markdown",
   "metadata": {},
   "source": [
    "The first graph shows why we skipped 2000Mhz earlier:  The behavior is unexpected.  For a `cmdlineMHz` of 2000, we get a measured value of over 3000!  This is not a measurement error, it's [TurboBoost](https://www.intel.com/content/www/us/en/architecture-and-technology/turbo-boost/turbo-boost-technology.html).  When the system has extra power available and we've requested the highest clock speed possible, the system will give you highest clock speed it can subject to 1) the capabilities of the chip and 2) the cooling capacity of the system.\n",
    "\n",
    "The rest of the graphs plot `realMHz` on the x-axis, since it actually reflects what the processor is doing.\n"
   ]
  },
  {
   "cell_type": "markdown",
   "metadata": {},
   "source": [
    "<div class=\"question correctness points-4\">\n",
    "    \n",
    "<div class=\"question-text\">\n",
    "    \n",
    "For `matrix_row_major()`, place one 'X' in each row to show which technique will work best to minimize each metric.  \"Tune clock rate\" means that selecting the maximum or minimum clock rate are not good choices.\n",
    "    \n",
    "</div>\n",
    "    \n",
    "<div class=\"answer\">\n",
    "    \n",
    "|                       | Minimize clock rate | Maximize clock rate | Tune clock rate | \n",
    "|-----------------------|---------------------|---------------------|-----------------|\n",
    "|minimize cooling costs |     #KEY X               |                     |                 |\n",
    "|maximize speedup       |     #KEY                |      X               |                 |\n",
    "|maximize battery life  |     #KEY                |                     |        X         |\n",
    "|minimize latency       |     #KEY                |      X               |                 |\n",
    "    \n",
    "</div>\n",
    "</div>\n",
    "    \n",
    "</div>"
   ]
  },
  {
   "cell_type": "markdown",
   "metadata": {},
   "source": [
    "## Programs and Energy\n",
    "\n",
    "We've seen how the code we run and how we compile it can affect both `IC` and `CPI`.  But can it affect power and energy consumption?  How about clock rate?\n",
    "\n",
    "To prepare, let's gather some performance numbers about all the functions we've studied (there's nothing new here, it's just all in one place):"
   ]
  },
  {
   "cell_type": "code",
   "execution_count": null,
   "metadata": {
    "scrolled": true
   },
   "outputs": [],
   "source": [
    "!cse142 job run --lab intro './microbench.exe --stats all_functions_pe.csv --MHz 1900 --function baseline_int baseline_int_O4 baseline_double_O4 baseline_double matrix_row_major matrix_column_major --power-viruses 0 --reps 40  --stat-set ./PE.cfg '"
   ]
  },
  {
   "cell_type": "code",
   "execution_count": null,
   "metadata": {},
   "outputs": [],
   "source": [
    "render_csv(\"all_functions_pe.csv\", columns=columns, average_by=\"function\") \n",
    "plotPEBar(\"all_functions_pe.csv\", what=[(\"function\", \"IC\"), (\"function\", \"CPI\"), (\"function\", \"CT\"), (\"function\", \"ET\")], average_by=\"function\", columns=2\n",
    "    )\n"
   ]
  },
  {
   "cell_type": "markdown",
   "metadata": {},
   "source": [
    "Next, we'll measure the power and energy consumption of the same functions.  \n",
    "\n",
    "Kick off the experiment below (which will run all the functions and check their power and energy consumption), and while it's running answer this question:"
   ]
  },
  {
   "cell_type": "markdown",
   "metadata": {},
   "source": [
    "<div class=\"question completeness\">\n",
    "\n",
    "<div class=\"question-text\">\n",
    "\n",
    "For each pair of functions, which do you think will consume more power? more energy?  Why?     \n",
    "</div>\n",
    "\n",
    "<div class=\"answer\">\n",
    "\n",
    "|           | Power | Energy |\n",
    "|---------------|-------|--------|\n",
    "| baseline_int | | | \n",
    "|baseline_int_O4 |  | |\n",
    "\n",
    "    \n",
    "|           | Power | Energy |\n",
    "|---------------|-------|--------|\n",
    "|baseline_double_O4 | | |\n",
    "|baseline_double| | |\n",
    "\n",
    "|           | Power | Energy |\n",
    "|---------------|-------|--------|\n",
    "|matrix_row_major| | |\n",
    "|matrix_column_major| | |\n",
    "    \n",
    "</div>\n",
    "\n",
    "</div>"
   ]
  },
  {
   "cell_type": "code",
   "execution_count": null,
   "metadata": {},
   "outputs": [],
   "source": [
    "!cse142 job run  --lab intro './microbench.exe --stats functions_power.csv --MHz 1900 --function baseline_int baseline_int_O4 baseline_double_O4 baseline_double matrix_row_major matrix_column_major --power-viruses 0 --reps 40  --stat-set ./power.cfg '"
   ]
  },
  {
   "cell_type": "code",
   "execution_count": null,
   "metadata": {},
   "outputs": [],
   "source": [
    "plotPEBar(\"functions_power.csv\", what=[(\"function\", \"power\"), \n",
    "                                       (\"function\", \"energy\"), \n",
    "                                       #(\"function\", \"energy_per_inst\"), \n",
    "                                       (\"function\", \"ET\")], average_by=\"function\", columns=3)\n",
    "render_csv(\"functions_power.csv\", columns=[\"ET\", \"power\", \"energy\"], average_by=\"function\")\n"
   ]
  },
  {
   "cell_type": "markdown",
   "metadata": {},
   "source": [
    "<div class=\"question completeness\">\n",
    "\n",
    "<div class=\"question-text\">\n",
    "    \n",
    "Did the results match your expectations?  If not, where?  Does the data provide any clues about why?\n",
    "    \n",
    "</div>\n",
    "    \n",
    "<div class=\"answer\">\n",
    "    \n",
    "|           | What discrepency did you see (if any)? | If yes, why? |\n",
    "|---------------|-------|--------|\n",
    "| baseline_int vs baseline_int_O4 |  | |\n",
    "\n",
    "    \n",
    "|           | What discrepency did you see (if any)? | If yes, why? |\n",
    "|---------------|-------|--------|\n",
    "|baseline_double_O4 vs baseline_double| | |\n",
    "\n",
    "|           | What discrepency did you see (if any)? | If yes, why? |\n",
    "|---------------|-------|--------|\n",
    "|matrix_row_major vs matrix_column_major| | |\n",
    "\n",
    "\n",
    "</div>\n",
    "    \n",
    "</div>"
   ]
  },
  {
   "cell_type": "markdown",
   "metadata": {},
   "source": [
    "## TurboBoost and Multicore\n",
    "\n",
    "TurboBoost lets a CPU run at a higher clock rate if it can stay within the systems CPU power budget.\n",
    "\n",
    "We can explore this behavior by running multiple programs at once to stress the processor's power budget.  To do this we need a function that burns as much power as possible. "
   ]
  },
  {
   "cell_type": "markdown",
   "metadata": {
    "solution2": "shown",
    "solution2_first": true
   },
   "source": [
    "<div class=\"question completeness\">\n",
    "\n",
    "<div class=\"question-text\">\n",
    "\n",
    "Based on the data we collected above, which function should we use?\n",
    "    \n",
    "</div>\n",
    "    \n",
    "<div class=\"answer\">\n",
    "    \n",
    "**Which function:**\n",
    "    \n",
    "**You need use this value for the `--function` parameter below.**\n",
    "</div>\n",
    "</div>"
   ]
  },
  {
   "cell_type": "markdown",
   "metadata": {
    "solution2": "shown"
   },
   "source": [
    "<div class=\"solution\">\n",
    "\n",
    "How to choose?  Remember that TurboBoost is about managing processor power:  It wants to run the clock fast, but if too many cores run too fast, the processor will get too hot.  So, if we want to see the effect of TurboBoost, we need to get the cores to consume as much power as possible.  So, which function uses the most power?\n",
    "    \n",
    "</div>"
   ]
  },
  {
   "cell_type": "markdown",
   "metadata": {},
   "source": [
    "The command line below configures `microbench.exe` to do a few things:\n",
    "\n",
    "1.  The `--power-viruses 7` tell it to start 7 threads each running an instance of the function in addition to the main thread that we will measure.  The 7 virus threads are spawned at 1-second intervals.\n",
    "2.  It runs for 4000 reps, which is enough time to see all 7 viruses start up.\n",
    "3.  We set the clock rate to 2000MHz, so turboboost is in effect.\n",
    "\n",
    "**You need to set the `--function` parameter to match your answer to the above question**\n",
    "\n",
    "Run the command..."
   ]
  },
  {
   "cell_type": "code",
   "execution_count": 6,
   "metadata": {},
   "outputs": [
    {
     "name": "stdout",
     "output_type": "stream",
     "text": [
      "make: 'microbench.exe' is up to date.\n",
      "You are submitting a job for lab \"Lab 1: The Performance Equation\" (intro).\u001b[0m\n",
      "Creating job 175fcc6a-7b1b-4fab-8295-79c45b6243cd 0.00 0.00\n",
      "Ready for submission. 4.23 4.23\n",
      "Job 175fcc6a-7b1b-4fab-8295-79c45b6243cd is in state 'PUBLISHED'. 0.64 4.88. \n",
      "Job 175fcc6a-7b1b-4fab-8295-79c45b6243cd is in state 'RUNNING'. 2.13 7.00..................... \n",
      "Job 175fcc6a-7b1b-4fab-8295-79c45b6243cd is in state 'DONE_RUNNING'. 24.09 31.09. \n",
      "Job 175fcc6a-7b1b-4fab-8295-79c45b6243cd succeeded. 2.30 33.39Writing results 1.00 34.39\n",
      "Loading PAPI engine.\n",
      "Tracking rapl:::PACKAGE_ENERGY:PACKAGE0\n",
      "Tracking rapl:::PP0_ENERGY:PACKAGE0\n",
      "Tracking rapl:::DRAM_ENERGY:PACKAGE0\n",
      "Tracking PAPI_TOT_CYC\n",
      "Tracking PAPI_TOT_INS\n",
      "Execution complete\n",
      "Updated these files: ./300-virus.csv\n",
      "./300-virus.csv.raw\n",
      "Job Complete 0.91 35.30\n"
     ]
    }
   ],
   "source": [
    "#KEY answer_cell\n",
    "!make microbench.exe\n",
    "!cse142 job run  --lab intro './microbench.exe  --function YOUR_FUNCTION_HERE --stats 300-virus.csv --MHz 2000 --power-viruses 7 --reps 4000  --stat-set ./power.cfg '"
   ]
  },
  {
   "cell_type": "markdown",
   "metadata": {},
   "source": [
    "Now, we will plot several things as functions of rep number:"
   ]
  },
  {
   "cell_type": "code",
   "execution_count": 5,
   "metadata": {},
   "outputs": [
    {
     "ename": "FileNotFoundError",
     "evalue": "[Errno 2] No such file or directory: '300-virus.csv'",
     "output_type": "error",
     "traceback": [
      "\u001b[0;31m---------------------------------------------------------------------------\u001b[0m",
      "\u001b[0;31mFileNotFoundError\u001b[0m                         Traceback (most recent call last)",
      "\u001b[0;32m<ipython-input-5-cf02f4e50d61>\u001b[0m in \u001b[0;36m<module>\u001b[0;34m\u001b[0m\n\u001b[0;32m----> 1\u001b[0;31m \u001b[0mrender_csv\u001b[0m\u001b[0;34m(\u001b[0m\u001b[0;34m\"300-virus.csv\"\u001b[0m\u001b[0;34m,\u001b[0m \u001b[0mcolumns\u001b[0m\u001b[0;34m=\u001b[0m\u001b[0;34m[\u001b[0m\u001b[0;34m'power'\u001b[0m\u001b[0;34m,\u001b[0m \u001b[0;34m'ET'\u001b[0m\u001b[0;34m]\u001b[0m\u001b[0;34m,\u001b[0m \u001b[0maverage_by\u001b[0m\u001b[0;34m=\u001b[0m\u001b[0;34m\"cmdlineMHz\"\u001b[0m\u001b[0;34m)\u001b[0m\u001b[0;34m\u001b[0m\u001b[0;34m\u001b[0m\u001b[0m\n\u001b[0m\u001b[1;32m      2\u001b[0m plotPE(\"300-virus.csv\",what=[(\"rep\", \"viruses\"),(\"rep\", \"viruses\"),(\"rep\", \"viruses\"),(\"rep\", \"realMHz\"), ('rep', \"ET\"),\n\u001b[1;32m      3\u001b[0m                                ('rep', \"power\") ], columns=3\n\u001b[1;32m      4\u001b[0m \u001b[0;34m\u001b[0m\u001b[0m\n\u001b[1;32m      5\u001b[0m       )\n",
      "\u001b[0;32m/cse142L/labs/CSE141pp-Lab-The-PE/notebook.py\u001b[0m in \u001b[0;36mrender_csv\u001b[0;34m(file, columns, sort_by, average_by, skip)\u001b[0m\n\u001b[1;32m    203\u001b[0m \u001b[0;34m\u001b[0m\u001b[0m\n\u001b[1;32m    204\u001b[0m \u001b[0;32mdef\u001b[0m \u001b[0mrender_csv\u001b[0m\u001b[0;34m(\u001b[0m\u001b[0mfile\u001b[0m\u001b[0;34m,\u001b[0m \u001b[0mcolumns\u001b[0m \u001b[0;34m=\u001b[0m \u001b[0;32mNone\u001b[0m\u001b[0;34m,\u001b[0m \u001b[0msort_by\u001b[0m\u001b[0;34m=\u001b[0m\u001b[0;32mNone\u001b[0m\u001b[0;34m,\u001b[0m \u001b[0maverage_by\u001b[0m\u001b[0;34m=\u001b[0m\u001b[0;32mNone\u001b[0m\u001b[0;34m,\u001b[0m \u001b[0mskip\u001b[0m\u001b[0;34m=\u001b[0m\u001b[0;36m0\u001b[0m\u001b[0;34m)\u001b[0m\u001b[0;34m:\u001b[0m\u001b[0;34m\u001b[0m\u001b[0;34m\u001b[0m\u001b[0m\n\u001b[0;32m--> 205\u001b[0;31m     \u001b[0mdf\u001b[0m \u001b[0;34m=\u001b[0m \u001b[0mpd\u001b[0m\u001b[0;34m.\u001b[0m\u001b[0mread_csv\u001b[0m\u001b[0;34m(\u001b[0m\u001b[0mfile\u001b[0m\u001b[0;34m,\u001b[0m \u001b[0msep\u001b[0m\u001b[0;34m=\u001b[0m\u001b[0;34m\",\"\u001b[0m\u001b[0;34m)\u001b[0m\u001b[0;34m\u001b[0m\u001b[0;34m\u001b[0m\u001b[0m\n\u001b[0m\u001b[1;32m    206\u001b[0m     \u001b[0mdf\u001b[0m \u001b[0;34m=\u001b[0m \u001b[0mdf\u001b[0m\u001b[0;34m[\u001b[0m\u001b[0mskip\u001b[0m\u001b[0;34m:\u001b[0m\u001b[0;34m]\u001b[0m\u001b[0;34m\u001b[0m\u001b[0;34m\u001b[0m\u001b[0m\n\u001b[1;32m    207\u001b[0m     \u001b[0;32mif\u001b[0m \u001b[0msort_by\u001b[0m\u001b[0;34m:\u001b[0m\u001b[0;34m\u001b[0m\u001b[0;34m\u001b[0m\u001b[0m\n",
      "\u001b[0;32m/opt/conda/lib/python3.7/site-packages/pandas/util/_decorators.py\u001b[0m in \u001b[0;36mwrapper\u001b[0;34m(*args, **kwargs)\u001b[0m\n\u001b[1;32m    309\u001b[0m                     \u001b[0mstacklevel\u001b[0m\u001b[0;34m=\u001b[0m\u001b[0mstacklevel\u001b[0m\u001b[0;34m,\u001b[0m\u001b[0;34m\u001b[0m\u001b[0;34m\u001b[0m\u001b[0m\n\u001b[1;32m    310\u001b[0m                 )\n\u001b[0;32m--> 311\u001b[0;31m             \u001b[0;32mreturn\u001b[0m \u001b[0mfunc\u001b[0m\u001b[0;34m(\u001b[0m\u001b[0;34m*\u001b[0m\u001b[0margs\u001b[0m\u001b[0;34m,\u001b[0m \u001b[0;34m**\u001b[0m\u001b[0mkwargs\u001b[0m\u001b[0;34m)\u001b[0m\u001b[0;34m\u001b[0m\u001b[0;34m\u001b[0m\u001b[0m\n\u001b[0m\u001b[1;32m    312\u001b[0m \u001b[0;34m\u001b[0m\u001b[0m\n\u001b[1;32m    313\u001b[0m         \u001b[0;32mreturn\u001b[0m \u001b[0mwrapper\u001b[0m\u001b[0;34m\u001b[0m\u001b[0;34m\u001b[0m\u001b[0m\n",
      "\u001b[0;32m/opt/conda/lib/python3.7/site-packages/pandas/io/parsers/readers.py\u001b[0m in \u001b[0;36mread_csv\u001b[0;34m(filepath_or_buffer, sep, delimiter, header, names, index_col, usecols, squeeze, prefix, mangle_dupe_cols, dtype, engine, converters, true_values, false_values, skipinitialspace, skiprows, skipfooter, nrows, na_values, keep_default_na, na_filter, verbose, skip_blank_lines, parse_dates, infer_datetime_format, keep_date_col, date_parser, dayfirst, cache_dates, iterator, chunksize, compression, thousands, decimal, lineterminator, quotechar, quoting, doublequote, escapechar, comment, encoding, encoding_errors, dialect, error_bad_lines, warn_bad_lines, on_bad_lines, delim_whitespace, low_memory, memory_map, float_precision, storage_options)\u001b[0m\n\u001b[1;32m    584\u001b[0m     \u001b[0mkwds\u001b[0m\u001b[0;34m.\u001b[0m\u001b[0mupdate\u001b[0m\u001b[0;34m(\u001b[0m\u001b[0mkwds_defaults\u001b[0m\u001b[0;34m)\u001b[0m\u001b[0;34m\u001b[0m\u001b[0;34m\u001b[0m\u001b[0m\n\u001b[1;32m    585\u001b[0m \u001b[0;34m\u001b[0m\u001b[0m\n\u001b[0;32m--> 586\u001b[0;31m     \u001b[0;32mreturn\u001b[0m \u001b[0m_read\u001b[0m\u001b[0;34m(\u001b[0m\u001b[0mfilepath_or_buffer\u001b[0m\u001b[0;34m,\u001b[0m \u001b[0mkwds\u001b[0m\u001b[0;34m)\u001b[0m\u001b[0;34m\u001b[0m\u001b[0;34m\u001b[0m\u001b[0m\n\u001b[0m\u001b[1;32m    587\u001b[0m \u001b[0;34m\u001b[0m\u001b[0m\n\u001b[1;32m    588\u001b[0m \u001b[0;34m\u001b[0m\u001b[0m\n",
      "\u001b[0;32m/opt/conda/lib/python3.7/site-packages/pandas/io/parsers/readers.py\u001b[0m in \u001b[0;36m_read\u001b[0;34m(filepath_or_buffer, kwds)\u001b[0m\n\u001b[1;32m    480\u001b[0m \u001b[0;34m\u001b[0m\u001b[0m\n\u001b[1;32m    481\u001b[0m     \u001b[0;31m# Create the parser.\u001b[0m\u001b[0;34m\u001b[0m\u001b[0;34m\u001b[0m\u001b[0;34m\u001b[0m\u001b[0m\n\u001b[0;32m--> 482\u001b[0;31m     \u001b[0mparser\u001b[0m \u001b[0;34m=\u001b[0m \u001b[0mTextFileReader\u001b[0m\u001b[0;34m(\u001b[0m\u001b[0mfilepath_or_buffer\u001b[0m\u001b[0;34m,\u001b[0m \u001b[0;34m**\u001b[0m\u001b[0mkwds\u001b[0m\u001b[0;34m)\u001b[0m\u001b[0;34m\u001b[0m\u001b[0;34m\u001b[0m\u001b[0m\n\u001b[0m\u001b[1;32m    483\u001b[0m \u001b[0;34m\u001b[0m\u001b[0m\n\u001b[1;32m    484\u001b[0m     \u001b[0;32mif\u001b[0m \u001b[0mchunksize\u001b[0m \u001b[0;32mor\u001b[0m \u001b[0miterator\u001b[0m\u001b[0;34m:\u001b[0m\u001b[0;34m\u001b[0m\u001b[0;34m\u001b[0m\u001b[0m\n",
      "\u001b[0;32m/opt/conda/lib/python3.7/site-packages/pandas/io/parsers/readers.py\u001b[0m in \u001b[0;36m__init__\u001b[0;34m(self, f, engine, **kwds)\u001b[0m\n\u001b[1;32m    809\u001b[0m             \u001b[0mself\u001b[0m\u001b[0;34m.\u001b[0m\u001b[0moptions\u001b[0m\u001b[0;34m[\u001b[0m\u001b[0;34m\"has_index_names\"\u001b[0m\u001b[0;34m]\u001b[0m \u001b[0;34m=\u001b[0m \u001b[0mkwds\u001b[0m\u001b[0;34m[\u001b[0m\u001b[0;34m\"has_index_names\"\u001b[0m\u001b[0;34m]\u001b[0m\u001b[0;34m\u001b[0m\u001b[0;34m\u001b[0m\u001b[0m\n\u001b[1;32m    810\u001b[0m \u001b[0;34m\u001b[0m\u001b[0m\n\u001b[0;32m--> 811\u001b[0;31m         \u001b[0mself\u001b[0m\u001b[0;34m.\u001b[0m\u001b[0m_engine\u001b[0m \u001b[0;34m=\u001b[0m \u001b[0mself\u001b[0m\u001b[0;34m.\u001b[0m\u001b[0m_make_engine\u001b[0m\u001b[0;34m(\u001b[0m\u001b[0mself\u001b[0m\u001b[0;34m.\u001b[0m\u001b[0mengine\u001b[0m\u001b[0;34m)\u001b[0m\u001b[0;34m\u001b[0m\u001b[0;34m\u001b[0m\u001b[0m\n\u001b[0m\u001b[1;32m    812\u001b[0m \u001b[0;34m\u001b[0m\u001b[0m\n\u001b[1;32m    813\u001b[0m     \u001b[0;32mdef\u001b[0m \u001b[0mclose\u001b[0m\u001b[0;34m(\u001b[0m\u001b[0mself\u001b[0m\u001b[0;34m)\u001b[0m\u001b[0;34m:\u001b[0m\u001b[0;34m\u001b[0m\u001b[0;34m\u001b[0m\u001b[0m\n",
      "\u001b[0;32m/opt/conda/lib/python3.7/site-packages/pandas/io/parsers/readers.py\u001b[0m in \u001b[0;36m_make_engine\u001b[0;34m(self, engine)\u001b[0m\n\u001b[1;32m   1038\u001b[0m             )\n\u001b[1;32m   1039\u001b[0m         \u001b[0;31m# error: Too many arguments for \"ParserBase\"\u001b[0m\u001b[0;34m\u001b[0m\u001b[0;34m\u001b[0m\u001b[0;34m\u001b[0m\u001b[0m\n\u001b[0;32m-> 1040\u001b[0;31m         \u001b[0;32mreturn\u001b[0m \u001b[0mmapping\u001b[0m\u001b[0;34m[\u001b[0m\u001b[0mengine\u001b[0m\u001b[0;34m]\u001b[0m\u001b[0;34m(\u001b[0m\u001b[0mself\u001b[0m\u001b[0;34m.\u001b[0m\u001b[0mf\u001b[0m\u001b[0;34m,\u001b[0m \u001b[0;34m**\u001b[0m\u001b[0mself\u001b[0m\u001b[0;34m.\u001b[0m\u001b[0moptions\u001b[0m\u001b[0;34m)\u001b[0m  \u001b[0;31m# type: ignore[call-arg]\u001b[0m\u001b[0;34m\u001b[0m\u001b[0;34m\u001b[0m\u001b[0m\n\u001b[0m\u001b[1;32m   1041\u001b[0m \u001b[0;34m\u001b[0m\u001b[0m\n\u001b[1;32m   1042\u001b[0m     \u001b[0;32mdef\u001b[0m \u001b[0m_failover_to_python\u001b[0m\u001b[0;34m(\u001b[0m\u001b[0mself\u001b[0m\u001b[0;34m)\u001b[0m\u001b[0;34m:\u001b[0m\u001b[0;34m\u001b[0m\u001b[0;34m\u001b[0m\u001b[0m\n",
      "\u001b[0;32m/opt/conda/lib/python3.7/site-packages/pandas/io/parsers/c_parser_wrapper.py\u001b[0m in \u001b[0;36m__init__\u001b[0;34m(self, src, **kwds)\u001b[0m\n\u001b[1;32m     49\u001b[0m \u001b[0;34m\u001b[0m\u001b[0m\n\u001b[1;32m     50\u001b[0m         \u001b[0;31m# open handles\u001b[0m\u001b[0;34m\u001b[0m\u001b[0;34m\u001b[0m\u001b[0;34m\u001b[0m\u001b[0m\n\u001b[0;32m---> 51\u001b[0;31m         \u001b[0mself\u001b[0m\u001b[0;34m.\u001b[0m\u001b[0m_open_handles\u001b[0m\u001b[0;34m(\u001b[0m\u001b[0msrc\u001b[0m\u001b[0;34m,\u001b[0m \u001b[0mkwds\u001b[0m\u001b[0;34m)\u001b[0m\u001b[0;34m\u001b[0m\u001b[0;34m\u001b[0m\u001b[0m\n\u001b[0m\u001b[1;32m     52\u001b[0m         \u001b[0;32massert\u001b[0m \u001b[0mself\u001b[0m\u001b[0;34m.\u001b[0m\u001b[0mhandles\u001b[0m \u001b[0;32mis\u001b[0m \u001b[0;32mnot\u001b[0m \u001b[0;32mNone\u001b[0m\u001b[0;34m\u001b[0m\u001b[0;34m\u001b[0m\u001b[0m\n\u001b[1;32m     53\u001b[0m \u001b[0;34m\u001b[0m\u001b[0m\n",
      "\u001b[0;32m/opt/conda/lib/python3.7/site-packages/pandas/io/parsers/base_parser.py\u001b[0m in \u001b[0;36m_open_handles\u001b[0;34m(self, src, kwds)\u001b[0m\n\u001b[1;32m    227\u001b[0m             \u001b[0mmemory_map\u001b[0m\u001b[0;34m=\u001b[0m\u001b[0mkwds\u001b[0m\u001b[0;34m.\u001b[0m\u001b[0mget\u001b[0m\u001b[0;34m(\u001b[0m\u001b[0;34m\"memory_map\"\u001b[0m\u001b[0;34m,\u001b[0m \u001b[0;32mFalse\u001b[0m\u001b[0;34m)\u001b[0m\u001b[0;34m,\u001b[0m\u001b[0;34m\u001b[0m\u001b[0;34m\u001b[0m\u001b[0m\n\u001b[1;32m    228\u001b[0m             \u001b[0mstorage_options\u001b[0m\u001b[0;34m=\u001b[0m\u001b[0mkwds\u001b[0m\u001b[0;34m.\u001b[0m\u001b[0mget\u001b[0m\u001b[0;34m(\u001b[0m\u001b[0;34m\"storage_options\"\u001b[0m\u001b[0;34m,\u001b[0m \u001b[0;32mNone\u001b[0m\u001b[0;34m)\u001b[0m\u001b[0;34m,\u001b[0m\u001b[0;34m\u001b[0m\u001b[0;34m\u001b[0m\u001b[0m\n\u001b[0;32m--> 229\u001b[0;31m             \u001b[0merrors\u001b[0m\u001b[0;34m=\u001b[0m\u001b[0mkwds\u001b[0m\u001b[0;34m.\u001b[0m\u001b[0mget\u001b[0m\u001b[0;34m(\u001b[0m\u001b[0;34m\"encoding_errors\"\u001b[0m\u001b[0;34m,\u001b[0m \u001b[0;34m\"strict\"\u001b[0m\u001b[0;34m)\u001b[0m\u001b[0;34m,\u001b[0m\u001b[0;34m\u001b[0m\u001b[0;34m\u001b[0m\u001b[0m\n\u001b[0m\u001b[1;32m    230\u001b[0m         )\n\u001b[1;32m    231\u001b[0m \u001b[0;34m\u001b[0m\u001b[0m\n",
      "\u001b[0;32m/opt/conda/lib/python3.7/site-packages/pandas/io/common.py\u001b[0m in \u001b[0;36mget_handle\u001b[0;34m(path_or_buf, mode, encoding, compression, memory_map, is_text, errors, storage_options)\u001b[0m\n\u001b[1;32m    704\u001b[0m                 \u001b[0mencoding\u001b[0m\u001b[0;34m=\u001b[0m\u001b[0mioargs\u001b[0m\u001b[0;34m.\u001b[0m\u001b[0mencoding\u001b[0m\u001b[0;34m,\u001b[0m\u001b[0;34m\u001b[0m\u001b[0;34m\u001b[0m\u001b[0m\n\u001b[1;32m    705\u001b[0m                 \u001b[0merrors\u001b[0m\u001b[0;34m=\u001b[0m\u001b[0merrors\u001b[0m\u001b[0;34m,\u001b[0m\u001b[0;34m\u001b[0m\u001b[0;34m\u001b[0m\u001b[0m\n\u001b[0;32m--> 706\u001b[0;31m                 \u001b[0mnewline\u001b[0m\u001b[0;34m=\u001b[0m\u001b[0;34m\"\"\u001b[0m\u001b[0;34m,\u001b[0m\u001b[0;34m\u001b[0m\u001b[0;34m\u001b[0m\u001b[0m\n\u001b[0m\u001b[1;32m    707\u001b[0m             )\n\u001b[1;32m    708\u001b[0m         \u001b[0;32melse\u001b[0m\u001b[0;34m:\u001b[0m\u001b[0;34m\u001b[0m\u001b[0;34m\u001b[0m\u001b[0m\n",
      "\u001b[0;31mFileNotFoundError\u001b[0m: [Errno 2] No such file or directory: '300-virus.csv'"
     ]
    }
   ],
   "source": [
    "\n",
    "render_csv(\"300-virus.csv\", columns=['power', 'ET'], average_by=\"cmdlineMHz\")\n",
    "plotPE(\"300-virus.csv\",what=[(\"rep\", \"viruses\"),(\"rep\", \"viruses\"),(\"rep\", \"viruses\"),(\"rep\", \"realMHz\"), ('rep', \"ET\"),\n",
    "                               ('rep', \"power\") ], columns=3\n",
    "      \n",
    "      )"
   ]
  },
  {
   "cell_type": "markdown",
   "metadata": {},
   "source": [
    "The top row of graphs are all the same.  They just show the number of viruses running over time.  They are there so you can see how they align with the graphs below.\n",
    "\n",
    "The next row shows the actual clock rate the processor ran at, execution time, and power consumption."
   ]
  },
  {
   "cell_type": "markdown",
   "metadata": {},
   "source": [
    "<div class=\"question correctness points-2\">\n",
    "\n",
    "<div class=\"question-text\">\n",
    "    \n",
    "Does the `realMHz` graph show evidence of the processor adjusting clock rate in response to number of threads running?  How can you tell?  What's the lowest clock rate the processor runs at?  How many viruses are running when this happens?\n",
    "</div>\n",
    "    \n",
    "<div class=\"answer\">\n",
    "    \n",
    "    #KEY THe answers should match the data.\n",
    "    \n",
    "**Is the processor changing the clock rate?** #KEY yes.\n",
    "\n",
    "**How can you tell?** #KEY clock speed drops and energy plateaus \n",
    "    \n",
    "**What's the lowest clock rate (approximately)?** # KEY 250MHz\n",
    "    \n",
    "**How many viruses are running at that time?** KEY 7\n",
    "    \n",
    "</div>\n",
    "</div>        "
   ]
  },
  {
   "cell_type": "markdown",
   "metadata": {},
   "source": [
    "<div class=\"question completeness\">\n",
    "\n",
    "<div class=\"question-text\">\n",
    "    \n",
    "Consider the range of `realMHz` and the range `ET` present in the graphs.  Either explain the change in ET based on the change in `realMHz` or explain why it doesn't make sense.  Based on the data, is there anything other than a change in `realMHz` that seems to affect `ET`?\n",
    "    \n",
    "</div>\n",
    "    \n",
    "<div class=\"answer\">\n",
    "    \n",
    "</div>\n",
    "\n",
    "</div>\n",
    "    \n",
    "        "
   ]
  },
  {
   "attachments": {
    "image.png": {
     "image/png": "[encoded data removed]"
    }
   },
   "cell_type": "markdown",
   "metadata": {},
   "source": [
    "<div class=\"alert alert-block alert-success\">    \n",
    "\n",
    "**Interesting Question:**  Why does `ET` change suddenly with as thread count increases?\n",
    "    \n",
    "![image.png](attachment:image.png)\n",
    "</div>"
   ]
  },
  {
   "cell_type": "markdown",
   "metadata": {},
   "source": [
    "<div class=\"question completeness\">\n",
    "\n",
    "\n",
    "<div class=\"question-text\">\n",
    "\n",
    "Based on the power graph, do all threads consume roughly the same amount of power (i.e., does the power consumption rise about the same amount as each virus starts up)?  If not, which threads consume less power?\n",
    "\n",
    "</div>\n",
    "    \n",
    "<div class=\"answer\">\n",
    "    \n",
    "</div>\n",
    "\n",
    "</div>"
   ]
  },
  {
   "attachments": {
    "image.png": {
     "image/png": "[encoded data removed]"
    }
   },
   "cell_type": "markdown",
   "metadata": {},
   "source": [
    "<div class=\"alert alert-block alert-success\">    \n",
    "    \n",
    "**Interesting Question:**  Why do the last four threads behave differently with respect to power?\n",
    "    \n",
    "![image.png](attachment:image.png)\n",
    "    \n",
    "</div>"
   ]
  },
  {
   "cell_type": "markdown",
   "metadata": {},
   "source": [
    "#KEY delete cell  Add this for next time.  To late this quarter.  This challenges is a little interesting and it'll shake out the cheaters early.\n",
    "\n",
    "# Programming Assignment\n",
    "\n",
    "The labs will all have a programming assignment as part of them.  The main purpose of this one is to get you familiar with the autograding submission process, but hopefully it'll be a little bit entertaining as well.\n",
    "\n",
    "For the programming assignment, you'll use the \"fiddle\" in the cell below.   You can edit your code there, run the cell, and it'll compile it, run it, and tell you how fast it went.\n",
    "\n",
    "The function you are going to optimize counts the number of times a 4-bit pattern appears in an array of 16-bit numbers.  For instance, consider this list of numbers: \n",
    "\n",
    "```\n",
    "0x1010\n",
    "0xaba4\n",
    "```\n",
    "\n",
    "Which in binary look like\n",
    "\n",
    "```\n",
    "0001 0000 0001 0000\n",
    "1010 1011 1010 0100\n",
    "```\n",
    "\n",
    "And we were looking for this pattern:\n",
    "\n",
    "```\n",
    "0100 (0x4)\n",
    "```\n",
    "\n",
    "The answer would be 4.  It appears twice in the first number and twice in the second.  The code contains a simple implementation."
   ]
  },
  {
   "cell_type": "markdown",
   "metadata": {},
   "source": [
    "# Programming Assignment"
   ]
  },
  {
   "cell_type": "markdown",
   "metadata": {},
   "source": [
    "The labs will all have a programming assignment as part of them.  The main purpose of this one is to get you familiar with the autograding submission process.  It doesn't require any challenging programming.\n",
    "\n",
    "In the lab directory, you'll find `hello_world2.cpp`:"
   ]
  },
  {
   "cell_type": "code",
   "execution_count": 48,
   "metadata": {
    "init_cell": true
   },
   "outputs": [
    {
     "data": {
      "text/html": [
       "<style>.output_html .hll { background-color: #ffffcc }\n",
       ".output_html  { background: #f8f8f8; }\n",
       ".output_html .c { color: #408080; font-style: italic } /* Comment */\n",
       ".output_html .err { border: 1px solid #FF0000 } /* Error */\n",
       ".output_html .k { color: #008000; font-weight: bold } /* Keyword */\n",
       ".output_html .o { color: #666666 } /* Operator */\n",
       ".output_html .ch { color: #408080; font-style: italic } /* Comment.Hashbang */\n",
       ".output_html .cm { color: #408080; font-style: italic } /* Comment.Multiline */\n",
       ".output_html .cp { color: #BC7A00 } /* Comment.Preproc */\n",
       ".output_html .cpf { color: #408080; font-style: italic } /* Comment.PreprocFile */\n",
       ".output_html .c1 { color: #408080; font-style: italic } /* Comment.Single */\n",
       ".output_html .cs { color: #408080; font-style: italic } /* Comment.Special */\n",
       ".output_html .gd { color: #A00000 } /* Generic.Deleted */\n",
       ".output_html .ge { font-style: italic } /* Generic.Emph */\n",
       ".output_html .gr { color: #FF0000 } /* Generic.Error */\n",
       ".output_html .gh { color: #000080; font-weight: bold } /* Generic.Heading */\n",
       ".output_html .gi { color: #00A000 } /* Generic.Inserted */\n",
       ".output_html .go { color: #888888 } /* Generic.Output */\n",
       ".output_html .gp { color: #000080; font-weight: bold } /* Generic.Prompt */\n",
       ".output_html .gs { font-weight: bold } /* Generic.Strong */\n",
       ".output_html .gu { color: #800080; font-weight: bold } /* Generic.Subheading */\n",
       ".output_html .gt { color: #0044DD } /* Generic.Traceback */\n",
       ".output_html .kc { color: #008000; font-weight: bold } /* Keyword.Constant */\n",
       ".output_html .kd { color: #008000; font-weight: bold } /* Keyword.Declaration */\n",
       ".output_html .kn { color: #008000; font-weight: bold } /* Keyword.Namespace */\n",
       ".output_html .kp { color: #008000 } /* Keyword.Pseudo */\n",
       ".output_html .kr { color: #008000; font-weight: bold } /* Keyword.Reserved */\n",
       ".output_html .kt { color: #B00040 } /* Keyword.Type */\n",
       ".output_html .m { color: #666666 } /* Literal.Number */\n",
       ".output_html .s { color: #BA2121 } /* Literal.String */\n",
       ".output_html .na { color: #7D9029 } /* Name.Attribute */\n",
       ".output_html .nb { color: #008000 } /* Name.Builtin */\n",
       ".output_html .nc { color: #0000FF; font-weight: bold } /* Name.Class */\n",
       ".output_html .no { color: #880000 } /* Name.Constant */\n",
       ".output_html .nd { color: #AA22FF } /* Name.Decorator */\n",
       ".output_html .ni { color: #999999; font-weight: bold } /* Name.Entity */\n",
       ".output_html .ne { color: #D2413A; font-weight: bold } /* Name.Exception */\n",
       ".output_html .nf { color: #0000FF } /* Name.Function */\n",
       ".output_html .nl { color: #A0A000 } /* Name.Label */\n",
       ".output_html .nn { color: #0000FF; font-weight: bold } /* Name.Namespace */\n",
       ".output_html .nt { color: #008000; font-weight: bold } /* Name.Tag */\n",
       ".output_html .nv { color: #19177C } /* Name.Variable */\n",
       ".output_html .ow { color: #AA22FF; font-weight: bold } /* Operator.Word */\n",
       ".output_html .w { color: #bbbbbb } /* Text.Whitespace */\n",
       ".output_html .mb { color: #666666 } /* Literal.Number.Bin */\n",
       ".output_html .mf { color: #666666 } /* Literal.Number.Float */\n",
       ".output_html .mh { color: #666666 } /* Literal.Number.Hex */\n",
       ".output_html .mi { color: #666666 } /* Literal.Number.Integer */\n",
       ".output_html .mo { color: #666666 } /* Literal.Number.Oct */\n",
       ".output_html .sa { color: #BA2121 } /* Literal.String.Affix */\n",
       ".output_html .sb { color: #BA2121 } /* Literal.String.Backtick */\n",
       ".output_html .sc { color: #BA2121 } /* Literal.String.Char */\n",
       ".output_html .dl { color: #BA2121 } /* Literal.String.Delimiter */\n",
       ".output_html .sd { color: #BA2121; font-style: italic } /* Literal.String.Doc */\n",
       ".output_html .s2 { color: #BA2121 } /* Literal.String.Double */\n",
       ".output_html .se { color: #BB6622; font-weight: bold } /* Literal.String.Escape */\n",
       ".output_html .sh { color: #BA2121 } /* Literal.String.Heredoc */\n",
       ".output_html .si { color: #BB6688; font-weight: bold } /* Literal.String.Interpol */\n",
       ".output_html .sx { color: #008000 } /* Literal.String.Other */\n",
       ".output_html .sr { color: #BB6688 } /* Literal.String.Regex */\n",
       ".output_html .s1 { color: #BA2121 } /* Literal.String.Single */\n",
       ".output_html .ss { color: #19177C } /* Literal.String.Symbol */\n",
       ".output_html .bp { color: #008000 } /* Name.Builtin.Pseudo */\n",
       ".output_html .fm { color: #0000FF } /* Name.Function.Magic */\n",
       ".output_html .vc { color: #19177C } /* Name.Variable.Class */\n",
       ".output_html .vg { color: #19177C } /* Name.Variable.Global */\n",
       ".output_html .vi { color: #19177C } /* Name.Variable.Instance */\n",
       ".output_html .vm { color: #19177C } /* Name.Variable.Magic */\n",
       ".output_html .il { color: #666666 } /* Literal.Number.Integer.Long */</style><div class=\"highlight\"><pre><span></span><span class=\"c1\">// hello_world2.cpp:3-9 (7 lines)</span>\n",
       "<span class=\"kt\">int</span> <span class=\"nf\">main</span><span class=\"p\">(</span><span class=\"kt\">int</span> <span class=\"n\">argc</span><span class=\"p\">,</span> <span class=\"kt\">char</span> <span class=\"o\">*</span><span class=\"n\">argv</span><span class=\"p\">[])</span>\n",
       "<span class=\"p\">{</span>\n",
       "\t<span class=\"n\">std</span><span class=\"o\">::</span><span class=\"n\">ofstream</span> <span class=\"n\">ofs</span> <span class=\"p\">(</span><span class=\"s\">&quot;hello.txt&quot;</span><span class=\"p\">,</span> <span class=\"n\">std</span><span class=\"o\">::</span><span class=\"n\">ofstream</span><span class=\"o\">::</span><span class=\"n\">out</span><span class=\"p\">);</span>\n",
       "\t<span class=\"n\">ofs</span> <span class=\"o\">&lt;&lt;</span> <span class=\"s\">&quot;Hello cse142L!</span><span class=\"se\">\\n</span><span class=\"s\">&quot;</span><span class=\"p\">;</span>\n",
       "\t<span class=\"n\">ofs</span><span class=\"p\">.</span><span class=\"n\">close</span><span class=\"p\">();</span>\n",
       "\t<span class=\"k\">return</span> <span class=\"mi\">0</span><span class=\"p\">;</span>  \n",
       "<span class=\"p\">}</span>\n",
       "</pre></div>\n"
      ],
      "text/latex": [
       "\\begin{Verbatim}[commandchars=\\\\\\{\\}]\n",
       "\\PY{c+c1}{// hello\\PYZus{}world2.cpp:3\\PYZhy{}9 (7 lines)}\n",
       "\\PY{k+kt}{int} \\PY{n+nf}{main}\\PY{p}{(}\\PY{k+kt}{int} \\PY{n}{argc}\\PY{p}{,} \\PY{k+kt}{char} \\PY{o}{*}\\PY{n}{argv}\\PY{p}{[}\\PY{p}{]}\\PY{p}{)}\n",
       "\\PY{p}{\\PYZob{}}\n",
       "\t\\PY{n}{std}\\PY{o}{:}\\PY{o}{:}\\PY{n}{ofstream} \\PY{n}{ofs} \\PY{p}{(}\\PY{l+s}{\\PYZdq{}}\\PY{l+s}{hello.txt}\\PY{l+s}{\\PYZdq{}}\\PY{p}{,} \\PY{n}{std}\\PY{o}{:}\\PY{o}{:}\\PY{n}{ofstream}\\PY{o}{:}\\PY{o}{:}\\PY{n}{out}\\PY{p}{)}\\PY{p}{;}\n",
       "\t\\PY{n}{ofs} \\PY{o}{\\PYZlt{}}\\PY{o}{\\PYZlt{}} \\PY{l+s}{\\PYZdq{}}\\PY{l+s}{Hello cse142L!}\\PY{l+s+se}{\\PYZbs{}n}\\PY{l+s}{\\PYZdq{}}\\PY{p}{;}\n",
       "\t\\PY{n}{ofs}\\PY{p}{.}\\PY{n}{close}\\PY{p}{(}\\PY{p}{)}\\PY{p}{;}\n",
       "\t\\PY{k}{return} \\PY{l+m+mi}{0}\\PY{p}{;}  \n",
       "\\PY{p}{\\PYZcb{}}\n",
       "\\end{Verbatim}\n"
      ],
      "text/plain": [
       "// hello_world2.cpp:3-9 (7 lines)\n",
       "int main(int argc, char *argv[])\n",
       "{\n",
       "\tstd::ofstream ofs (\"hello.txt\", std::ofstream::out);\n",
       "\tofs << \"Hello cse142L!\\n\";\n",
       "\tofs.close();\n",
       "\treturn 0;  \n",
       "}"
      ]
     },
     "metadata": {},
     "output_type": "display_data"
    }
   ],
   "source": [
    "render_code(\"hello_world2.cpp\", show=\"main\")"
   ]
  },
  {
   "cell_type": "markdown",
   "metadata": {},
   "source": [
    " Edit it so that it always writes \n",
    "\n",
    "```\n",
    "Hello <your @ucsd.edu email address>!\n",
    "```\n",
    "\n",
    "to the file. \n",
    "You can test it with:"
   ]
  },
  {
   "cell_type": "code",
   "execution_count": 49,
   "metadata": {},
   "outputs": [
    {
     "name": "stdout",
     "output_type": "stream",
     "text": [
      "make: 'hello_world2.exe' is up to date.\n",
      "Hello cse142L!\n"
     ]
    }
   ],
   "source": [
    "!make hello_world2.exe\n",
    "!./hello_world2.exe\n",
    "!cat hello.txt"
   ]
  },
  {
   "cell_type": "markdown",
   "metadata": {},
   "source": [
    "And test it in the cloud like so:"
   ]
  },
  {
   "cell_type": "code",
   "execution_count": 50,
   "metadata": {},
   "outputs": [
    {
     "name": "stdout",
     "output_type": "stream",
     "text": [
      "You are submitting a job for lab \"Lab 1: The Performance Equation\" (intro).\u001b[0m\n",
      "Creating job db5dc524-e45b-486a-ba37-0e70a2770e29 0.00 0.00\n",
      "Ready for submission. 16.70 16.70\n",
      "Job db5dc524-e45b-486a-ba37-0e70a2770e29 is in state 'PUBLISHED'. 0.73 17.43 \n",
      "Job db5dc524-e45b-486a-ba37-0e70a2770e29 is in state 'RUNNING'. 1.14 18.57. \n",
      "Job db5dc524-e45b-486a-ba37-0e70a2770e29 is in state 'DONE_RUNNING'. 2.15 20.72. \n",
      "Job db5dc524-e45b-486a-ba37-0e70a2770e29 succeeded. 2.13 22.85Writing results 0.97 23.82\n",
      "Updated these files: ./hello.txt\n",
      "Job Complete 0.43 24.25\n"
     ]
    }
   ],
   "source": [
    "!cse142 job run ./hello_world2.exe"
   ]
  },
  {
   "cell_type": "markdown",
   "metadata": {},
   "source": [
    "When your submit your code for autograding, it'll run in a more tightly controlled way that let's us reliably measure performance and grade your submission. You can simulate it like this:"
   ]
  },
  {
   "cell_type": "code",
   "execution_count": 51,
   "metadata": {},
   "outputs": [
    {
     "name": "stdout",
     "output_type": "stream",
     "text": [
      "You are submitting a job for lab \"Lab 1: The Performance Equation (Benchmark)\" (intro-bench).\u001b[0m\n",
      "\u001b[33mYou are running a autograde job.  Here's what will get run:\u001b[0m\n",
      "\u001b[38;5;240m  git clone --branch tng https://github.com/NVSL/CSE141pp-Lab-Introduction-to-the-Development-Environment.git autograde\u001b[0m\n",
      "\u001b[38;5;240m  make -C autograde copy-files autograde\u001b[0m\n",
      "\u001b[33mThe outputs will appear in the 'autograde' directory.  Check STUDENT_EDITABLE_FILES in Makefile to see what source files will be copied over.\u001b[0m\n",
      "Creating job e0ae72d8-5522-4328-8399-40ef6fca810b 0.00 0.00\n",
      "Ready for submission. 15.61 15.61\n",
      "Job e0ae72d8-5522-4328-8399-40ef6fca810b is in state 'PUBLISHED'. 0.61 16.22 \n",
      "Job e0ae72d8-5522-4328-8399-40ef6fca810b is in state 'RUNNING'. 1.06 17.28... \n",
      "Job e0ae72d8-5522-4328-8399-40ef6fca810b is in state 'DONE_RUNNING'. 4.25 21.53. \n",
      "Job e0ae72d8-5522-4328-8399-40ef6fca810b succeeded. 2.13 23.66Writing results 1.00 24.66\n",
      "make: Entering directory '/tmp/djr_scratch/tmp66z13ws9/autograde'\n",
      "for i in hello_world2.cpp; do if [ -e /tmp/djr_scratch/tmp66z13ws9/./$i ]; then (cp /tmp/djr_scratch/tmp66z13ws9/./$i  ./ || true) else true; fi;done\n",
      "mkdir -p build/\n",
      "cp hello_world2.cpp build/hello_world2.cpp \n",
      "gcc-8 -c -Wall -Werror -g      -fPIC -pthread  -I/cse142L/cse141pp-archlab/libarchlab -I/cse142L/cse141pp-archlab -I/usr/local/include -I/cse142L/CSE141pp-SimpleCNN/googletest/googletest/include -I/cse142L/CSE141pp-SimpleCNN  -Ibuild/  -I/cse142L/CSE141pp-Tool-Moneta/moneta/  -I. -MMD   build/hello_world2.cpp -o build/hello_world2.o\n",
      "g++-8 build/hello_world2.o    -pthread   -L/usr/local/lib -L/cse142L/cse141pp-archlab/libarchlab -larchlab -lpapi -lboost_program_options -lm -lquadmath -ldl    -o hello_world2.exe\n",
      "./hello_world2.exe\n",
      "make: Leaving directory '/tmp/djr_scratch/tmp66z13ws9/autograde'\n",
      "Updated these files: ./autograde/build/hello_world2.cpp\n",
      "./autograde/build/hello_world2.d\n",
      "./autograde/build/hello_world2.o\n",
      "./autograde/hello.txt\n",
      "./autograde/hello_world2.cpp\n",
      "./autograde/hello_world2.exe\n",
      "Job Complete 0.54 25.21\n"
     ]
    }
   ],
   "source": [
    "!cse142 job run --lab intro-bench autograde"
   ]
  },
  {
   "cell_type": "markdown",
   "metadata": {},
   "source": [
    "The results of an `autograde` run end up in the `autograde` directory.  Once it's done, you can check the results just like the auto grader dose with:"
   ]
  },
  {
   "cell_type": "code",
   "execution_count": 47,
   "metadata": {},
   "outputs": [
    {
     "name": "stdout",
     "output_type": "stream",
     "text": [
      "{\r\n",
      "    \"output\": \"The autograder ran.\",\r\n",
      "    \"stdout_visibility\": \"visible\",\r\n",
      "    \"tests\": [\r\n",
      "        {\r\n",
      "            \"max_score\": 1,\r\n",
      "            \"number\": \"1\",\r\n",
      "            \"output\": \"Hello cse142L!\",\r\n",
      "            \"score\": 0,\r\n",
      "            \"tags\": [],\r\n",
      "            \"visibility\": \"visible\"\r\n",
      "        }\r\n",
      "    ],\r\n",
      "    \"visibility\": \"visible\"\r\n",
      "}"
     ]
    }
   ],
   "source": [
    "!./autograde.py --submission autograde --results -"
   ]
  },
  {
   "cell_type": "markdown",
   "metadata": {},
   "source": [
    "If you ran the original code, it gets zero points (`\"score\": 0`).  Once you correctly modify `hello_world2.cpp`, you'll get 1 point.\n",
    "\n",
    "Once you are happy with your code, commit your changes to `hello_world2.cpp`.  You'll have to do this to turn it for official autograding."
   ]
  },
  {
   "cell_type": "code",
   "execution_count": 7,
   "metadata": {},
   "outputs": [
    {
     "name": "stdout",
     "output_type": "stream",
     "text": [
      "On branch fa21-starter\n",
      "Your branch is ahead of 'origin/fa21-starter' by 5 commits.\n",
      "  (use \"git push\" to publish your local commits)\n",
      "\n",
      "Changes not staged for commit:\n",
      "\t\u001b[31mmodified:   Lab-key.ipynb\u001b[m\n",
      "\t\u001b[31mmodified:   notebook.py\u001b[m\n",
      "\n",
      "Untracked files:\n",
      "\t\u001b[31mLab.ipynb\u001b[m\n",
      "\n",
      "no changes added to commit\n",
      "Counting objects: 12, done.\n",
      "Delta compression using up to 12 threads.\n",
      "Compressing objects: 100% (12/12), done.\n",
      "Writing objects: 100% (12/12), 1.23 KiB | 97.00 KiB/s, done.\n",
      "Total 12 (delta 7), reused 0 (delta 0)\n",
      "remote: Resolving deltas: 100% (7/7), completed with 3 local objects.\u001b[K\n",
      "To github.com:NVSL/CSE141pp-Lab-The-PE.git\n",
      "   6604601..7f2a828  fa21-starter -> fa21-starter\n"
     ]
    }
   ],
   "source": [
    "!git add hello_world2.cpp\n",
    "!git commit -m \"Yay! I finished the first lab!\"\n",
    "!git push"
   ]
  },
  {
   "cell_type": "markdown",
   "metadata": {},
   "source": [
    "# Recap\n",
    "\n",
    "This lab has collected real data to understand the how the performance equation, the power equation, and Amdahl's law apply to some simple programs.  This exploration presented the following questions:\n",
    "\n",
    "* Why does increasing the size of array change `CPI`?\n",
    "* How can clock rate affect `CPI`?\n",
    "* How and why do the datatypes we use change `IC` and  `CPI`?\n",
    "* Why does the order in which the program performs calculations affect `CPI`?\n",
    "* Why does `ET` change suddenly with as thread count increases?\n",
    "* Why are the last four threads behave differently in terms of power?\n",
    "\n",
    "Throughout the rest of the course and the labs, we'll find answers to most of these and see how can use those answers to make better use of modern processors."
   ]
  },
  {
   "cell_type": "markdown",
   "metadata": {},
   "source": [
    "<div class=\"question completeness\"> \n",
    "\n",
    "<div class=\"question-text\">\n",
    "\n",
    "Which of these questions do you find most interesting and why?\n",
    "    \n",
    "</div>\n",
    "    \n",
    "<div class=\"answer\">\n",
    "#KEY Anything remotely like an answer is fine.\n",
    "</div>\n",
    "</div>"
   ]
  },
  {
   "cell_type": "markdown",
   "metadata": {},
   "source": [
    "<div class=\"question completeness\"> \n",
    "\n",
    "<div class=\"question-text\">\n",
    "\n",
    "Give three other questions you have after completing this lab.\n",
    " \n",
    "</div>\n",
    "    \n",
    "<div class=\"answer\">\n",
    "\n",
    "1. question 1\n",
    "2. question 2 \n",
    "3. question 3\n",
    "    \n",
    "#KEY Anything remotely like an answer is fine.\n",
    "</div>\n",
    "</div>"
   ]
  },
  {
   "cell_type": "markdown",
   "metadata": {},
   "source": [
    "#KEY include Turnin.ipynb"
   ]
  },
  {
   "cell_type": "code",
   "execution_count": 1,
   "metadata": {
    "init_cell": true
   },
   "outputs": [],
   "source": [
    "# This cell runs automatically.  Don't edit it. \n",
    "from notebook import *"
   ]
  }
 ],
 "metadata": {
  "celltoolbar": "Initialization Cell",
  "kernelspec": {
   "display_name": "Python 3",
   "language": "python",
   "name": "python3"
  },
  "language_info": {
   "codemirror_mode": {
    "name": "ipython",
    "version": 3
   },
   "file_extension": ".py",
   "mimetype": "text/x-python",
   "name": "python",
   "nbconvert_exporter": "python",
   "pygments_lexer": "ipython3",
   "version": "3.7.6"
  },
  "toc": {
   "base_numbering": 1,
   "nav_menu": {},
   "number_sections": true,
   "sideBar": true,
   "skip_h1_title": false,
   "title_cell": "Table of Contents",
   "title_sidebar": "Contents",
   "toc_cell": false,
   "toc_position": {
    "height": "calc(100% - 180px)",
    "left": "10px",
    "top": "150px",
    "width": "347.188px"
   },
   "toc_section_display": true,
   "toc_window_display": true
  }
 },
 "nbformat": 4,
 "nbformat_minor": 4
}
